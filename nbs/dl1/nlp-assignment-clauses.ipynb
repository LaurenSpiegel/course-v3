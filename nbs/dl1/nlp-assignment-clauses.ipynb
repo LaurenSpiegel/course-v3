{
 "cells": [
  {
   "cell_type": "code",
   "execution_count": 1,
   "metadata": {},
   "outputs": [],
   "source": [
    "%reload_ext autoreload\n",
    "%autoreload 2\n",
    "%matplotlib inline"
   ]
  },
  {
   "cell_type": "code",
   "execution_count": 2,
   "metadata": {},
   "outputs": [],
   "source": [
    "from fastai import *\n",
    "from fastai.text import *"
   ]
  },
  {
   "cell_type": "markdown",
   "metadata": {},
   "source": [
    "## Set up Data for Language Model"
   ]
  },
  {
   "cell_type": "code",
   "execution_count": 3,
   "metadata": {},
   "outputs": [],
   "source": [
    "path = Path('data/assignments')"
   ]
  },
  {
   "cell_type": "code",
   "execution_count": 4,
   "metadata": {},
   "outputs": [
    {
     "data": {
      "text/plain": [
       "[PosixPath('data/assignments/labeled_assignment_clauses.csv'),\n",
       " PosixPath('data/assignments/assignment_clauses.json')]"
      ]
     },
     "execution_count": 4,
     "metadata": {},
     "output_type": "execute_result"
    }
   ],
   "source": [
    "path.ls()"
   ]
  },
  {
   "cell_type": "code",
   "execution_count": 5,
   "metadata": {},
   "outputs": [],
   "source": [
    "df = pd.read_json(path/'assignment_clauses.json')"
   ]
  },
  {
   "cell_type": "code",
   "execution_count": 7,
   "metadata": {},
   "outputs": [],
   "source": [
    "pd.set_option('max_colwidth', -1)"
   ]
  },
  {
   "cell_type": "code",
   "execution_count": 8,
   "metadata": {},
   "outputs": [
    {
     "data": {
      "text/html": [
       "<div>\n",
       "<style scoped>\n",
       "    .dataframe tbody tr th:only-of-type {\n",
       "        vertical-align: middle;\n",
       "    }\n",
       "\n",
       "    .dataframe tbody tr th {\n",
       "        vertical-align: top;\n",
       "    }\n",
       "\n",
       "    .dataframe thead th {\n",
       "        text-align: right;\n",
       "    }\n",
       "</style>\n",
       "<table border=\"1\" class=\"dataframe\">\n",
       "  <thead>\n",
       "    <tr style=\"text-align: right;\">\n",
       "      <th></th>\n",
       "      <th>snippet</th>\n",
       "    </tr>\n",
       "  </thead>\n",
       "  <tbody>\n",
       "    <tr>\n",
       "      <th>0</th>\n",
       "      <td>Neither this Agreement nor any of the rights, interests or obligations hereunder shall be assigned by any of the parties hereto (whether by operation of law or otherwise) without the prior written consent of the other parties. Subject to the preceding sentence, this Agreement will be binding upon, inure to the benefit of and be enforceable by the parties and their respective successors and assigns.\\n</td>\n",
       "    </tr>\n",
       "    <tr>\n",
       "      <th>1</th>\n",
       "      <td>This Agreement will be binding upon and inure to the benefit of (a) the heirs, executors and legal representatives of Executive upon Executives death and (b) any successor of the Company. Any such successor of the Company will be deemed substituted for the Company under the terms of this Agreement for all purposes. For this purpose, successor means any person, firm, corporation or other business entity which at any time, whether by purchase, merger or otherwise, directly or indirectly acquires all or substantially all of the assets or business of the Company. None of the rights of Executive to receive any form of compensation payable pursuant to this Agreement may be assigned or transferred except by will or the laws of descent and distribution. Any other attempted assignment, transfer, conveyance or other disposition of Executives right to compensation or other benefits will be null and void.\\n</td>\n",
       "    </tr>\n",
       "    <tr>\n",
       "      <th>2</th>\n",
       "      <td>The Company shall assign this Agreement and its rights and obligations hereunder in whole, but not in part, to any corporation or other entity with or into which the Company may hereafter merge or consolidate or to which the Company may transfer all or substantially all of its assets, if in any such case said corporation or other entity shall by operation of law or expressly in writing assume all obligations of the Company hereunder as fully as if it had been originally made a party hereto; the Company may not otherwise assign this Agreement or its rights and obligations hereunder. Executive may not assign or transfer this Agreement or any rights or obligations hereunder.\\n</td>\n",
       "    </tr>\n",
       "    <tr>\n",
       "      <th>3</th>\n",
       "      <td>Neither this Agreement nor any right, remedy, obligation nor liability arising hereunder or by reason hereof shall be assignable by any party hereto without the prior written consent of the other party, and any attempt to assign any right, remedy, obligation or liability hereunder without such consent shall be void, except (a) an assignment, in the case of a Business Combination where such party is not the surviving entity, or a sale of substantially all of its assets, to the entity which is the survivor of such Business Combination or the purchaser in such sale and (b) as provided in Section 4.5.\\n</td>\n",
       "    </tr>\n",
       "    <tr>\n",
       "      <th>4</th>\n",
       "      <td>The Company will have the right at all times to assign any of its rights or obligations under this Indenture to a direct or indirect wholly owned Subsidiary of the Company, provided that, in the event of any such assignment, the Company will remain liable for all such obligations. Subject to the foregoing, this Indenture is binding upon and inures to the benefit of the parties hereto and their respective successors and assigns. This Indenture may not otherwise be assigned by the parties hereto.\\n</td>\n",
       "    </tr>\n",
       "  </tbody>\n",
       "</table>\n",
       "</div>"
      ],
      "text/plain": [
       "                                                                                                                                                                                                                                                                                                                                                                                                                                                                                                                                                                                                                                                                                                                                                                                                                                                                                                                                              snippet\n",
       "0  Neither this Agreement nor any of the rights, interests or obligations hereunder shall be assigned by any of the parties hereto (whether by operation of law or otherwise) without the prior written consent of the other parties. Subject to the preceding sentence, this Agreement will be binding upon, inure to the benefit of and be enforceable by the parties and their respective successors and assigns.\\n                                                                                                                                                                                                                                                                                                                                                                                                                                                                                                                               \n",
       "1  This Agreement will be binding upon and inure to the benefit of (a) the heirs, executors and legal representatives of Executive upon Executives death and (b) any successor of the Company. Any such successor of the Company will be deemed substituted for the Company under the terms of this Agreement for all purposes. For this purpose, successor means any person, firm, corporation or other business entity which at any time, whether by purchase, merger or otherwise, directly or indirectly acquires all or substantially all of the assets or business of the Company. None of the rights of Executive to receive any form of compensation payable pursuant to this Agreement may be assigned or transferred except by will or the laws of descent and distribution. Any other attempted assignment, transfer, conveyance or other disposition of Executives right to compensation or other benefits will be null and void.\\n      \n",
       "2  The Company shall assign this Agreement and its rights and obligations hereunder in whole, but not in part, to any corporation or other entity with or into which the Company may hereafter merge or consolidate or to which the Company may transfer all or substantially all of its assets, if in any such case said corporation or other entity shall by operation of law or expressly in writing assume all obligations of the Company hereunder as fully as if it had been originally made a party hereto; the Company may not otherwise assign this Agreement or its rights and obligations hereunder. Executive may not assign or transfer this Agreement or any rights or obligations hereunder.\\n                                                                                                                                                                                                                                        \n",
       "3  Neither this Agreement nor any right, remedy, obligation nor liability arising hereunder or by reason hereof shall be assignable by any party hereto without the prior written consent of the other party, and any attempt to assign any right, remedy, obligation or liability hereunder without such consent shall be void, except (a) an assignment, in the case of a Business Combination where such party is not the surviving entity, or a sale of substantially all of its assets, to the entity which is the survivor of such Business Combination or the purchaser in such sale and (b) as provided in Section 4.5.\\n                                                                                                                                                                                                                                                                                                                    \n",
       "4  The Company will have the right at all times to assign any of its rights or obligations under this Indenture to a direct or indirect wholly owned Subsidiary of the Company, provided that, in the event of any such assignment, the Company will remain liable for all such obligations. Subject to the foregoing, this Indenture is binding upon and inures to the benefit of the parties hereto and their respective successors and assigns. This Indenture may not otherwise be assigned by the parties hereto.\\n                                                                                                                                                                                                                                                                                                                                                                                                                             "
      ]
     },
     "execution_count": 8,
     "metadata": {},
     "output_type": "execute_result"
    }
   ],
   "source": [
    "df.head(5)"
   ]
  },
  {
   "cell_type": "code",
   "execution_count": 9,
   "metadata": {},
   "outputs": [
    {
     "data": {
      "text/plain": [
       "snippet    4435\n",
       "dtype: int64"
      ]
     },
     "execution_count": 9,
     "metadata": {},
     "output_type": "execute_result"
    }
   ],
   "source": [
    "df.count()"
   ]
  },
  {
   "cell_type": "code",
   "execution_count": 10,
   "metadata": {},
   "outputs": [],
   "source": [
    "bs=24"
   ]
  },
  {
   "cell_type": "code",
   "execution_count": 16,
   "metadata": {},
   "outputs": [],
   "source": [
    "data_lm = (TextList.from_df(df, path=path)                           \n",
    "            .random_split_by_pct(0.1)\n",
    "           #We randomly split and keep 10% for validation\n",
    "            .label_for_lm()           \n",
    "           #We want to do a language model so we label accordingly\n",
    "            .databunch(bs=bs))\n",
    "data_lm.save('tmp_lm')"
   ]
  },
  {
   "cell_type": "code",
   "execution_count": 17,
   "metadata": {},
   "outputs": [],
   "source": [
    "data_lm = TextLMDataBunch.load(path, 'tmp_lm', bs=bs)"
   ]
  },
  {
   "cell_type": "code",
   "execution_count": 18,
   "metadata": {},
   "outputs": [
    {
     "data": {
      "text/html": [
       "<table>  <col width='5%'>  <col width='95%'>  <tr>\n",
       "    <th>idx</th>\n",
       "    <th>text</th>\n",
       "  </tr>\n",
       "  <tr>\n",
       "    <th>0</th>\n",
       "    <th>xxbos xxmaj neither party hereto shall assign its rights or obligations hereunder , in whole or in part , without the prior written consent of the other party . \\n  xxbos xxmaj this xxmaj note shall be binding upon each party and its permitted successors and assigns . xxmaj this xxmaj note may not be assigned by xxmaj borrower . \\n  xxbos xxmaj assignor does hereby transfer , assign , grant , and convey to xxmaj assignee , its successors and assigns , all of the right , title and interest of xxmaj assignor in</th>\n",
       "  </tr>\n",
       "  <tr>\n",
       "    <th>1</th>\n",
       "    <th>any portion of its respective duties hereunder unless it continues to remain liable for the performance of its obligations hereunder . xxmaj no such assignment or obligation shall increase the burden on xxmaj seller or impose any duty on xxmaj seller to xxunk with or report to any transferee , and xxmaj seller may continue to look to xxmaj buyer for all purposes under this xxmaj agreement . \\n  xxbos xxmaj xxunk xxmaj systems hereby consents to the assignment of the xxunk xxmaj license and the xxmaj xxunk xxmaj license from xxmaj national to xxmaj</th>\n",
       "  </tr>\n",
       "  <tr>\n",
       "    <th>2</th>\n",
       "    <th>. xxmaj it is understood and agreed that xxmaj porter xxmaj capital is not assuming any of the responsibilities or obligations of the xxmaj company under such xxmaj accounts xxmaj receivable , but that it is xxunk taking an assignment of the right to be paid on such xxmaj accounts xxmaj receivable which the xxmaj company has fulfilled in the ordinary course of its business operations . xxmaj commercial xxmaj financing xxmaj agreement \\n  xxbos xxmaj assignor hereby agrees to assign its entire right , title and interest in the xxmaj leases to xxmaj assignee</th>\n",
       "  </tr>\n",
       "  <tr>\n",
       "    <th>3</th>\n",
       "    <th>the xxmaj restrictive xxmaj covenants xxmaj agreement without requiring your consent ; provided , however , that an assignment that occurs after the termination of your employment will not xxunk in any manner the scope of the xxmaj restrictive xxmaj covenants xxmaj agreement . xxmaj as used herein , \" successor \" will mean any person , firm , corporation or other business entity that at any time , whether by purchase , merger or otherwise , directly or indirectly acquires all or substantially all of the assets or business of the xxmaj company .</th>\n",
       "  </tr>\n",
       "  <tr>\n",
       "    <th>4</th>\n",
       "    <th>under the xxmaj merger xxmaj agreement . \\n  xxbos xxmaj this xxmaj note may not be assigned without the prior express written consent of xxmaj maker , which may be withheld by xxmaj maker in xxmaj makers sole discretion . \\n  xxbos xxmaj this xxmaj agreement is binding on the parties and their successors and permitted assigns . \\n  xxbos xxmaj xxunk hereby conveys , sells , assigns , transfers , and delivers to xxunk , as the designee of xxmaj xxunk , all of xxmaj xxunk 's right , title and interest in and</th>\n",
       "  </tr>\n",
       "  <tr>\n",
       "    <th>5</th>\n",
       "    <th>this xxmaj agreement without xxup itc 's prior written consent . \\n  xxbos xxmaj seller shall not assign any of its rights or interest in this xxmaj agreement or any xxmaj order , or subcontract all or substantially all of its performance of this xxmaj agreement or any xxmaj order , without xxmaj boeing 's prior written consent , which shall not be unreasonably withheld , except that xxmaj boeing may withhold its consent to an assignment to a xxmaj xxunk xxmaj person ( as defined below ) for any reason and at its sole</th>\n",
       "  </tr>\n",
       "  <tr>\n",
       "    <th>6</th>\n",
       "    <th>and all security deposits or xxunk of rents relating thereto or arising therefrom ; ( c ) all plans , specifications , and engineering drawings of the xxup leased xxup property ; ( d ) all permits and licenses including , without limitation , all occupancy permits necessary for the occupancy and operation of the xxup leased xxup property as a commercial office building and related facility ; and ( e ) all material agreements ( xxup material xxup agreements ) relating to the leasing , ownership , operation , or maintenance of the xxup</th>\n",
       "  </tr>\n",
       "  <tr>\n",
       "    <th>7</th>\n",
       "    <th>foundation with documentation executed by the assignee or transferee that confirms its agreement to be bound by the terms and provisions of this xxmaj agreement . \\n  xxbos xxmaj effective as of the closing date of the xxup xxunk xxup ipo , all rights and obligations of xxup xxunk under the xxmaj agreement shall , without any further action by the parties hereto or any other xxmaj person , be assigned to xxup xxunk . \\n  xxbos xxmaj xxunk may not assign this xxmaj agreement , or assign his rights or delegate his duties hereunder</th>\n",
       "  </tr>\n",
       "  <tr>\n",
       "    <th>8</th>\n",
       "    <th>and permitted assigns of the parties hereto . xxmaj the xxmaj holder may not assign , pledge or otherwise transfer this xxmaj note or any interest therein without the prior written consent of the xxmaj company . \\n  xxbos xxmaj the benefits of this xxmaj agreement are and shall be personal to xxmaj weidner , and none thereof shall inure to the benefit of his heirs , personal representatives or assigns . xxmaj this xxmaj agreement may not be assigned by xxmaj weidner , but xxmaj weidner may delegate to another the performance of his</th>\n",
       "  </tr>\n",
       "  <tr>\n",
       "    <th>9</th>\n",
       "    <th>xxmaj holders under this xxmaj section 3 shall be assignable only to any xxmaj permitted xxmaj transferee or their xxmaj affiliates or any other transferee or assignee who ( together with its xxmaj permitted xxmaj transferees and / or xxmaj affiliates including any person for whom such xxmaj holding ( or any of its affiliates ) acts as investment advisor or investment manager ) , following such transfer or assignment , xxunk owns at least 100,000 shares of xxmaj common xxmaj stock ( including the shares of xxmaj common xxmaj stock into which any xxmaj</th>\n",
       "  </tr>\n",
       "</table>\n"
      ],
      "text/plain": [
       "<IPython.core.display.HTML object>"
      ]
     },
     "metadata": {},
     "output_type": "display_data"
    }
   ],
   "source": [
    "data_lm.show_batch()"
   ]
  },
  {
   "cell_type": "code",
   "execution_count": 19,
   "metadata": {},
   "outputs": [
    {
     "data": {
      "text/plain": [
       "['xxunk',\n",
       " 'xxpad',\n",
       " 'xxmaj',\n",
       " 'the',\n",
       " ',',\n",
       " 'of',\n",
       " 'and',\n",
       " 'to',\n",
       " 'or',\n",
       " '.',\n",
       " 'this',\n",
       " 'agreement',\n",
       " 'any',\n",
       " 'in',\n",
       " 'xxbos',\n",
       " '\\n ',\n",
       " 'be',\n",
       " 'xxup',\n",
       " 'shall',\n",
       " 'by',\n",
       " 'may',\n",
       " 'assign',\n",
       " 'not',\n",
       " 'rights',\n",
       " 'consent',\n",
       " 'its',\n",
       " ')',\n",
       " 'without',\n",
       " 'all',\n",
       " '(']"
      ]
     },
     "execution_count": 19,
     "metadata": {},
     "output_type": "execute_result"
    }
   ],
   "source": [
    "data_lm.vocab.itos[:30]"
   ]
  },
  {
   "cell_type": "markdown",
   "metadata": {},
   "source": [
    "## Train Language Model"
   ]
  },
  {
   "cell_type": "code",
   "execution_count": 20,
   "metadata": {},
   "outputs": [],
   "source": [
    "learn = language_model_learner(data_lm, pretrained_model=URLs.WT103, drop_mult=0.3)"
   ]
  },
  {
   "cell_type": "code",
   "execution_count": 21,
   "metadata": {},
   "outputs": [
    {
     "name": "stdout",
     "output_type": "stream",
     "text": [
      "LR Finder is complete, type {learner_name}.recorder.plot() to see the graph.\n"
     ]
    }
   ],
   "source": [
    "learn.lr_find()"
   ]
  },
  {
   "cell_type": "code",
   "execution_count": 22,
   "metadata": {},
   "outputs": [
    {
     "data": {
      "image/png": "[encoded data removed]",
      "text/plain": [
       "<Figure size 432x288 with 1 Axes>"
      ]
     },
     "metadata": {
      "needs_background": "light"
     },
     "output_type": "display_data"
    }
   ],
   "source": [
    "learn.recorder.plot()"
   ]
  },
  {
   "cell_type": "code",
   "execution_count": 23,
   "metadata": {},
   "outputs": [
    {
     "name": "stdout",
     "output_type": "stream",
     "text": [
      "Total time: 00:09\n",
      "epoch  train_loss  valid_loss  accuracy\n",
      "1      3.254548    2.853068    0.420656  (00:09)\n",
      "\n"
     ]
    }
   ],
   "source": [
    "learn.fit_one_cycle(1, 1e-1, moms=(0.8,0.7))"
   ]
  },
  {
   "cell_type": "code",
   "execution_count": 24,
   "metadata": {},
   "outputs": [],
   "source": [
    "learn.save('k-assignments-1')"
   ]
  },
  {
   "cell_type": "code",
   "execution_count": 26,
   "metadata": {},
   "outputs": [
    {
     "name": "stdout",
     "output_type": "stream",
     "text": [
      "Total time: 00:04\n",
      "\n"
     ]
    },
    {
     "data": {
      "text/plain": [
       "'notwithstanding the term was of the \" ( i i - the \" this section 3 one of the \" in the entire day of the period on behalf and the \" any of xxup contract to the following the majority , along with up a member , as - their respective conditions if not less than during the media , that such third party , the following they of its corresponding , in return of the following a second trust to the extent , and reference to the \" for a two the following the \" vice hereon and after'"
      ]
     },
     "execution_count": 26,
     "metadata": {},
     "output_type": "execute_result"
    }
   ],
   "source": [
    "learn.predict('notwithstanding', 100, no_unk=True, temperature=1.1, min_p=0.001)"
   ]
  },
  {
   "cell_type": "code",
   "execution_count": 27,
   "metadata": {},
   "outputs": [
    {
     "name": "stdout",
     "output_type": "stream",
     "text": [
      "Total time: 00:09\n",
      "epoch  train_loss  valid_loss  accuracy\n",
      "1      3.138941    2.851676    0.420630  (00:09)\n",
      "\n"
     ]
    }
   ],
   "source": [
    "learn.fit_one_cycle(1, 1e-1, moms=(0.8,0.7))"
   ]
  },
  {
   "cell_type": "code",
   "execution_count": 28,
   "metadata": {},
   "outputs": [
    {
     "name": "stdout",
     "output_type": "stream",
     "text": [
      "Total time: 00:09\n",
      "epoch  train_loss  valid_loss  accuracy\n",
      "1      3.162827    2.867443    0.418725  (00:09)\n",
      "\n"
     ]
    }
   ],
   "source": [
    "learn.fit_one_cycle(1, 1e-1, moms=(0.8,0.7))"
   ]
  },
  {
   "cell_type": "code",
   "execution_count": 29,
   "metadata": {},
   "outputs": [
    {
     "name": "stdout",
     "output_type": "stream",
     "text": [
      "Total time: 00:09\n",
      "epoch  train_loss  valid_loss  accuracy\n",
      "1      3.148642    2.863177    0.420769  (00:09)\n",
      "\n"
     ]
    }
   ],
   "source": [
    "learn.fit_one_cycle(1, 1e-1, moms=(0.8,0.7))"
   ]
  },
  {
   "cell_type": "code",
   "execution_count": 30,
   "metadata": {},
   "outputs": [
    {
     "name": "stdout",
     "output_type": "stream",
     "text": [
      "Total time: 00:09\n",
      "epoch  train_loss  valid_loss  accuracy\n",
      "1      3.131271    2.883626    0.416764  (00:09)\n",
      "\n"
     ]
    }
   ],
   "source": [
    "learn.fit_one_cycle(1, 1e-1, moms=(0.8,0.7))"
   ]
  },
  {
   "cell_type": "code",
   "execution_count": 31,
   "metadata": {},
   "outputs": [
    {
     "data": {
      "text/plain": [
       "LanguageLearner(data=TextLMDataBunch;\n",
       "Train: LabelList\n",
       "y: LMLabel (3992 items)\n",
       "[Category 0, Category 0, Category 0, Category 0, Category 0]...\n",
       "Path: .\n",
       "x: LMTextList (3992 items)\n",
       "[Text xxbos xxmaj neither this xxmaj agreement nor any of the rights , interests or obligations hereunder shall be assigned by any of the parties hereto ( whether by operation of law or otherwise ) without the prior written consent of the other parties . xxmaj subject to the preceding sentence , this xxmaj agreement will be binding upon , inure to the benefit of and be enforceable by the parties and their respective successors and assigns . \n",
       " , Text xxbos xxmaj this xxmaj agreement will be binding upon and inure to the benefit of ( a ) the heirs , executors and legal representatives of xxmaj executive upon xxmaj executives death and ( b ) any successor of the xxmaj company . xxmaj any such successor of the xxmaj company will be deemed substituted for the xxmaj company under the terms of this xxmaj agreement for all purposes . xxmaj for this purpose , successor means any person , firm , corporation or other business entity which at any time , whether by purchase , merger or otherwise , directly or indirectly acquires all or substantially all of the assets or business of the xxmaj company . xxmaj none of the rights of xxmaj executive to receive any form of compensation payable pursuant to this xxmaj agreement may be assigned or transferred except by will or the laws of descent and distribution . xxmaj any other attempted assignment , transfer , conveyance or other disposition of xxmaj executives right to compensation or other benefits will be null and void . \n",
       " , Text xxbos xxmaj the xxmaj company shall assign this xxmaj agreement and its rights and obligations hereunder in whole , but not in part , to any corporation or other entity with or into which the xxmaj company may hereafter merge or consolidate or to which the xxmaj company may transfer all or substantially all of its assets , if in any such case said corporation or other entity shall by operation of law or expressly in writing assume all obligations of the xxmaj company hereunder as fully as if it had been originally made a party hereto ; the xxmaj company may not otherwise assign this xxmaj agreement or its rights and obligations hereunder . xxmaj executive may not assign or transfer this xxmaj agreement or any rights or obligations hereunder . \n",
       " , Text xxbos xxmaj neither this xxmaj agreement nor any right , remedy , obligation nor liability arising hereunder or by reason hereof shall be assignable by any party hereto without the prior written consent of the other party , and any attempt to assign any right , remedy , obligation or liability hereunder without such consent shall be void , except ( a ) an assignment , in the case of a xxmaj business xxmaj combination where such party is not the surviving entity , or a sale of substantially all of its assets , to the entity which is the xxunk of such xxmaj business xxmaj combination or the purchaser in such sale and ( b ) as provided in xxmaj section 4.5 . \n",
       " , Text xxbos xxmaj the xxmaj company will have the right at all times to assign any of its rights or obligations under this xxmaj indenture to a direct or indirect wholly owned xxmaj subsidiary of the xxmaj company , provided that , in the event of any such assignment , the xxmaj company will remain liable for all such obligations . xxmaj subject to the foregoing , this xxmaj indenture is binding upon and inures to the benefit of the parties hereto and their respective successors and assigns . xxmaj this xxmaj indenture may not otherwise be assigned by the parties hereto . \n",
       " ]...\n",
       "Path: data/assignments;\n",
       "Valid: LabelList\n",
       "y: LMLabel (443 items)\n",
       "[Category 0, Category 0, Category 0, Category 0, Category 0]...\n",
       "Path: .\n",
       "x: LMTextList (443 items)\n",
       "[Text xxbos xxmaj grantor hereby grants to xxmaj beneficiary a present , absolute assignment of the xxmaj leases and xxmaj rents . xxmaj while any xxmaj event of xxmaj default exists , xxmaj beneficiary shall be entitled to ( a ) notify any person that the xxmaj leases have been assigned to xxmaj beneficiary and that all xxmaj rents are to be paid directly to xxmaj beneficiary , whether or not xxmaj trustee or xxmaj beneficiary has commenced or completed foreclosure or taken possession of the xxmaj mortgaged xxmaj property ; ( b ) xxunk , xxunk , release , extend the time of payment of , and make xxunk , xxunk and xxunk of any xxmaj rents or other obligations under the xxmaj leases ; ( c ) enforce payment of xxmaj rents and other rights under the xxmaj leases , prosecute any action or proceeding , and defend against any claim with respect to xxmaj rents and xxmaj leases ; ( d ) enter upon , take possession of and operate the xxmaj mortgaged xxmaj property ; ( e ) lease all or any part of the xxmaj mortgaged xxmaj property ; and / or ( f ) perform any and all obligations of xxmaj grantor under the xxmaj leases and exercise any and all rights of xxmaj grantor therein contained to the full extent of xxmaj grantors rights and obligations thereunder , with or without the xxunk of any action or the appointment of a receiver . xxmaj for so long as no xxmaj event of xxmaj default exists , xxmaj grantor shall have a xxunk license to deal with and enjoy the rights otherwise described in the preceding sentence . \n",
       " , Text xxbos xxmaj except as provided in xxmaj letter xxmaj agreement xxmaj no . xxup xxunk - xxunk xxunk , the rights and obligations described in this xxmaj letter xxmaj agreement are provided to xxmaj customer in consideration of xxmaj customer 's * * * . \n",
       " , Text xxbos xxmaj this xxmaj agreement may not be assigned by any party without the written consent of the other parties and the prior approval of the xxmaj north xxmaj xxunk xxmaj insurance xxmaj department , xxmaj xxunk xxmaj insurance xxmaj department , xxmaj xxunk xxmaj insurance xxmaj department and xxmaj california xxmaj insurance xxmaj department , to the extent such approval is required . \n",
       " , Text xxbos xxmaj xxunk may assign its rights under this xxmaj agreement to any successor in interest , whether by merger , consolidation , sale of assets , or otherwise . xxmaj this xxmaj agreement shall be binding whether it is between xxmaj xxunk and xxmaj executive or between any successor or assignee of xxmaj xxunk or affiliate thereof and xxmaj executive . \n",
       " , Text xxbos xxmaj this xxmaj option xxmaj agreement and the rights granted hereunder may be assigned by xxmaj producer to any other person , firm or corporation , without the consent of the xxmaj writer . \n",
       " ]...\n",
       "Path: data/assignments;\n",
       "Test: None, model=SequentialRNN(\n",
       "  (0): RNNCore(\n",
       "    (encoder): Embedding(3264, 400, padding_idx=1)\n",
       "    (encoder_dp): EmbeddingDropout(\n",
       "      (emb): Embedding(3264, 400, padding_idx=1)\n",
       "    )\n",
       "    (rnns): ModuleList(\n",
       "      (0): WeightDropout(\n",
       "        (module): LSTM(400, 1150)\n",
       "      )\n",
       "      (1): WeightDropout(\n",
       "        (module): LSTM(1150, 1150)\n",
       "      )\n",
       "      (2): WeightDropout(\n",
       "        (module): LSTM(1150, 400)\n",
       "      )\n",
       "    )\n",
       "    (input_dp): RNNDropout()\n",
       "    (hidden_dps): ModuleList(\n",
       "      (0): RNNDropout()\n",
       "      (1): RNNDropout()\n",
       "      (2): RNNDropout()\n",
       "    )\n",
       "  )\n",
       "  (1): LinearDecoder(\n",
       "    (decoder): Linear(in_features=400, out_features=3264, bias=True)\n",
       "    (output_dp): RNNDropout()\n",
       "  )\n",
       "), opt_func=functools.partial(<class 'torch.optim.adam.Adam'>, betas=(0.9, 0.99)), loss_func=<function cross_entropy at 0x7f44cc058d08>, metrics=[<function accuracy at 0x7f44c5603d90>], true_wd=True, bn_wd=True, wd=0.01, train_bn=True, path=PosixPath('data/assignments'), model_dir='models', callback_fns=[<class 'fastai.basic_train.Recorder'>], callbacks=[RNNTrainer(learn=LanguageLearner(data=TextLMDataBunch;\n",
       "Train: LabelList\n",
       "y: LMLabel (3992 items)\n",
       "[Category 0, Category 0, Category 0, Category 0, Category 0]...\n",
       "Path: .\n",
       "x: LMTextList (3992 items)\n",
       "[Text xxbos xxmaj neither this xxmaj agreement nor any of the rights , interests or obligations hereunder shall be assigned by any of the parties hereto ( whether by operation of law or otherwise ) without the prior written consent of the other parties . xxmaj subject to the preceding sentence , this xxmaj agreement will be binding upon , inure to the benefit of and be enforceable by the parties and their respective successors and assigns . \n",
       " , Text xxbos xxmaj this xxmaj agreement will be binding upon and inure to the benefit of ( a ) the heirs , executors and legal representatives of xxmaj executive upon xxmaj executives death and ( b ) any successor of the xxmaj company . xxmaj any such successor of the xxmaj company will be deemed substituted for the xxmaj company under the terms of this xxmaj agreement for all purposes . xxmaj for this purpose , successor means any person , firm , corporation or other business entity which at any time , whether by purchase , merger or otherwise , directly or indirectly acquires all or substantially all of the assets or business of the xxmaj company . xxmaj none of the rights of xxmaj executive to receive any form of compensation payable pursuant to this xxmaj agreement may be assigned or transferred except by will or the laws of descent and distribution . xxmaj any other attempted assignment , transfer , conveyance or other disposition of xxmaj executives right to compensation or other benefits will be null and void . \n",
       " , Text xxbos xxmaj the xxmaj company shall assign this xxmaj agreement and its rights and obligations hereunder in whole , but not in part , to any corporation or other entity with or into which the xxmaj company may hereafter merge or consolidate or to which the xxmaj company may transfer all or substantially all of its assets , if in any such case said corporation or other entity shall by operation of law or expressly in writing assume all obligations of the xxmaj company hereunder as fully as if it had been originally made a party hereto ; the xxmaj company may not otherwise assign this xxmaj agreement or its rights and obligations hereunder . xxmaj executive may not assign or transfer this xxmaj agreement or any rights or obligations hereunder . \n",
       " , Text xxbos xxmaj neither this xxmaj agreement nor any right , remedy , obligation nor liability arising hereunder or by reason hereof shall be assignable by any party hereto without the prior written consent of the other party , and any attempt to assign any right , remedy , obligation or liability hereunder without such consent shall be void , except ( a ) an assignment , in the case of a xxmaj business xxmaj combination where such party is not the surviving entity , or a sale of substantially all of its assets , to the entity which is the xxunk of such xxmaj business xxmaj combination or the purchaser in such sale and ( b ) as provided in xxmaj section 4.5 . \n",
       " , Text xxbos xxmaj the xxmaj company will have the right at all times to assign any of its rights or obligations under this xxmaj indenture to a direct or indirect wholly owned xxmaj subsidiary of the xxmaj company , provided that , in the event of any such assignment , the xxmaj company will remain liable for all such obligations . xxmaj subject to the foregoing , this xxmaj indenture is binding upon and inures to the benefit of the parties hereto and their respective successors and assigns . xxmaj this xxmaj indenture may not otherwise be assigned by the parties hereto . \n",
       " ]...\n",
       "Path: data/assignments;\n",
       "Valid: LabelList\n",
       "y: LMLabel (443 items)\n",
       "[Category 0, Category 0, Category 0, Category 0, Category 0]...\n",
       "Path: .\n",
       "x: LMTextList (443 items)\n",
       "[Text xxbos xxmaj grantor hereby grants to xxmaj beneficiary a present , absolute assignment of the xxmaj leases and xxmaj rents . xxmaj while any xxmaj event of xxmaj default exists , xxmaj beneficiary shall be entitled to ( a ) notify any person that the xxmaj leases have been assigned to xxmaj beneficiary and that all xxmaj rents are to be paid directly to xxmaj beneficiary , whether or not xxmaj trustee or xxmaj beneficiary has commenced or completed foreclosure or taken possession of the xxmaj mortgaged xxmaj property ; ( b ) xxunk , xxunk , release , extend the time of payment of , and make xxunk , xxunk and xxunk of any xxmaj rents or other obligations under the xxmaj leases ; ( c ) enforce payment of xxmaj rents and other rights under the xxmaj leases , prosecute any action or proceeding , and defend against any claim with respect to xxmaj rents and xxmaj leases ; ( d ) enter upon , take possession of and operate the xxmaj mortgaged xxmaj property ; ( e ) lease all or any part of the xxmaj mortgaged xxmaj property ; and / or ( f ) perform any and all obligations of xxmaj grantor under the xxmaj leases and exercise any and all rights of xxmaj grantor therein contained to the full extent of xxmaj grantors rights and obligations thereunder , with or without the xxunk of any action or the appointment of a receiver . xxmaj for so long as no xxmaj event of xxmaj default exists , xxmaj grantor shall have a xxunk license to deal with and enjoy the rights otherwise described in the preceding sentence . \n",
       " , Text xxbos xxmaj except as provided in xxmaj letter xxmaj agreement xxmaj no . xxup xxunk - xxunk xxunk , the rights and obligations described in this xxmaj letter xxmaj agreement are provided to xxmaj customer in consideration of xxmaj customer 's * * * . \n",
       " , Text xxbos xxmaj this xxmaj agreement may not be assigned by any party without the written consent of the other parties and the prior approval of the xxmaj north xxmaj xxunk xxmaj insurance xxmaj department , xxmaj xxunk xxmaj insurance xxmaj department , xxmaj xxunk xxmaj insurance xxmaj department and xxmaj california xxmaj insurance xxmaj department , to the extent such approval is required . \n",
       " , Text xxbos xxmaj xxunk may assign its rights under this xxmaj agreement to any successor in interest , whether by merger , consolidation , sale of assets , or otherwise . xxmaj this xxmaj agreement shall be binding whether it is between xxmaj xxunk and xxmaj executive or between any successor or assignee of xxmaj xxunk or affiliate thereof and xxmaj executive . \n",
       " , Text xxbos xxmaj this xxmaj option xxmaj agreement and the rights granted hereunder may be assigned by xxmaj producer to any other person , firm or corporation , without the consent of the xxmaj writer . \n",
       " ]...\n",
       "Path: data/assignments;\n",
       "Test: None, model=SequentialRNN(\n",
       "  (0): RNNCore(\n",
       "    (encoder): Embedding(3264, 400, padding_idx=1)\n",
       "    (encoder_dp): EmbeddingDropout(\n",
       "      (emb): Embedding(3264, 400, padding_idx=1)\n",
       "    )\n",
       "    (rnns): ModuleList(\n",
       "      (0): WeightDropout(\n",
       "        (module): LSTM(400, 1150)\n",
       "      )\n",
       "      (1): WeightDropout(\n",
       "        (module): LSTM(1150, 1150)\n",
       "      )\n",
       "      (2): WeightDropout(\n",
       "        (module): LSTM(1150, 400)\n",
       "      )\n",
       "    )\n",
       "    (input_dp): RNNDropout()\n",
       "    (hidden_dps): ModuleList(\n",
       "      (0): RNNDropout()\n",
       "      (1): RNNDropout()\n",
       "      (2): RNNDropout()\n",
       "    )\n",
       "  )\n",
       "  (1): LinearDecoder(\n",
       "    (decoder): Linear(in_features=400, out_features=3264, bias=True)\n",
       "    (output_dp): RNNDropout()\n",
       "  )\n",
       "), opt_func=functools.partial(<class 'torch.optim.adam.Adam'>, betas=(0.9, 0.99)), loss_func=<function cross_entropy at 0x7f44cc058d08>, metrics=[<function accuracy at 0x7f44c5603d90>], true_wd=True, bn_wd=True, wd=0.01, train_bn=True, path=PosixPath('data/assignments'), model_dir='models', callback_fns=[<class 'fastai.basic_train.Recorder'>], callbacks=[...], layer_groups=[Sequential(\n",
       "  (0): WeightDropout(\n",
       "    (module): LSTM(400, 1150)\n",
       "  )\n",
       "  (1): RNNDropout()\n",
       "), Sequential(\n",
       "  (0): WeightDropout(\n",
       "    (module): LSTM(1150, 1150)\n",
       "  )\n",
       "  (1): RNNDropout()\n",
       "), Sequential(\n",
       "  (0): WeightDropout(\n",
       "    (module): LSTM(1150, 400)\n",
       "  )\n",
       "  (1): RNNDropout()\n",
       "), Sequential(\n",
       "  (0): Embedding(3264, 400, padding_idx=1)\n",
       "  (1): EmbeddingDropout(\n",
       "    (emb): Embedding(3264, 400, padding_idx=1)\n",
       "  )\n",
       "  (2): LinearDecoder(\n",
       "    (decoder): Linear(in_features=400, out_features=3264, bias=True)\n",
       "    (output_dp): RNNDropout()\n",
       "  )\n",
       ")]), bptt=70, alpha=2.0, beta=1.0, adjust=False)], layer_groups=[Sequential(\n",
       "  (0): WeightDropout(\n",
       "    (module): LSTM(400, 1150)\n",
       "  )\n",
       "  (1): RNNDropout()\n",
       "), Sequential(\n",
       "  (0): WeightDropout(\n",
       "    (module): LSTM(1150, 1150)\n",
       "  )\n",
       "  (1): RNNDropout()\n",
       "), Sequential(\n",
       "  (0): WeightDropout(\n",
       "    (module): LSTM(1150, 400)\n",
       "  )\n",
       "  (1): RNNDropout()\n",
       "), Sequential(\n",
       "  (0): Embedding(3264, 400, padding_idx=1)\n",
       "  (1): EmbeddingDropout(\n",
       "    (emb): Embedding(3264, 400, padding_idx=1)\n",
       "  )\n",
       "  (2): LinearDecoder(\n",
       "    (decoder): Linear(in_features=400, out_features=3264, bias=True)\n",
       "    (output_dp): RNNDropout()\n",
       "  )\n",
       ")])"
      ]
     },
     "execution_count": 31,
     "metadata": {},
     "output_type": "execute_result"
    }
   ],
   "source": [
    "learn.load('k-assignments-1')"
   ]
  },
  {
   "cell_type": "code",
   "execution_count": 32,
   "metadata": {},
   "outputs": [],
   "source": [
    "learn.unfreeze()"
   ]
  },
  {
   "cell_type": "code",
   "execution_count": 33,
   "metadata": {},
   "outputs": [
    {
     "name": "stdout",
     "output_type": "stream",
     "text": [
      "LR Finder is complete, type {learner_name}.recorder.plot() to see the graph.\n"
     ]
    }
   ],
   "source": [
    "learn.lr_find()"
   ]
  },
  {
   "cell_type": "code",
   "execution_count": 34,
   "metadata": {},
   "outputs": [
    {
     "data": {
      "image/png": "[encoded data removed]",
      "text/plain": [
       "<Figure size 432x288 with 1 Axes>"
      ]
     },
     "metadata": {
      "needs_background": "light"
     },
     "output_type": "display_data"
    }
   ],
   "source": [
    "learn.recorder.plot()"
   ]
  },
  {
   "cell_type": "code",
   "execution_count": 35,
   "metadata": {},
   "outputs": [
    {
     "name": "stdout",
     "output_type": "stream",
     "text": [
      "Total time: 00:24\n",
      "epoch  train_loss  valid_loss  accuracy\n",
      "1      2.606138    2.470792    0.470432  (00:12)\n",
      "2      2.170570    2.287044    0.502067  (00:12)\n",
      "\n"
     ]
    }
   ],
   "source": [
    "learn.fit_one_cycle(2, 1e-2, moms=(0.8,0.7))"
   ]
  },
  {
   "cell_type": "code",
   "execution_count": 36,
   "metadata": {},
   "outputs": [],
   "source": [
    "learn.save('k-assignments-2')"
   ]
  },
  {
   "cell_type": "code",
   "execution_count": 37,
   "metadata": {},
   "outputs": [],
   "source": [
    "learn.save_encoder('k-assignments-2-enc')"
   ]
  },
  {
   "cell_type": "code",
   "execution_count": 38,
   "metadata": {},
   "outputs": [
    {
     "name": "stdout",
     "output_type": "stream",
     "text": [
      "Total time: 00:23\n",
      "epoch  train_loss  valid_loss  accuracy\n",
      "1      2.179564    2.361124    0.486772  (00:12)\n",
      "2      1.806149    2.241193    0.511683  (00:11)\n",
      "\n"
     ]
    }
   ],
   "source": [
    "learn.fit_one_cycle(2, 1e-2, moms=(0.8,0.7))"
   ]
  },
  {
   "cell_type": "code",
   "execution_count": 39,
   "metadata": {},
   "outputs": [],
   "source": [
    "learn.save('k-assignments-3')"
   ]
  },
  {
   "cell_type": "code",
   "execution_count": 40,
   "metadata": {},
   "outputs": [],
   "source": [
    "learn.save_encoder('k-assignments-3-enc')"
   ]
  },
  {
   "cell_type": "code",
   "execution_count": 41,
   "metadata": {},
   "outputs": [
    {
     "name": "stdout",
     "output_type": "stream",
     "text": [
      "Total time: 00:24\n",
      "epoch  train_loss  valid_loss  accuracy\n",
      "1      1.879713    2.321534    0.498011  (00:12)\n",
      "2      1.495428    2.272219    0.517060  (00:11)\n",
      "\n"
     ]
    }
   ],
   "source": [
    "learn.fit_one_cycle(2, 1e-2, moms=(0.8,0.7))"
   ]
  },
  {
   "cell_type": "code",
   "execution_count": 42,
   "metadata": {},
   "outputs": [
    {
     "name": "stdout",
     "output_type": "stream",
     "text": [
      "Total time: 00:24\n",
      "epoch  train_loss  valid_loss  accuracy\n",
      "1      1.617301    2.349110    0.499111  (00:12)\n",
      "2      1.251274    2.358005    0.514669  (00:11)\n",
      "\n"
     ]
    }
   ],
   "source": [
    "learn.fit_one_cycle(2, 1e-2, moms=(0.8,0.7))"
   ]
  },
  {
   "cell_type": "code",
   "execution_count": 43,
   "metadata": {},
   "outputs": [
    {
     "name": "stdout",
     "output_type": "stream",
     "text": [
      "Total time: 00:24\n",
      "epoch  train_loss  valid_loss  accuracy\n",
      "1      1.409118    2.420218    0.500794  (00:11)\n",
      "2      1.083869    2.458496    0.510001  (00:12)\n",
      "\n"
     ]
    }
   ],
   "source": [
    "learn.fit_one_cycle(2, 1e-2, moms=(0.8,0.7))"
   ]
  },
  {
   "cell_type": "code",
   "execution_count": 44,
   "metadata": {},
   "outputs": [
    {
     "name": "stdout",
     "output_type": "stream",
     "text": [
      "Total time: 00:23\n",
      "epoch  train_loss  valid_loss  accuracy\n",
      "1      1.254049    2.498752    0.495656  (00:11)\n",
      "2      0.958348    2.533711    0.507232  (00:12)\n",
      "\n"
     ]
    }
   ],
   "source": [
    "learn.fit_one_cycle(2, 1e-2, moms=(0.8,0.7))"
   ]
  },
  {
   "cell_type": "code",
   "execution_count": 45,
   "metadata": {},
   "outputs": [
    {
     "name": "stdout",
     "output_type": "stream",
     "text": [
      "Total time: 00:24\n",
      "epoch  train_loss  valid_loss  accuracy\n",
      "1      1.132203    2.538743    0.495808  (00:12)\n",
      "2      0.840581    2.556821    0.510425  (00:12)\n",
      "\n"
     ]
    }
   ],
   "source": [
    "learn.fit_one_cycle(2, 1e-2, moms=(0.8,0.7))"
   ]
  },
  {
   "cell_type": "code",
   "execution_count": 46,
   "metadata": {},
   "outputs": [
    {
     "name": "stdout",
     "output_type": "stream",
     "text": [
      "Total time: 00:24\n",
      "epoch  train_loss  valid_loss  accuracy\n",
      "1      1.049114    2.585950    0.495436  (00:12)\n",
      "2      0.768369    2.638693    0.505780  (00:12)\n",
      "\n"
     ]
    }
   ],
   "source": [
    "learn.fit_one_cycle(2, 1e-2, moms=(0.8,0.7))"
   ]
  },
  {
   "cell_type": "code",
   "execution_count": 47,
   "metadata": {},
   "outputs": [
    {
     "data": {
      "text/plain": [
       "LanguageLearner(data=TextLMDataBunch;\n",
       "Train: LabelList\n",
       "y: LMLabel (3992 items)\n",
       "[Category 0, Category 0, Category 0, Category 0, Category 0]...\n",
       "Path: .\n",
       "x: LMTextList (3992 items)\n",
       "[Text xxbos xxmaj neither this xxmaj agreement nor any of the rights , interests or obligations hereunder shall be assigned by any of the parties hereto ( whether by operation of law or otherwise ) without the prior written consent of the other parties . xxmaj subject to the preceding sentence , this xxmaj agreement will be binding upon , inure to the benefit of and be enforceable by the parties and their respective successors and assigns . \n",
       " , Text xxbos xxmaj this xxmaj agreement will be binding upon and inure to the benefit of ( a ) the heirs , executors and legal representatives of xxmaj executive upon xxmaj executives death and ( b ) any successor of the xxmaj company . xxmaj any such successor of the xxmaj company will be deemed substituted for the xxmaj company under the terms of this xxmaj agreement for all purposes . xxmaj for this purpose , successor means any person , firm , corporation or other business entity which at any time , whether by purchase , merger or otherwise , directly or indirectly acquires all or substantially all of the assets or business of the xxmaj company . xxmaj none of the rights of xxmaj executive to receive any form of compensation payable pursuant to this xxmaj agreement may be assigned or transferred except by will or the laws of descent and distribution . xxmaj any other attempted assignment , transfer , conveyance or other disposition of xxmaj executives right to compensation or other benefits will be null and void . \n",
       " , Text xxbos xxmaj the xxmaj company shall assign this xxmaj agreement and its rights and obligations hereunder in whole , but not in part , to any corporation or other entity with or into which the xxmaj company may hereafter merge or consolidate or to which the xxmaj company may transfer all or substantially all of its assets , if in any such case said corporation or other entity shall by operation of law or expressly in writing assume all obligations of the xxmaj company hereunder as fully as if it had been originally made a party hereto ; the xxmaj company may not otherwise assign this xxmaj agreement or its rights and obligations hereunder . xxmaj executive may not assign or transfer this xxmaj agreement or any rights or obligations hereunder . \n",
       " , Text xxbos xxmaj neither this xxmaj agreement nor any right , remedy , obligation nor liability arising hereunder or by reason hereof shall be assignable by any party hereto without the prior written consent of the other party , and any attempt to assign any right , remedy , obligation or liability hereunder without such consent shall be void , except ( a ) an assignment , in the case of a xxmaj business xxmaj combination where such party is not the surviving entity , or a sale of substantially all of its assets , to the entity which is the xxunk of such xxmaj business xxmaj combination or the purchaser in such sale and ( b ) as provided in xxmaj section 4.5 . \n",
       " , Text xxbos xxmaj the xxmaj company will have the right at all times to assign any of its rights or obligations under this xxmaj indenture to a direct or indirect wholly owned xxmaj subsidiary of the xxmaj company , provided that , in the event of any such assignment , the xxmaj company will remain liable for all such obligations . xxmaj subject to the foregoing , this xxmaj indenture is binding upon and inures to the benefit of the parties hereto and their respective successors and assigns . xxmaj this xxmaj indenture may not otherwise be assigned by the parties hereto . \n",
       " ]...\n",
       "Path: data/assignments;\n",
       "Valid: LabelList\n",
       "y: LMLabel (443 items)\n",
       "[Category 0, Category 0, Category 0, Category 0, Category 0]...\n",
       "Path: .\n",
       "x: LMTextList (443 items)\n",
       "[Text xxbos xxmaj grantor hereby grants to xxmaj beneficiary a present , absolute assignment of the xxmaj leases and xxmaj rents . xxmaj while any xxmaj event of xxmaj default exists , xxmaj beneficiary shall be entitled to ( a ) notify any person that the xxmaj leases have been assigned to xxmaj beneficiary and that all xxmaj rents are to be paid directly to xxmaj beneficiary , whether or not xxmaj trustee or xxmaj beneficiary has commenced or completed foreclosure or taken possession of the xxmaj mortgaged xxmaj property ; ( b ) xxunk , xxunk , release , extend the time of payment of , and make xxunk , xxunk and xxunk of any xxmaj rents or other obligations under the xxmaj leases ; ( c ) enforce payment of xxmaj rents and other rights under the xxmaj leases , prosecute any action or proceeding , and defend against any claim with respect to xxmaj rents and xxmaj leases ; ( d ) enter upon , take possession of and operate the xxmaj mortgaged xxmaj property ; ( e ) lease all or any part of the xxmaj mortgaged xxmaj property ; and / or ( f ) perform any and all obligations of xxmaj grantor under the xxmaj leases and exercise any and all rights of xxmaj grantor therein contained to the full extent of xxmaj grantors rights and obligations thereunder , with or without the xxunk of any action or the appointment of a receiver . xxmaj for so long as no xxmaj event of xxmaj default exists , xxmaj grantor shall have a xxunk license to deal with and enjoy the rights otherwise described in the preceding sentence . \n",
       " , Text xxbos xxmaj except as provided in xxmaj letter xxmaj agreement xxmaj no . xxup xxunk - xxunk xxunk , the rights and obligations described in this xxmaj letter xxmaj agreement are provided to xxmaj customer in consideration of xxmaj customer 's * * * . \n",
       " , Text xxbos xxmaj this xxmaj agreement may not be assigned by any party without the written consent of the other parties and the prior approval of the xxmaj north xxmaj xxunk xxmaj insurance xxmaj department , xxmaj xxunk xxmaj insurance xxmaj department , xxmaj xxunk xxmaj insurance xxmaj department and xxmaj california xxmaj insurance xxmaj department , to the extent such approval is required . \n",
       " , Text xxbos xxmaj xxunk may assign its rights under this xxmaj agreement to any successor in interest , whether by merger , consolidation , sale of assets , or otherwise . xxmaj this xxmaj agreement shall be binding whether it is between xxmaj xxunk and xxmaj executive or between any successor or assignee of xxmaj xxunk or affiliate thereof and xxmaj executive . \n",
       " , Text xxbos xxmaj this xxmaj option xxmaj agreement and the rights granted hereunder may be assigned by xxmaj producer to any other person , firm or corporation , without the consent of the xxmaj writer . \n",
       " ]...\n",
       "Path: data/assignments;\n",
       "Test: None, model=SequentialRNN(\n",
       "  (0): RNNCore(\n",
       "    (encoder): Embedding(3264, 400, padding_idx=1)\n",
       "    (encoder_dp): EmbeddingDropout(\n",
       "      (emb): Embedding(3264, 400, padding_idx=1)\n",
       "    )\n",
       "    (rnns): ModuleList(\n",
       "      (0): WeightDropout(\n",
       "        (module): LSTM(400, 1150)\n",
       "      )\n",
       "      (1): WeightDropout(\n",
       "        (module): LSTM(1150, 1150)\n",
       "      )\n",
       "      (2): WeightDropout(\n",
       "        (module): LSTM(1150, 400)\n",
       "      )\n",
       "    )\n",
       "    (input_dp): RNNDropout()\n",
       "    (hidden_dps): ModuleList(\n",
       "      (0): RNNDropout()\n",
       "      (1): RNNDropout()\n",
       "      (2): RNNDropout()\n",
       "    )\n",
       "  )\n",
       "  (1): LinearDecoder(\n",
       "    (decoder): Linear(in_features=400, out_features=3264, bias=True)\n",
       "    (output_dp): RNNDropout()\n",
       "  )\n",
       "), opt_func=functools.partial(<class 'torch.optim.adam.Adam'>, betas=(0.9, 0.99)), loss_func=<function cross_entropy at 0x7f44cc058d08>, metrics=[<function accuracy at 0x7f44c5603d90>], true_wd=True, bn_wd=True, wd=0.01, train_bn=True, path=PosixPath('data/assignments'), model_dir='models', callback_fns=[<class 'fastai.basic_train.Recorder'>], callbacks=[RNNTrainer(learn=LanguageLearner(data=TextLMDataBunch;\n",
       "Train: LabelList\n",
       "y: LMLabel (3992 items)\n",
       "[Category 0, Category 0, Category 0, Category 0, Category 0]...\n",
       "Path: .\n",
       "x: LMTextList (3992 items)\n",
       "[Text xxbos xxmaj neither this xxmaj agreement nor any of the rights , interests or obligations hereunder shall be assigned by any of the parties hereto ( whether by operation of law or otherwise ) without the prior written consent of the other parties . xxmaj subject to the preceding sentence , this xxmaj agreement will be binding upon , inure to the benefit of and be enforceable by the parties and their respective successors and assigns . \n",
       " , Text xxbos xxmaj this xxmaj agreement will be binding upon and inure to the benefit of ( a ) the heirs , executors and legal representatives of xxmaj executive upon xxmaj executives death and ( b ) any successor of the xxmaj company . xxmaj any such successor of the xxmaj company will be deemed substituted for the xxmaj company under the terms of this xxmaj agreement for all purposes . xxmaj for this purpose , successor means any person , firm , corporation or other business entity which at any time , whether by purchase , merger or otherwise , directly or indirectly acquires all or substantially all of the assets or business of the xxmaj company . xxmaj none of the rights of xxmaj executive to receive any form of compensation payable pursuant to this xxmaj agreement may be assigned or transferred except by will or the laws of descent and distribution . xxmaj any other attempted assignment , transfer , conveyance or other disposition of xxmaj executives right to compensation or other benefits will be null and void . \n",
       " , Text xxbos xxmaj the xxmaj company shall assign this xxmaj agreement and its rights and obligations hereunder in whole , but not in part , to any corporation or other entity with or into which the xxmaj company may hereafter merge or consolidate or to which the xxmaj company may transfer all or substantially all of its assets , if in any such case said corporation or other entity shall by operation of law or expressly in writing assume all obligations of the xxmaj company hereunder as fully as if it had been originally made a party hereto ; the xxmaj company may not otherwise assign this xxmaj agreement or its rights and obligations hereunder . xxmaj executive may not assign or transfer this xxmaj agreement or any rights or obligations hereunder . \n",
       " , Text xxbos xxmaj neither this xxmaj agreement nor any right , remedy , obligation nor liability arising hereunder or by reason hereof shall be assignable by any party hereto without the prior written consent of the other party , and any attempt to assign any right , remedy , obligation or liability hereunder without such consent shall be void , except ( a ) an assignment , in the case of a xxmaj business xxmaj combination where such party is not the surviving entity , or a sale of substantially all of its assets , to the entity which is the xxunk of such xxmaj business xxmaj combination or the purchaser in such sale and ( b ) as provided in xxmaj section 4.5 . \n",
       " , Text xxbos xxmaj the xxmaj company will have the right at all times to assign any of its rights or obligations under this xxmaj indenture to a direct or indirect wholly owned xxmaj subsidiary of the xxmaj company , provided that , in the event of any such assignment , the xxmaj company will remain liable for all such obligations . xxmaj subject to the foregoing , this xxmaj indenture is binding upon and inures to the benefit of the parties hereto and their respective successors and assigns . xxmaj this xxmaj indenture may not otherwise be assigned by the parties hereto . \n",
       " ]...\n",
       "Path: data/assignments;\n",
       "Valid: LabelList\n",
       "y: LMLabel (443 items)\n",
       "[Category 0, Category 0, Category 0, Category 0, Category 0]...\n",
       "Path: .\n",
       "x: LMTextList (443 items)\n",
       "[Text xxbos xxmaj grantor hereby grants to xxmaj beneficiary a present , absolute assignment of the xxmaj leases and xxmaj rents . xxmaj while any xxmaj event of xxmaj default exists , xxmaj beneficiary shall be entitled to ( a ) notify any person that the xxmaj leases have been assigned to xxmaj beneficiary and that all xxmaj rents are to be paid directly to xxmaj beneficiary , whether or not xxmaj trustee or xxmaj beneficiary has commenced or completed foreclosure or taken possession of the xxmaj mortgaged xxmaj property ; ( b ) xxunk , xxunk , release , extend the time of payment of , and make xxunk , xxunk and xxunk of any xxmaj rents or other obligations under the xxmaj leases ; ( c ) enforce payment of xxmaj rents and other rights under the xxmaj leases , prosecute any action or proceeding , and defend against any claim with respect to xxmaj rents and xxmaj leases ; ( d ) enter upon , take possession of and operate the xxmaj mortgaged xxmaj property ; ( e ) lease all or any part of the xxmaj mortgaged xxmaj property ; and / or ( f ) perform any and all obligations of xxmaj grantor under the xxmaj leases and exercise any and all rights of xxmaj grantor therein contained to the full extent of xxmaj grantors rights and obligations thereunder , with or without the xxunk of any action or the appointment of a receiver . xxmaj for so long as no xxmaj event of xxmaj default exists , xxmaj grantor shall have a xxunk license to deal with and enjoy the rights otherwise described in the preceding sentence . \n",
       " , Text xxbos xxmaj except as provided in xxmaj letter xxmaj agreement xxmaj no . xxup xxunk - xxunk xxunk , the rights and obligations described in this xxmaj letter xxmaj agreement are provided to xxmaj customer in consideration of xxmaj customer 's * * * . \n",
       " , Text xxbos xxmaj this xxmaj agreement may not be assigned by any party without the written consent of the other parties and the prior approval of the xxmaj north xxmaj xxunk xxmaj insurance xxmaj department , xxmaj xxunk xxmaj insurance xxmaj department , xxmaj xxunk xxmaj insurance xxmaj department and xxmaj california xxmaj insurance xxmaj department , to the extent such approval is required . \n",
       " , Text xxbos xxmaj xxunk may assign its rights under this xxmaj agreement to any successor in interest , whether by merger , consolidation , sale of assets , or otherwise . xxmaj this xxmaj agreement shall be binding whether it is between xxmaj xxunk and xxmaj executive or between any successor or assignee of xxmaj xxunk or affiliate thereof and xxmaj executive . \n",
       " , Text xxbos xxmaj this xxmaj option xxmaj agreement and the rights granted hereunder may be assigned by xxmaj producer to any other person , firm or corporation , without the consent of the xxmaj writer . \n",
       " ]...\n",
       "Path: data/assignments;\n",
       "Test: None, model=SequentialRNN(\n",
       "  (0): RNNCore(\n",
       "    (encoder): Embedding(3264, 400, padding_idx=1)\n",
       "    (encoder_dp): EmbeddingDropout(\n",
       "      (emb): Embedding(3264, 400, padding_idx=1)\n",
       "    )\n",
       "    (rnns): ModuleList(\n",
       "      (0): WeightDropout(\n",
       "        (module): LSTM(400, 1150)\n",
       "      )\n",
       "      (1): WeightDropout(\n",
       "        (module): LSTM(1150, 1150)\n",
       "      )\n",
       "      (2): WeightDropout(\n",
       "        (module): LSTM(1150, 400)\n",
       "      )\n",
       "    )\n",
       "    (input_dp): RNNDropout()\n",
       "    (hidden_dps): ModuleList(\n",
       "      (0): RNNDropout()\n",
       "      (1): RNNDropout()\n",
       "      (2): RNNDropout()\n",
       "    )\n",
       "  )\n",
       "  (1): LinearDecoder(\n",
       "    (decoder): Linear(in_features=400, out_features=3264, bias=True)\n",
       "    (output_dp): RNNDropout()\n",
       "  )\n",
       "), opt_func=functools.partial(<class 'torch.optim.adam.Adam'>, betas=(0.9, 0.99)), loss_func=<function cross_entropy at 0x7f44cc058d08>, metrics=[<function accuracy at 0x7f44c5603d90>], true_wd=True, bn_wd=True, wd=0.01, train_bn=True, path=PosixPath('data/assignments'), model_dir='models', callback_fns=[<class 'fastai.basic_train.Recorder'>], callbacks=[...], layer_groups=[Sequential(\n",
       "  (0): WeightDropout(\n",
       "    (module): LSTM(400, 1150)\n",
       "  )\n",
       "  (1): RNNDropout()\n",
       "), Sequential(\n",
       "  (0): WeightDropout(\n",
       "    (module): LSTM(1150, 1150)\n",
       "  )\n",
       "  (1): RNNDropout()\n",
       "), Sequential(\n",
       "  (0): WeightDropout(\n",
       "    (module): LSTM(1150, 400)\n",
       "  )\n",
       "  (1): RNNDropout()\n",
       "), Sequential(\n",
       "  (0): Embedding(3264, 400, padding_idx=1)\n",
       "  (1): EmbeddingDropout(\n",
       "    (emb): Embedding(3264, 400, padding_idx=1)\n",
       "  )\n",
       "  (2): LinearDecoder(\n",
       "    (decoder): Linear(in_features=400, out_features=3264, bias=True)\n",
       "    (output_dp): RNNDropout()\n",
       "  )\n",
       ")]), bptt=70, alpha=2.0, beta=1.0, adjust=False)], layer_groups=[Sequential(\n",
       "  (0): WeightDropout(\n",
       "    (module): LSTM(400, 1150)\n",
       "  )\n",
       "  (1): RNNDropout()\n",
       "), Sequential(\n",
       "  (0): WeightDropout(\n",
       "    (module): LSTM(1150, 1150)\n",
       "  )\n",
       "  (1): RNNDropout()\n",
       "), Sequential(\n",
       "  (0): WeightDropout(\n",
       "    (module): LSTM(1150, 400)\n",
       "  )\n",
       "  (1): RNNDropout()\n",
       "), Sequential(\n",
       "  (0): Embedding(3264, 400, padding_idx=1)\n",
       "  (1): EmbeddingDropout(\n",
       "    (emb): Embedding(3264, 400, padding_idx=1)\n",
       "  )\n",
       "  (2): LinearDecoder(\n",
       "    (decoder): Linear(in_features=400, out_features=3264, bias=True)\n",
       "    (output_dp): RNNDropout()\n",
       "  )\n",
       ")])"
      ]
     },
     "execution_count": 47,
     "metadata": {},
     "output_type": "execute_result"
    }
   ],
   "source": [
    "learn.load('k-assignments-3')"
   ]
  },
  {
   "cell_type": "code",
   "execution_count": 48,
   "metadata": {},
   "outputs": [
    {
     "name": "stdout",
     "output_type": "stream",
     "text": [
      "Total time: 00:05\n",
      "\n"
     ]
    },
    {
     "data": {
      "text/plain": [
       "\"notwithstanding anything else xxup llc or other than the xxmaj company , in the full title to xxmaj colorado and all of the terms and in the xxmaj employers and / s / s / s / s / s / s / s shall be subject to the xxmaj optionee is not less than the xxmaj agreement to the xxmaj medical to xxmaj canada may freely and / s / s / s / s / or a xxmaj mr. xxmaj management or any interest in whole or by a xxmaj united 's entire right , and its ownership of\""
      ]
     },
     "execution_count": 48,
     "metadata": {},
     "output_type": "execute_result"
    }
   ],
   "source": [
    "learn.predict('notwithstanding', 100, no_unk=True, temperature=1.1, min_p=0.001)"
   ]
  },
  {
   "cell_type": "code",
   "execution_count": 49,
   "metadata": {},
   "outputs": [
    {
     "name": "stdout",
     "output_type": "stream",
     "text": [
      "Total time: 00:00\n",
      "\n"
     ]
    },
    {
     "data": {
      "text/plain": [
       "'successors or related parties have been'"
      ]
     },
     "execution_count": 49,
     "metadata": {},
     "output_type": "execute_result"
    }
   ],
   "source": [
    "learn.predict('successors', 5)"
   ]
  },
  {
   "cell_type": "code",
   "execution_count": 50,
   "metadata": {},
   "outputs": [
    {
     "name": "stdout",
     "output_type": "stream",
     "text": [
      "Total time: 00:00\n",
      "\n"
     ]
    },
    {
     "data": {
      "text/plain": [
       "'notwithstanding this agreement to the date'"
      ]
     },
     "execution_count": 50,
     "metadata": {},
     "output_type": "execute_result"
    }
   ],
   "source": [
    "learn.predict('notwithstanding', 5)"
   ]
  },
  {
   "cell_type": "code",
   "execution_count": 51,
   "metadata": {},
   "outputs": [
    {
     "name": "stdout",
     "output_type": "stream",
     "text": [
      "Total time: 00:00\n",
      "\n"
     ]
    },
    {
     "data": {
      "text/plain": [
       "'except as of the xxmaj manager'"
      ]
     },
     "execution_count": 51,
     "metadata": {},
     "output_type": "execute_result"
    }
   ],
   "source": [
    "learn.predict('except', 5)"
   ]
  },
  {
   "cell_type": "code",
   "execution_count": 52,
   "metadata": {},
   "outputs": [
    {
     "name": "stdout",
     "output_type": "stream",
     "text": [
      "Total time: 00:00\n",
      "\n"
     ]
    },
    {
     "data": {
      "text/plain": [
       "'shall have been duly executed by'"
      ]
     },
     "execution_count": 52,
     "metadata": {},
     "output_type": "execute_result"
    }
   ],
   "source": [
    "learn.predict('shall', 5)"
   ]
  },
  {
   "cell_type": "code",
   "execution_count": 53,
   "metadata": {},
   "outputs": [
    {
     "name": "stdout",
     "output_type": "stream",
     "text": [
      "Total time: 00:00\n",
      "\n"
     ]
    },
    {
     "data": {
      "text/plain": [
       "'may assign and c. pursuant to'"
      ]
     },
     "execution_count": 53,
     "metadata": {},
     "output_type": "execute_result"
    }
   ],
   "source": [
    "learn.predict('may', 5)"
   ]
  },
  {
   "cell_type": "code",
   "execution_count": 54,
   "metadata": {},
   "outputs": [
    {
     "name": "stdout",
     "output_type": "stream",
     "text": [
      "Total time: 00:00\n",
      "\n"
     ]
    },
    {
     "data": {
      "text/plain": [
       "'consent of such document as a'"
      ]
     },
     "execution_count": 54,
     "metadata": {},
     "output_type": "execute_result"
    }
   ],
   "source": [
    "learn.predict('consent', 5)"
   ]
  },
  {
   "cell_type": "markdown",
   "metadata": {},
   "source": [
    "## Classifier"
   ]
  },
  {
   "cell_type": "code",
   "execution_count": 57,
   "metadata": {},
   "outputs": [],
   "source": [
    "labeled = pd.read_csv(path/'labeled_assignment_clauses.csv')"
   ]
  },
  {
   "cell_type": "code",
   "execution_count": 58,
   "metadata": {},
   "outputs": [
    {
     "data": {
      "text/html": [
       "<div>\n",
       "<style scoped>\n",
       "    .dataframe tbody tr th:only-of-type {\n",
       "        vertical-align: middle;\n",
       "    }\n",
       "\n",
       "    .dataframe tbody tr th {\n",
       "        vertical-align: top;\n",
       "    }\n",
       "\n",
       "    .dataframe thead th {\n",
       "        text-align: right;\n",
       "    }\n",
       "</style>\n",
       "<table border=\"1\" class=\"dataframe\">\n",
       "  <thead>\n",
       "    <tr style=\"text-align: right;\">\n",
       "      <th></th>\n",
       "      <th>clause</th>\n",
       "      <th>label (assignable, not, limited)</th>\n",
       "    </tr>\n",
       "  </thead>\n",
       "  <tbody>\n",
       "    <tr>\n",
       "      <th>0</th>\n",
       "      <td>Assignment. Neither this Agreement nor any of the rights, interests or obligations hereunder shall be assigned by any of the parties hereto (whether by operation of law or otherwise) without the prior written consent of the other parties. Subject to the preceding sentence, this Agreement will be binding upon, inure to the benefit of and be enforceable by the parties and their respective successors and assigns.</td>\n",
       "      <td>not</td>\n",
       "    </tr>\n",
       "    <tr>\n",
       "      <th>1</th>\n",
       "      <td>Assignment. This Agreement will be binding upon and inure to the benefit of (a) the heirs, executors and legal representatives of Executive upon Executives death and (b) any successor of the Company. Any such successor of the Company will be deemed substituted for the Company under the terms of this Agreement for all purposes. For this purpose, successor means any person, firm, corporation or other business entity which at any time, whether by purchase, merger or otherwise, directly or indirectly acquires all or substantially all of the assets or business of the Company. None of the rights of Executive to receive any form of compensation payable pursuant to this Agreement may be assigned or transferred except by will or the laws of descent and distribution. Any other attempted assignment, transfer, conveyance or other disposition of Executives right to compensation or other benefits will be null and void.</td>\n",
       "      <td>limited</td>\n",
       "    </tr>\n",
       "    <tr>\n",
       "      <th>2</th>\n",
       "      <td>Assignment. The Company shall assign this Agreement and its rights and obligations hereunder in whole, but not in part, to any corporation or other entity with or into which the Company may hereafter merge or consolidate or to which the Company may transfer all or substantially all of its assets, if in any such case said corporation or other entity shall by operation of law or expressly in writing assume all obligations of the Company hereunder as fully as if it had been originally made a party hereto; the Company may not otherwise assign this Agreement or its rights and obligations hereunder. Executive may not assign or transfer this Agreement or any rights or obligations hereunder.</td>\n",
       "      <td>limited</td>\n",
       "    </tr>\n",
       "    <tr>\n",
       "      <th>3</th>\n",
       "      <td>Assignment. Neither this Agreement nor any right, remedy, obligation nor liability arising hereunder or by reason hereof shall be assignable by any party hereto without the prior written consent of the other party, and any attempt to assign any right, remedy, obligation or liability hereunder without such consent shall be void, except (a) an assignment, in the case of a Business Combination where such party is not the surviving entity, or a sale of substantially all of its assets, to the entity which is the survivor of such Business Combination or the purchaser in such sale and (b) as provided in Section 4.5.</td>\n",
       "      <td>limited</td>\n",
       "    </tr>\n",
       "    <tr>\n",
       "      <th>4</th>\n",
       "      <td>The Company will have the right at all times to assign any of its rights or obligations under this Indenture to a direct or indirect wholly owned Subsidiary of the Company, provided that, in the event of any such assignment, the Company will remain liable for all such obligations. Subject to the foregoing, this Indenture is binding upon and inures to the benefit of the parties hereto and their respective successors and assigns. This Indenture may not otherwise be assigned by the parties hereto.</td>\n",
       "      <td>limited</td>\n",
       "    </tr>\n",
       "  </tbody>\n",
       "</table>\n",
       "</div>"
      ],
      "text/plain": [
       "                                                                                                                                                                                                                                                                                                                                                                                                                                                                                                                                                                                                                                                                                                                                                                                                                                                                                                                                                   clause  \\\n",
       "0  Assignment. Neither this Agreement nor any of the rights, interests or obligations hereunder shall be assigned by any of the parties hereto (whether by operation of law or otherwise) without the prior written consent of the other parties. Subject to the preceding sentence, this Agreement will be binding upon, inure to the benefit of and be enforceable by the parties and their respective successors and assigns.                                                                                                                                                                                                                                                                                                                                                                                                                                                                                                                            \n",
       "1  Assignment. This Agreement will be binding upon and inure to the benefit of (a) the heirs, executors and legal representatives of Executive upon Executives death and (b) any successor of the Company. Any such successor of the Company will be deemed substituted for the Company under the terms of this Agreement for all purposes. For this purpose, successor means any person, firm, corporation or other business entity which at any time, whether by purchase, merger or otherwise, directly or indirectly acquires all or substantially all of the assets or business of the Company. None of the rights of Executive to receive any form of compensation payable pursuant to this Agreement may be assigned or transferred except by will or the laws of descent and distribution. Any other attempted assignment, transfer, conveyance or other disposition of Executives right to compensation or other benefits will be null and void.   \n",
       "2  Assignment. The Company shall assign this Agreement and its rights and obligations hereunder in whole, but not in part, to any corporation or other entity with or into which the Company may hereafter merge or consolidate or to which the Company may transfer all or substantially all of its assets, if in any such case said corporation or other entity shall by operation of law or expressly in writing assume all obligations of the Company hereunder as fully as if it had been originally made a party hereto; the Company may not otherwise assign this Agreement or its rights and obligations hereunder. Executive may not assign or transfer this Agreement or any rights or obligations hereunder.                                                                                                                                                                                                                                     \n",
       "3  Assignment. Neither this Agreement nor any right, remedy, obligation nor liability arising hereunder or by reason hereof shall be assignable by any party hereto without the prior written consent of the other party, and any attempt to assign any right, remedy, obligation or liability hereunder without such consent shall be void, except (a) an assignment, in the case of a Business Combination where such party is not the surviving entity, or a sale of substantially all of its assets, to the entity which is the survivor of such Business Combination or the purchaser in such sale and (b) as provided in Section 4.5.                                                                                                                                                                                                                                                                                                                 \n",
       "4  The Company will have the right at all times to assign any of its rights or obligations under this Indenture to a direct or indirect wholly owned Subsidiary of the Company, provided that, in the event of any such assignment, the Company will remain liable for all such obligations. Subject to the foregoing, this Indenture is binding upon and inures to the benefit of the parties hereto and their respective successors and assigns. This Indenture may not otherwise be assigned by the parties hereto.                                                                                                                                                                                                                                                                                                                                                                                                                                      \n",
       "\n",
       "  label (assignable, not, limited)  \n",
       "0  not                              \n",
       "1  limited                          \n",
       "2  limited                          \n",
       "3  limited                          \n",
       "4  limited                          "
      ]
     },
     "execution_count": 58,
     "metadata": {},
     "output_type": "execute_result"
    }
   ],
   "source": [
    "labeled.head(5)"
   ]
  },
  {
   "cell_type": "code",
   "execution_count": 59,
   "metadata": {},
   "outputs": [
    {
     "data": {
      "text/plain": [
       "clause                              99\n",
       "label (assignable, not, limited)    99\n",
       "dtype: int64"
      ]
     },
     "execution_count": 59,
     "metadata": {},
     "output_type": "execute_result"
    }
   ],
   "source": [
    "labeled.count()"
   ]
  },
  {
   "cell_type": "code",
   "execution_count": 64,
   "metadata": {},
   "outputs": [
    {
     "data": {
      "text/plain": [
       "Index(['clause', 'label (assignable, not, limited)'], dtype='object')"
      ]
     },
     "execution_count": 64,
     "metadata": {},
     "output_type": "execute_result"
    }
   ],
   "source": [
    "labeled.columns"
   ]
  },
  {
   "cell_type": "code",
   "execution_count": 66,
   "metadata": {},
   "outputs": [
    {
     "data": {
      "text/plain": [
       "not           51\n",
       "limited       38\n",
       "assignable    10\n",
       "Name: label (assignable, not, limited), dtype: int64"
      ]
     },
     "execution_count": 66,
     "metadata": {},
     "output_type": "execute_result"
    }
   ],
   "source": [
    "labeled['label (assignable, not, limited)'].value_counts()"
   ]
  },
  {
   "cell_type": "markdown",
   "metadata": {},
   "source": [
    "### Create classification data bunch making sure to use the data_lm.vocab"
   ]
  },
  {
   "cell_type": "code",
   "execution_count": 72,
   "metadata": {},
   "outputs": [],
   "source": [
    "data_clas = (TextDataBunch.from_csv(path, 'labeled_assignment_clauses.csv',\n",
    "                              vocab=data_lm.vocab,\n",
    "                              text_cols='clause',\n",
    "                              label_cols='label (assignable, not, limited)',\n",
    "                              valid_pct=0.2))"
   ]
  },
  {
   "cell_type": "code",
   "execution_count": 73,
   "metadata": {},
   "outputs": [],
   "source": [
    "data_clas.save('tmp_clas')"
   ]
  },
  {
   "cell_type": "code",
   "execution_count": 74,
   "metadata": {},
   "outputs": [
    {
     "data": {
      "text/html": [
       "<table>  <col width='90%'>  <col width='10%'>  <tr>\n",
       "    <th>text</th>\n",
       "    <th>label</th>\n",
       "  </tr>\n",
       "  <tr>\n",
       "    <th>xxbos xxunk 1 xxmaj assignment . xxmaj without the prior written consent of the other xxmaj party hereto ( which consent shall not be unreasonably withheld ) , a xxmaj party will not sell , transfer , assign , delegate , pledge or otherwise dispose of , whether voluntarily ,</th>\n",
       "    <th>limited</th>\n",
       "  </tr>\n",
       "  <tr>\n",
       "    <th>xxbos xxunk 1 xxmaj assignment . xxmaj neither party may assign its rights or obligations under this xxmaj agreement or designate another person ( i ) to perform all or part of its obligations under this xxmaj agreement or ( ii ) to have all or part of its rights</th>\n",
       "    <th>limited</th>\n",
       "  </tr>\n",
       "  <tr>\n",
       "    <th>xxbos xxunk 1 xxmaj assignment . xxmaj this xxmaj agreement shall not be assignable , pledged or otherwise transferred , nor may any right or obligations hereunder be assigned , pledged or transferred , by either xxmaj party to any xxmaj third xxmaj party without the prior written consent of</th>\n",
       "    <th>limited</th>\n",
       "  </tr>\n",
       "  <tr>\n",
       "    <th>xxbos xxunk 1 xxmaj assignment . xxmaj neither this xxmaj agreement nor any of the rights , interests or obligations hereunder shall be assigned , in whole or in part , by operation of xxmaj law or otherwise , by any xxmaj party or xxmaj abbott without the prior written</th>\n",
       "    <th>limited</th>\n",
       "  </tr>\n",
       "  <tr>\n",
       "    <th>xxbos xxunk 1 xxmaj assignment . xxmaj neither this xxmaj agreement nor any of the rights , interests or obligations under this xxmaj agreement may be assigned or delegated , in whole or in part , by operation of law or otherwise , by either xxmaj party without the prior</th>\n",
       "    <th>limited</th>\n",
       "  </tr>\n",
       "</table>\n"
      ],
      "text/plain": [
       "<IPython.core.display.HTML object>"
      ]
     },
     "metadata": {},
     "output_type": "display_data"
    }
   ],
   "source": [
    "data_clas.show_batch()"
   ]
  },
  {
   "cell_type": "code",
   "execution_count": 77,
   "metadata": {},
   "outputs": [
    {
     "data": {
      "text/plain": [
       "79"
      ]
     },
     "execution_count": 77,
     "metadata": {},
     "output_type": "execute_result"
    }
   ],
   "source": [
    "len(data_clas.train_ds)"
   ]
  },
  {
   "cell_type": "code",
   "execution_count": 78,
   "metadata": {},
   "outputs": [
    {
     "data": {
      "text/plain": [
       "20"
      ]
     },
     "execution_count": 78,
     "metadata": {},
     "output_type": "execute_result"
    }
   ],
   "source": [
    "len(data_clas.valid_ds)"
   ]
  },
  {
   "cell_type": "code",
   "execution_count": 79,
   "metadata": {},
   "outputs": [],
   "source": [
    "data_clas = TextClasDataBunch.load(path, 'tmp_clas', bs=bs)"
   ]
  },
  {
   "cell_type": "code",
   "execution_count": 80,
   "metadata": {},
   "outputs": [
    {
     "data": {
      "text/html": [
       "<table>  <col width='90%'>  <col width='10%'>  <tr>\n",
       "    <th>text</th>\n",
       "    <th>label</th>\n",
       "  </tr>\n",
       "  <tr>\n",
       "    <th>xxbos xxunk 1 xxmaj assignment . xxmaj without the prior written consent of the other xxmaj party hereto ( which consent shall not be unreasonably withheld ) , a xxmaj party will not sell , transfer , assign , delegate , pledge or otherwise dispose of , whether voluntarily ,</th>\n",
       "    <th>limited</th>\n",
       "  </tr>\n",
       "  <tr>\n",
       "    <th>xxbos xxunk 1 xxmaj assignment . xxmaj neither party may assign its rights or obligations under this xxmaj agreement or designate another person ( i ) to perform all or part of its obligations under this xxmaj agreement or ( ii ) to have all or part of its rights</th>\n",
       "    <th>limited</th>\n",
       "  </tr>\n",
       "  <tr>\n",
       "    <th>xxbos xxunk 1 xxmaj assignment . xxmaj this xxmaj agreement shall not be assignable , pledged or otherwise transferred , nor may any right or obligations hereunder be assigned , pledged or transferred , by either xxmaj party to any xxmaj third xxmaj party without the prior written consent of</th>\n",
       "    <th>limited</th>\n",
       "  </tr>\n",
       "</table>\n"
      ],
      "text/plain": [
       "<IPython.core.display.HTML object>"
      ]
     },
     "metadata": {},
     "output_type": "display_data"
    }
   ],
   "source": [
    "data_clas.show_batch()"
   ]
  },
  {
   "cell_type": "markdown",
   "metadata": {},
   "source": [
    "## Create classification learner using encodings from language model"
   ]
  },
  {
   "cell_type": "code",
   "execution_count": 81,
   "metadata": {},
   "outputs": [],
   "source": [
    "learn_clas = text_classifier_learner(data_clas, drop_mult=0.5)\n",
    "learn_clas.load_encoder('k-assignments-3-enc')\n",
    "learn_clas.freeze()"
   ]
  },
  {
   "cell_type": "code",
   "execution_count": 82,
   "metadata": {},
   "outputs": [
    {
     "name": "stdout",
     "output_type": "stream",
     "text": [
      "LR Finder is complete, type {learner_name}.recorder.plot() to see the graph.\n"
     ]
    }
   ],
   "source": [
    "learn_clas.lr_find()"
   ]
  },
  {
   "cell_type": "code",
   "execution_count": 83,
   "metadata": {},
   "outputs": [
    {
     "data": {
      "image/png": "[encoded data removed]",
      "text/plain": [
       "<Figure size 432x288 with 1 Axes>"
      ]
     },
     "metadata": {
      "needs_background": "light"
     },
     "output_type": "display_data"
    }
   ],
   "source": [
    "learn_clas.recorder.plot()"
   ]
  },
  {
   "cell_type": "code",
   "execution_count": 84,
   "metadata": {},
   "outputs": [
    {
     "name": "stdout",
     "output_type": "stream",
     "text": [
      "Total time: 00:00\n",
      "epoch  train_loss  valid_loss  accuracy\n",
      "1      1.117335    0.962024    0.550000  (00:00)\n",
      "\n"
     ]
    }
   ],
   "source": [
    "learn_clas.fit_one_cycle(1, 2e-2, moms=(0.8,0.7))"
   ]
  },
  {
   "cell_type": "code",
   "execution_count": 85,
   "metadata": {},
   "outputs": [
    {
     "name": "stdout",
     "output_type": "stream",
     "text": [
      "Total time: 00:00\n",
      "epoch  train_loss  valid_loss  accuracy\n",
      "1      0.863682    0.889964    0.550000  (00:00)\n",
      "\n"
     ]
    }
   ],
   "source": [
    "learn_clas.fit_one_cycle(1, 2e-2, moms=(0.8,0.7))"
   ]
  },
  {
   "cell_type": "code",
   "execution_count": 86,
   "metadata": {},
   "outputs": [
    {
     "name": "stdout",
     "output_type": "stream",
     "text": [
      "Total time: 00:03\n",
      "epoch  train_loss  valid_loss  accuracy\n",
      "1      0.750925    0.885803    0.550000  (00:00)\n",
      "2      0.705017    0.712875    0.550000  (00:00)\n",
      "3      0.673255    0.552463    0.650000  (00:00)\n",
      "4      0.645958    0.424406    0.800000  (00:00)\n",
      "5      0.641136    0.369536    0.950000  (00:00)\n",
      "6      0.612674    0.384684    0.950000  (00:00)\n",
      "7      0.578768    0.334361    0.900000  (00:00)\n",
      "8      0.548511    0.333385    0.850000  (00:00)\n",
      "9      0.524189    0.316616    0.900000  (00:00)\n",
      "10     0.491523    0.342186    0.950000  (00:00)\n",
      "\n"
     ]
    }
   ],
   "source": [
    "learn_clas.fit_one_cycle(10, 2e-2, moms=(0.8,0.7))"
   ]
  },
  {
   "cell_type": "code",
   "execution_count": 87,
   "metadata": {},
   "outputs": [],
   "source": [
    "learn_clas.save('k-assignments-clas-1')"
   ]
  },
  {
   "cell_type": "code",
   "execution_count": 88,
   "metadata": {},
   "outputs": [
    {
     "name": "stdout",
     "output_type": "stream",
     "text": [
      "Total time: 00:01\n",
      "epoch  train_loss  valid_loss  accuracy\n",
      "1      0.423328    0.284812    0.950000  (00:00)\n",
      "2      0.482873    0.458626    0.850000  (00:00)\n",
      "3      0.449512    0.507270    0.800000  (00:00)\n",
      "4      0.402734    0.594875    0.850000  (00:00)\n",
      "5      0.398521    0.488334    0.950000  (00:00)\n",
      "\n"
     ]
    }
   ],
   "source": [
    "learn_clas.fit_one_cycle(5, 2e-2, moms=(0.8,0.7))"
   ]
  },
  {
   "cell_type": "code",
   "execution_count": 89,
   "metadata": {},
   "outputs": [
    {
     "name": "stdout",
     "output_type": "stream",
     "text": [
      "Total time: 00:03\n",
      "epoch  train_loss  valid_loss  accuracy\n",
      "1      0.297256    0.434560    0.900000  (00:00)\n",
      "2      0.316850    0.441521    0.850000  (00:00)\n",
      "3      0.320266    0.418677    0.800000  (00:00)\n",
      "4      0.331537    0.776778    0.700000  (00:00)\n",
      "5      0.337376    0.616700    0.750000  (00:00)\n",
      "6      0.376814    0.490091    0.850000  (00:00)\n",
      "7      0.367764    0.640557    0.650000  (00:00)\n",
      "8      0.366157    0.513066    0.850000  (00:00)\n",
      "9      0.356059    0.486849    0.800000  (00:00)\n",
      "10     0.357931    0.495188    0.800000  (00:00)\n",
      "\n"
     ]
    }
   ],
   "source": [
    "learn_clas.fit_one_cycle(10, 2e-2, moms=(0.8,0.7))"
   ]
  },
  {
   "cell_type": "code",
   "execution_count": 90,
   "metadata": {},
   "outputs": [
    {
     "data": {
      "text/plain": [
       "RNNLearner(data=TextClasDataBunch;\n",
       "Train: LabelList\n",
       "y: CategoryList (79 items)\n",
       "[Category limited, Category not, Category assignable, Category limited, Category assignable]...\n",
       "Path: .\n",
       "x: TextList (79 items)\n",
       "[Text xxbos xxunk 1 xxmaj assignment . xxmaj neither party shall assign its rights or obligations under this xxmaj agreement without the prior written consent of the other party , which shall not be unreasonably withheld or delayed ; provided , however , that a party may , without such consent , assign this xxmaj agreement and its rights and obligations hereunder ( a ) to any xxmaj affiliate , or ( b ) in connection with the transfer or sale of all or substantially all of its business to which this xxmaj agreement relates , or in the event of its merger , consolidation , change in control or similar transaction . xxmaj any permitted assignee shall assume all obligations of its assignor under this xxmaj agreement . xxmaj any purported assignment in violation of this xxmaj section 9.3 shall be void ., Text xxbos xxunk 1 xxmaj assignment . xxmaj neither this xxmaj agreement nor any right , remedy , obligation or liability arising hereunder or by reason hereof shall be assignable by the xxmaj participant ., Text xxbos xxunk 1 xxmaj assignment . xxmaj either xxmaj party may assign its rights and obligations under this xxmaj agreement , in whole or in part , to another party subject to providing prior written notice of such assignment to the other xxmaj party ., Text xxbos xxunk 1 xxmaj assignment . xxmaj no xxmaj party shall have the right to assign its rights or obligations under this xxmaj agreement without the consent of the other xxmaj parties ; provided , however , that the xxmaj partnership xxmaj group may make a collateral assignment of this xxmaj agreement solely to secure financing for the xxmaj partnership xxmaj group ., Text xxbos xxunk 1 xxmaj assignment . xxmaj the xxmaj holder may from time to time sell or assign , in whole or in part , or grant participations in , this xxmaj debenture and / or the obligations evidenced hereby without the consent of the xxmaj company .]...\n",
       "Path: data/assignments;\n",
       "Valid: LabelList\n",
       "y: CategoryList (20 items)\n",
       "[Category not, Category limited, Category limited, Category limited, Category limited]...\n",
       "Path: .\n",
       "x: TextList (20 items)\n",
       "[Text xxbos xxunk 1 xxmaj assignment . xxmaj neither this xxmaj agreement nor any of the rights , interests or obligations hereunder shall be assigned by any of the parties hereto ( whether by operation of law or otherwise ) without the prior written consent of the other parties . xxmaj subject to the preceding sentence , this xxmaj agreement will be binding upon , inure to the benefit of and be enforceable by the parties and their respective successors and assigns ., Text xxbos xxunk 1 xxmaj assignment . xxmaj this xxmaj agreement will be binding upon and inure to the benefit of ( a ) the heirs , executors and legal representatives of xxmaj executive upon xxmaj executives death and ( b ) any successor of the xxmaj company . xxmaj any such successor of the xxmaj company will be deemed substituted for the xxmaj company under the terms of this xxmaj agreement for all purposes . xxmaj for this purpose , successor means any person , firm , corporation or other business entity which at any time , whether by purchase , merger or otherwise , directly or indirectly acquires all or substantially all of the assets or business of the xxmaj company . xxmaj none of the rights of xxmaj executive to receive any form of compensation payable pursuant to this xxmaj agreement may be assigned or transferred except by will or the laws of descent and distribution . xxmaj any other attempted assignment , transfer , conveyance or other disposition of xxmaj executives right to compensation or other benefits will be null and void ., Text xxbos xxunk 1 xxmaj assignment . xxmaj the xxmaj company shall assign this xxmaj agreement and its rights and obligations hereunder in whole , but not in part , to any corporation or other entity with or into which the xxmaj company may hereafter merge or consolidate or to which the xxmaj company may transfer all or substantially all of its assets , if in any such case said corporation or other entity shall by operation of law or expressly in writing assume all obligations of the xxmaj company hereunder as fully as if it had been originally made a party hereto ; the xxmaj company may not otherwise assign this xxmaj agreement or its rights and obligations hereunder . xxmaj executive may not assign or transfer this xxmaj agreement or any rights or obligations hereunder ., Text xxbos xxunk 1 xxmaj assignment . xxmaj neither this xxmaj agreement nor any right , remedy , obligation nor liability arising hereunder or by reason hereof shall be assignable by any party hereto without the prior written consent of the other party , and any attempt to assign any right , remedy , obligation or liability hereunder without such consent shall be void , except ( a ) an assignment , in the case of a xxmaj business xxmaj combination where such party is not the surviving entity , or a sale of substantially all of its assets , to the entity which is the xxunk of such xxmaj business xxmaj combination or the purchaser in such sale and ( b ) as provided in xxmaj section 4.5 ., Text xxbos xxunk 1 xxmaj the xxmaj company will have the right at all times to assign any of its rights or obligations under this xxmaj indenture to a direct or indirect wholly owned xxmaj subsidiary of the xxmaj company , provided that , in the event of any such assignment , the xxmaj company will remain liable for all such obligations . xxmaj subject to the foregoing , this xxmaj indenture is binding upon and inures to the benefit of the parties hereto and their respective successors and assigns . xxmaj this xxmaj indenture may not otherwise be assigned by the parties hereto .]...\n",
       "Path: data/assignments;\n",
       "Test: None, model=SequentialRNN(\n",
       "  (0): MultiBatchRNNCore(\n",
       "    (encoder): Embedding(3264, 400, padding_idx=1)\n",
       "    (encoder_dp): EmbeddingDropout(\n",
       "      (emb): Embedding(3264, 400, padding_idx=1)\n",
       "    )\n",
       "    (rnns): ModuleList(\n",
       "      (0): WeightDropout(\n",
       "        (module): LSTM(400, 1150)\n",
       "      )\n",
       "      (1): WeightDropout(\n",
       "        (module): LSTM(1150, 1150)\n",
       "      )\n",
       "      (2): WeightDropout(\n",
       "        (module): LSTM(1150, 400)\n",
       "      )\n",
       "    )\n",
       "    (input_dp): RNNDropout()\n",
       "    (hidden_dps): ModuleList(\n",
       "      (0): RNNDropout()\n",
       "      (1): RNNDropout()\n",
       "      (2): RNNDropout()\n",
       "    )\n",
       "  )\n",
       "  (1): PoolingLinearClassifier(\n",
       "    (layers): Sequential(\n",
       "      (0): BatchNorm1d(1200, eps=1e-05, momentum=0.1, affine=True, track_running_stats=True)\n",
       "      (1): Dropout(p=0.2)\n",
       "      (2): Linear(in_features=1200, out_features=50, bias=True)\n",
       "      (3): ReLU(inplace)\n",
       "      (4): BatchNorm1d(50, eps=1e-05, momentum=0.1, affine=True, track_running_stats=True)\n",
       "      (5): Dropout(p=0.1)\n",
       "      (6): Linear(in_features=50, out_features=3, bias=True)\n",
       "    )\n",
       "  )\n",
       "), opt_func=functools.partial(<class 'torch.optim.adam.Adam'>, betas=(0.9, 0.99)), loss_func=<function cross_entropy at 0x7f44cc058d08>, metrics=[<function accuracy at 0x7f44c5603d90>], true_wd=True, bn_wd=True, wd=0.01, train_bn=True, path=PosixPath('data/assignments'), model_dir='models', callback_fns=[<class 'fastai.basic_train.Recorder'>], callbacks=[RNNTrainer(learn=RNNLearner(data=TextClasDataBunch;\n",
       "Train: LabelList\n",
       "y: CategoryList (79 items)\n",
       "[Category limited, Category not, Category assignable, Category limited, Category assignable]...\n",
       "Path: .\n",
       "x: TextList (79 items)\n",
       "[Text xxbos xxunk 1 xxmaj assignment . xxmaj neither party shall assign its rights or obligations under this xxmaj agreement without the prior written consent of the other party , which shall not be unreasonably withheld or delayed ; provided , however , that a party may , without such consent , assign this xxmaj agreement and its rights and obligations hereunder ( a ) to any xxmaj affiliate , or ( b ) in connection with the transfer or sale of all or substantially all of its business to which this xxmaj agreement relates , or in the event of its merger , consolidation , change in control or similar transaction . xxmaj any permitted assignee shall assume all obligations of its assignor under this xxmaj agreement . xxmaj any purported assignment in violation of this xxmaj section 9.3 shall be void ., Text xxbos xxunk 1 xxmaj assignment . xxmaj neither this xxmaj agreement nor any right , remedy , obligation or liability arising hereunder or by reason hereof shall be assignable by the xxmaj participant ., Text xxbos xxunk 1 xxmaj assignment . xxmaj either xxmaj party may assign its rights and obligations under this xxmaj agreement , in whole or in part , to another party subject to providing prior written notice of such assignment to the other xxmaj party ., Text xxbos xxunk 1 xxmaj assignment . xxmaj no xxmaj party shall have the right to assign its rights or obligations under this xxmaj agreement without the consent of the other xxmaj parties ; provided , however , that the xxmaj partnership xxmaj group may make a collateral assignment of this xxmaj agreement solely to secure financing for the xxmaj partnership xxmaj group ., Text xxbos xxunk 1 xxmaj assignment . xxmaj the xxmaj holder may from time to time sell or assign , in whole or in part , or grant participations in , this xxmaj debenture and / or the obligations evidenced hereby without the consent of the xxmaj company .]...\n",
       "Path: data/assignments;\n",
       "Valid: LabelList\n",
       "y: CategoryList (20 items)\n",
       "[Category not, Category limited, Category limited, Category limited, Category limited]...\n",
       "Path: .\n",
       "x: TextList (20 items)\n",
       "[Text xxbos xxunk 1 xxmaj assignment . xxmaj neither this xxmaj agreement nor any of the rights , interests or obligations hereunder shall be assigned by any of the parties hereto ( whether by operation of law or otherwise ) without the prior written consent of the other parties . xxmaj subject to the preceding sentence , this xxmaj agreement will be binding upon , inure to the benefit of and be enforceable by the parties and their respective successors and assigns ., Text xxbos xxunk 1 xxmaj assignment . xxmaj this xxmaj agreement will be binding upon and inure to the benefit of ( a ) the heirs , executors and legal representatives of xxmaj executive upon xxmaj executives death and ( b ) any successor of the xxmaj company . xxmaj any such successor of the xxmaj company will be deemed substituted for the xxmaj company under the terms of this xxmaj agreement for all purposes . xxmaj for this purpose , successor means any person , firm , corporation or other business entity which at any time , whether by purchase , merger or otherwise , directly or indirectly acquires all or substantially all of the assets or business of the xxmaj company . xxmaj none of the rights of xxmaj executive to receive any form of compensation payable pursuant to this xxmaj agreement may be assigned or transferred except by will or the laws of descent and distribution . xxmaj any other attempted assignment , transfer , conveyance or other disposition of xxmaj executives right to compensation or other benefits will be null and void ., Text xxbos xxunk 1 xxmaj assignment . xxmaj the xxmaj company shall assign this xxmaj agreement and its rights and obligations hereunder in whole , but not in part , to any corporation or other entity with or into which the xxmaj company may hereafter merge or consolidate or to which the xxmaj company may transfer all or substantially all of its assets , if in any such case said corporation or other entity shall by operation of law or expressly in writing assume all obligations of the xxmaj company hereunder as fully as if it had been originally made a party hereto ; the xxmaj company may not otherwise assign this xxmaj agreement or its rights and obligations hereunder . xxmaj executive may not assign or transfer this xxmaj agreement or any rights or obligations hereunder ., Text xxbos xxunk 1 xxmaj assignment . xxmaj neither this xxmaj agreement nor any right , remedy , obligation nor liability arising hereunder or by reason hereof shall be assignable by any party hereto without the prior written consent of the other party , and any attempt to assign any right , remedy , obligation or liability hereunder without such consent shall be void , except ( a ) an assignment , in the case of a xxmaj business xxmaj combination where such party is not the surviving entity , or a sale of substantially all of its assets , to the entity which is the xxunk of such xxmaj business xxmaj combination or the purchaser in such sale and ( b ) as provided in xxmaj section 4.5 ., Text xxbos xxunk 1 xxmaj the xxmaj company will have the right at all times to assign any of its rights or obligations under this xxmaj indenture to a direct or indirect wholly owned xxmaj subsidiary of the xxmaj company , provided that , in the event of any such assignment , the xxmaj company will remain liable for all such obligations . xxmaj subject to the foregoing , this xxmaj indenture is binding upon and inures to the benefit of the parties hereto and their respective successors and assigns . xxmaj this xxmaj indenture may not otherwise be assigned by the parties hereto .]...\n",
       "Path: data/assignments;\n",
       "Test: None, model=SequentialRNN(\n",
       "  (0): MultiBatchRNNCore(\n",
       "    (encoder): Embedding(3264, 400, padding_idx=1)\n",
       "    (encoder_dp): EmbeddingDropout(\n",
       "      (emb): Embedding(3264, 400, padding_idx=1)\n",
       "    )\n",
       "    (rnns): ModuleList(\n",
       "      (0): WeightDropout(\n",
       "        (module): LSTM(400, 1150)\n",
       "      )\n",
       "      (1): WeightDropout(\n",
       "        (module): LSTM(1150, 1150)\n",
       "      )\n",
       "      (2): WeightDropout(\n",
       "        (module): LSTM(1150, 400)\n",
       "      )\n",
       "    )\n",
       "    (input_dp): RNNDropout()\n",
       "    (hidden_dps): ModuleList(\n",
       "      (0): RNNDropout()\n",
       "      (1): RNNDropout()\n",
       "      (2): RNNDropout()\n",
       "    )\n",
       "  )\n",
       "  (1): PoolingLinearClassifier(\n",
       "    (layers): Sequential(\n",
       "      (0): BatchNorm1d(1200, eps=1e-05, momentum=0.1, affine=True, track_running_stats=True)\n",
       "      (1): Dropout(p=0.2)\n",
       "      (2): Linear(in_features=1200, out_features=50, bias=True)\n",
       "      (3): ReLU(inplace)\n",
       "      (4): BatchNorm1d(50, eps=1e-05, momentum=0.1, affine=True, track_running_stats=True)\n",
       "      (5): Dropout(p=0.1)\n",
       "      (6): Linear(in_features=50, out_features=3, bias=True)\n",
       "    )\n",
       "  )\n",
       "), opt_func=functools.partial(<class 'torch.optim.adam.Adam'>, betas=(0.9, 0.99)), loss_func=<function cross_entropy at 0x7f44cc058d08>, metrics=[<function accuracy at 0x7f44c5603d90>], true_wd=True, bn_wd=True, wd=0.01, train_bn=True, path=PosixPath('data/assignments'), model_dir='models', callback_fns=[<class 'fastai.basic_train.Recorder'>], callbacks=[...], layer_groups=[Sequential(\n",
       "  (0): Embedding(3264, 400, padding_idx=1)\n",
       "  (1): EmbeddingDropout(\n",
       "    (emb): Embedding(3264, 400, padding_idx=1)\n",
       "  )\n",
       "), Sequential(\n",
       "  (0): WeightDropout(\n",
       "    (module): LSTM(400, 1150)\n",
       "  )\n",
       "  (1): RNNDropout()\n",
       "), Sequential(\n",
       "  (0): WeightDropout(\n",
       "    (module): LSTM(1150, 1150)\n",
       "  )\n",
       "  (1): RNNDropout()\n",
       "), Sequential(\n",
       "  (0): WeightDropout(\n",
       "    (module): LSTM(1150, 400)\n",
       "  )\n",
       "  (1): RNNDropout()\n",
       "), Sequential(\n",
       "  (0): PoolingLinearClassifier(\n",
       "    (layers): Sequential(\n",
       "      (0): BatchNorm1d(1200, eps=1e-05, momentum=0.1, affine=True, track_running_stats=True)\n",
       "      (1): Dropout(p=0.2)\n",
       "      (2): Linear(in_features=1200, out_features=50, bias=True)\n",
       "      (3): ReLU(inplace)\n",
       "      (4): BatchNorm1d(50, eps=1e-05, momentum=0.1, affine=True, track_running_stats=True)\n",
       "      (5): Dropout(p=0.1)\n",
       "      (6): Linear(in_features=50, out_features=3, bias=True)\n",
       "    )\n",
       "  )\n",
       ")]), bptt=70, alpha=2.0, beta=1.0, adjust=False)], layer_groups=[Sequential(\n",
       "  (0): Embedding(3264, 400, padding_idx=1)\n",
       "  (1): EmbeddingDropout(\n",
       "    (emb): Embedding(3264, 400, padding_idx=1)\n",
       "  )\n",
       "), Sequential(\n",
       "  (0): WeightDropout(\n",
       "    (module): LSTM(400, 1150)\n",
       "  )\n",
       "  (1): RNNDropout()\n",
       "), Sequential(\n",
       "  (0): WeightDropout(\n",
       "    (module): LSTM(1150, 1150)\n",
       "  )\n",
       "  (1): RNNDropout()\n",
       "), Sequential(\n",
       "  (0): WeightDropout(\n",
       "    (module): LSTM(1150, 400)\n",
       "  )\n",
       "  (1): RNNDropout()\n",
       "), Sequential(\n",
       "  (0): PoolingLinearClassifier(\n",
       "    (layers): Sequential(\n",
       "      (0): BatchNorm1d(1200, eps=1e-05, momentum=0.1, affine=True, track_running_stats=True)\n",
       "      (1): Dropout(p=0.2)\n",
       "      (2): Linear(in_features=1200, out_features=50, bias=True)\n",
       "      (3): ReLU(inplace)\n",
       "      (4): BatchNorm1d(50, eps=1e-05, momentum=0.1, affine=True, track_running_stats=True)\n",
       "      (5): Dropout(p=0.1)\n",
       "      (6): Linear(in_features=50, out_features=3, bias=True)\n",
       "    )\n",
       "  )\n",
       ")])"
      ]
     },
     "execution_count": 90,
     "metadata": {},
     "output_type": "execute_result"
    }
   ],
   "source": [
    "learn_clas.load('k-assignments-clas-1')"
   ]
  },
  {
   "cell_type": "code",
   "execution_count": 91,
   "metadata": {},
   "outputs": [
    {
     "name": "stdout",
     "output_type": "stream",
     "text": [
      "Total time: 00:00\n",
      "epoch  train_loss  valid_loss  accuracy\n",
      "1      0.396502    0.318292    0.950000  (00:00)\n",
      "\n"
     ]
    }
   ],
   "source": [
    "learn_clas.freeze_to(-2)\n",
    "learn_clas.fit_one_cycle(1, slice(1e-2/(2.6**4),1e-2), moms=(0.8,0.7))"
   ]
  },
  {
   "cell_type": "code",
   "execution_count": 92,
   "metadata": {},
   "outputs": [
    {
     "name": "stdout",
     "output_type": "stream",
     "text": [
      "Total time: 00:01\n",
      "epoch  train_loss  valid_loss  accuracy\n",
      "1      0.341132    0.352080    0.900000  (00:00)\n",
      "2      0.426639    0.365588    0.950000  (00:00)\n",
      "3      0.385002    0.355642    0.850000  (00:00)\n",
      "4      0.364882    0.325212    0.850000  (00:00)\n",
      "5      0.347971    0.328020    0.850000  (00:00)\n",
      "\n"
     ]
    }
   ],
   "source": [
    "learn_clas.fit_one_cycle(5, slice(1e-2/(2.6**4),1e-2), moms=(0.8,0.7))"
   ]
  },
  {
   "cell_type": "code",
   "execution_count": 95,
   "metadata": {},
   "outputs": [
    {
     "data": {
      "text/plain": [
       "RNNLearner(data=TextClasDataBunch;\n",
       "Train: LabelList\n",
       "y: CategoryList (79 items)\n",
       "[Category limited, Category not, Category assignable, Category limited, Category assignable]...\n",
       "Path: .\n",
       "x: TextList (79 items)\n",
       "[Text xxbos xxunk 1 xxmaj assignment . xxmaj neither party shall assign its rights or obligations under this xxmaj agreement without the prior written consent of the other party , which shall not be unreasonably withheld or delayed ; provided , however , that a party may , without such consent , assign this xxmaj agreement and its rights and obligations hereunder ( a ) to any xxmaj affiliate , or ( b ) in connection with the transfer or sale of all or substantially all of its business to which this xxmaj agreement relates , or in the event of its merger , consolidation , change in control or similar transaction . xxmaj any permitted assignee shall assume all obligations of its assignor under this xxmaj agreement . xxmaj any purported assignment in violation of this xxmaj section 9.3 shall be void ., Text xxbos xxunk 1 xxmaj assignment . xxmaj neither this xxmaj agreement nor any right , remedy , obligation or liability arising hereunder or by reason hereof shall be assignable by the xxmaj participant ., Text xxbos xxunk 1 xxmaj assignment . xxmaj either xxmaj party may assign its rights and obligations under this xxmaj agreement , in whole or in part , to another party subject to providing prior written notice of such assignment to the other xxmaj party ., Text xxbos xxunk 1 xxmaj assignment . xxmaj no xxmaj party shall have the right to assign its rights or obligations under this xxmaj agreement without the consent of the other xxmaj parties ; provided , however , that the xxmaj partnership xxmaj group may make a collateral assignment of this xxmaj agreement solely to secure financing for the xxmaj partnership xxmaj group ., Text xxbos xxunk 1 xxmaj assignment . xxmaj the xxmaj holder may from time to time sell or assign , in whole or in part , or grant participations in , this xxmaj debenture and / or the obligations evidenced hereby without the consent of the xxmaj company .]...\n",
       "Path: data/assignments;\n",
       "Valid: LabelList\n",
       "y: CategoryList (20 items)\n",
       "[Category not, Category limited, Category limited, Category limited, Category limited]...\n",
       "Path: .\n",
       "x: TextList (20 items)\n",
       "[Text xxbos xxunk 1 xxmaj assignment . xxmaj neither this xxmaj agreement nor any of the rights , interests or obligations hereunder shall be assigned by any of the parties hereto ( whether by operation of law or otherwise ) without the prior written consent of the other parties . xxmaj subject to the preceding sentence , this xxmaj agreement will be binding upon , inure to the benefit of and be enforceable by the parties and their respective successors and assigns ., Text xxbos xxunk 1 xxmaj assignment . xxmaj this xxmaj agreement will be binding upon and inure to the benefit of ( a ) the heirs , executors and legal representatives of xxmaj executive upon xxmaj executives death and ( b ) any successor of the xxmaj company . xxmaj any such successor of the xxmaj company will be deemed substituted for the xxmaj company under the terms of this xxmaj agreement for all purposes . xxmaj for this purpose , successor means any person , firm , corporation or other business entity which at any time , whether by purchase , merger or otherwise , directly or indirectly acquires all or substantially all of the assets or business of the xxmaj company . xxmaj none of the rights of xxmaj executive to receive any form of compensation payable pursuant to this xxmaj agreement may be assigned or transferred except by will or the laws of descent and distribution . xxmaj any other attempted assignment , transfer , conveyance or other disposition of xxmaj executives right to compensation or other benefits will be null and void ., Text xxbos xxunk 1 xxmaj assignment . xxmaj the xxmaj company shall assign this xxmaj agreement and its rights and obligations hereunder in whole , but not in part , to any corporation or other entity with or into which the xxmaj company may hereafter merge or consolidate or to which the xxmaj company may transfer all or substantially all of its assets , if in any such case said corporation or other entity shall by operation of law or expressly in writing assume all obligations of the xxmaj company hereunder as fully as if it had been originally made a party hereto ; the xxmaj company may not otherwise assign this xxmaj agreement or its rights and obligations hereunder . xxmaj executive may not assign or transfer this xxmaj agreement or any rights or obligations hereunder ., Text xxbos xxunk 1 xxmaj assignment . xxmaj neither this xxmaj agreement nor any right , remedy , obligation nor liability arising hereunder or by reason hereof shall be assignable by any party hereto without the prior written consent of the other party , and any attempt to assign any right , remedy , obligation or liability hereunder without such consent shall be void , except ( a ) an assignment , in the case of a xxmaj business xxmaj combination where such party is not the surviving entity , or a sale of substantially all of its assets , to the entity which is the xxunk of such xxmaj business xxmaj combination or the purchaser in such sale and ( b ) as provided in xxmaj section 4.5 ., Text xxbos xxunk 1 xxmaj the xxmaj company will have the right at all times to assign any of its rights or obligations under this xxmaj indenture to a direct or indirect wholly owned xxmaj subsidiary of the xxmaj company , provided that , in the event of any such assignment , the xxmaj company will remain liable for all such obligations . xxmaj subject to the foregoing , this xxmaj indenture is binding upon and inures to the benefit of the parties hereto and their respective successors and assigns . xxmaj this xxmaj indenture may not otherwise be assigned by the parties hereto .]...\n",
       "Path: data/assignments;\n",
       "Test: None, model=SequentialRNN(\n",
       "  (0): MultiBatchRNNCore(\n",
       "    (encoder): Embedding(3264, 400, padding_idx=1)\n",
       "    (encoder_dp): EmbeddingDropout(\n",
       "      (emb): Embedding(3264, 400, padding_idx=1)\n",
       "    )\n",
       "    (rnns): ModuleList(\n",
       "      (0): WeightDropout(\n",
       "        (module): LSTM(400, 1150)\n",
       "      )\n",
       "      (1): WeightDropout(\n",
       "        (module): LSTM(1150, 1150)\n",
       "      )\n",
       "      (2): WeightDropout(\n",
       "        (module): LSTM(1150, 400)\n",
       "      )\n",
       "    )\n",
       "    (input_dp): RNNDropout()\n",
       "    (hidden_dps): ModuleList(\n",
       "      (0): RNNDropout()\n",
       "      (1): RNNDropout()\n",
       "      (2): RNNDropout()\n",
       "    )\n",
       "  )\n",
       "  (1): PoolingLinearClassifier(\n",
       "    (layers): Sequential(\n",
       "      (0): BatchNorm1d(1200, eps=1e-05, momentum=0.1, affine=True, track_running_stats=True)\n",
       "      (1): Dropout(p=0.2)\n",
       "      (2): Linear(in_features=1200, out_features=50, bias=True)\n",
       "      (3): ReLU(inplace)\n",
       "      (4): BatchNorm1d(50, eps=1e-05, momentum=0.1, affine=True, track_running_stats=True)\n",
       "      (5): Dropout(p=0.1)\n",
       "      (6): Linear(in_features=50, out_features=3, bias=True)\n",
       "    )\n",
       "  )\n",
       "), opt_func=functools.partial(<class 'torch.optim.adam.Adam'>, betas=(0.9, 0.99)), loss_func=<function cross_entropy at 0x7f44cc058d08>, metrics=[<function accuracy at 0x7f44c5603d90>], true_wd=True, bn_wd=True, wd=0.01, train_bn=True, path=PosixPath('data/assignments'), model_dir='models', callback_fns=[<class 'fastai.basic_train.Recorder'>], callbacks=[RNNTrainer(learn=RNNLearner(data=TextClasDataBunch;\n",
       "Train: LabelList\n",
       "y: CategoryList (79 items)\n",
       "[Category limited, Category not, Category assignable, Category limited, Category assignable]...\n",
       "Path: .\n",
       "x: TextList (79 items)\n",
       "[Text xxbos xxunk 1 xxmaj assignment . xxmaj neither party shall assign its rights or obligations under this xxmaj agreement without the prior written consent of the other party , which shall not be unreasonably withheld or delayed ; provided , however , that a party may , without such consent , assign this xxmaj agreement and its rights and obligations hereunder ( a ) to any xxmaj affiliate , or ( b ) in connection with the transfer or sale of all or substantially all of its business to which this xxmaj agreement relates , or in the event of its merger , consolidation , change in control or similar transaction . xxmaj any permitted assignee shall assume all obligations of its assignor under this xxmaj agreement . xxmaj any purported assignment in violation of this xxmaj section 9.3 shall be void ., Text xxbos xxunk 1 xxmaj assignment . xxmaj neither this xxmaj agreement nor any right , remedy , obligation or liability arising hereunder or by reason hereof shall be assignable by the xxmaj participant ., Text xxbos xxunk 1 xxmaj assignment . xxmaj either xxmaj party may assign its rights and obligations under this xxmaj agreement , in whole or in part , to another party subject to providing prior written notice of such assignment to the other xxmaj party ., Text xxbos xxunk 1 xxmaj assignment . xxmaj no xxmaj party shall have the right to assign its rights or obligations under this xxmaj agreement without the consent of the other xxmaj parties ; provided , however , that the xxmaj partnership xxmaj group may make a collateral assignment of this xxmaj agreement solely to secure financing for the xxmaj partnership xxmaj group ., Text xxbos xxunk 1 xxmaj assignment . xxmaj the xxmaj holder may from time to time sell or assign , in whole or in part , or grant participations in , this xxmaj debenture and / or the obligations evidenced hereby without the consent of the xxmaj company .]...\n",
       "Path: data/assignments;\n",
       "Valid: LabelList\n",
       "y: CategoryList (20 items)\n",
       "[Category not, Category limited, Category limited, Category limited, Category limited]...\n",
       "Path: .\n",
       "x: TextList (20 items)\n",
       "[Text xxbos xxunk 1 xxmaj assignment . xxmaj neither this xxmaj agreement nor any of the rights , interests or obligations hereunder shall be assigned by any of the parties hereto ( whether by operation of law or otherwise ) without the prior written consent of the other parties . xxmaj subject to the preceding sentence , this xxmaj agreement will be binding upon , inure to the benefit of and be enforceable by the parties and their respective successors and assigns ., Text xxbos xxunk 1 xxmaj assignment . xxmaj this xxmaj agreement will be binding upon and inure to the benefit of ( a ) the heirs , executors and legal representatives of xxmaj executive upon xxmaj executives death and ( b ) any successor of the xxmaj company . xxmaj any such successor of the xxmaj company will be deemed substituted for the xxmaj company under the terms of this xxmaj agreement for all purposes . xxmaj for this purpose , successor means any person , firm , corporation or other business entity which at any time , whether by purchase , merger or otherwise , directly or indirectly acquires all or substantially all of the assets or business of the xxmaj company . xxmaj none of the rights of xxmaj executive to receive any form of compensation payable pursuant to this xxmaj agreement may be assigned or transferred except by will or the laws of descent and distribution . xxmaj any other attempted assignment , transfer , conveyance or other disposition of xxmaj executives right to compensation or other benefits will be null and void ., Text xxbos xxunk 1 xxmaj assignment . xxmaj the xxmaj company shall assign this xxmaj agreement and its rights and obligations hereunder in whole , but not in part , to any corporation or other entity with or into which the xxmaj company may hereafter merge or consolidate or to which the xxmaj company may transfer all or substantially all of its assets , if in any such case said corporation or other entity shall by operation of law or expressly in writing assume all obligations of the xxmaj company hereunder as fully as if it had been originally made a party hereto ; the xxmaj company may not otherwise assign this xxmaj agreement or its rights and obligations hereunder . xxmaj executive may not assign or transfer this xxmaj agreement or any rights or obligations hereunder ., Text xxbos xxunk 1 xxmaj assignment . xxmaj neither this xxmaj agreement nor any right , remedy , obligation nor liability arising hereunder or by reason hereof shall be assignable by any party hereto without the prior written consent of the other party , and any attempt to assign any right , remedy , obligation or liability hereunder without such consent shall be void , except ( a ) an assignment , in the case of a xxmaj business xxmaj combination where such party is not the surviving entity , or a sale of substantially all of its assets , to the entity which is the xxunk of such xxmaj business xxmaj combination or the purchaser in such sale and ( b ) as provided in xxmaj section 4.5 ., Text xxbos xxunk 1 xxmaj the xxmaj company will have the right at all times to assign any of its rights or obligations under this xxmaj indenture to a direct or indirect wholly owned xxmaj subsidiary of the xxmaj company , provided that , in the event of any such assignment , the xxmaj company will remain liable for all such obligations . xxmaj subject to the foregoing , this xxmaj indenture is binding upon and inures to the benefit of the parties hereto and their respective successors and assigns . xxmaj this xxmaj indenture may not otherwise be assigned by the parties hereto .]...\n",
       "Path: data/assignments;\n",
       "Test: None, model=SequentialRNN(\n",
       "  (0): MultiBatchRNNCore(\n",
       "    (encoder): Embedding(3264, 400, padding_idx=1)\n",
       "    (encoder_dp): EmbeddingDropout(\n",
       "      (emb): Embedding(3264, 400, padding_idx=1)\n",
       "    )\n",
       "    (rnns): ModuleList(\n",
       "      (0): WeightDropout(\n",
       "        (module): LSTM(400, 1150)\n",
       "      )\n",
       "      (1): WeightDropout(\n",
       "        (module): LSTM(1150, 1150)\n",
       "      )\n",
       "      (2): WeightDropout(\n",
       "        (module): LSTM(1150, 400)\n",
       "      )\n",
       "    )\n",
       "    (input_dp): RNNDropout()\n",
       "    (hidden_dps): ModuleList(\n",
       "      (0): RNNDropout()\n",
       "      (1): RNNDropout()\n",
       "      (2): RNNDropout()\n",
       "    )\n",
       "  )\n",
       "  (1): PoolingLinearClassifier(\n",
       "    (layers): Sequential(\n",
       "      (0): BatchNorm1d(1200, eps=1e-05, momentum=0.1, affine=True, track_running_stats=True)\n",
       "      (1): Dropout(p=0.2)\n",
       "      (2): Linear(in_features=1200, out_features=50, bias=True)\n",
       "      (3): ReLU(inplace)\n",
       "      (4): BatchNorm1d(50, eps=1e-05, momentum=0.1, affine=True, track_running_stats=True)\n",
       "      (5): Dropout(p=0.1)\n",
       "      (6): Linear(in_features=50, out_features=3, bias=True)\n",
       "    )\n",
       "  )\n",
       "), opt_func=functools.partial(<class 'torch.optim.adam.Adam'>, betas=(0.9, 0.99)), loss_func=<function cross_entropy at 0x7f44cc058d08>, metrics=[<function accuracy at 0x7f44c5603d90>], true_wd=True, bn_wd=True, wd=0.01, train_bn=True, path=PosixPath('data/assignments'), model_dir='models', callback_fns=[<class 'fastai.basic_train.Recorder'>], callbacks=[...], layer_groups=[Sequential(\n",
       "  (0): Embedding(3264, 400, padding_idx=1)\n",
       "  (1): EmbeddingDropout(\n",
       "    (emb): Embedding(3264, 400, padding_idx=1)\n",
       "  )\n",
       "), Sequential(\n",
       "  (0): WeightDropout(\n",
       "    (module): LSTM(400, 1150)\n",
       "  )\n",
       "  (1): RNNDropout()\n",
       "), Sequential(\n",
       "  (0): WeightDropout(\n",
       "    (module): LSTM(1150, 1150)\n",
       "  )\n",
       "  (1): RNNDropout()\n",
       "), Sequential(\n",
       "  (0): WeightDropout(\n",
       "    (module): LSTM(1150, 400)\n",
       "  )\n",
       "  (1): RNNDropout()\n",
       "), Sequential(\n",
       "  (0): PoolingLinearClassifier(\n",
       "    (layers): Sequential(\n",
       "      (0): BatchNorm1d(1200, eps=1e-05, momentum=0.1, affine=True, track_running_stats=True)\n",
       "      (1): Dropout(p=0.2)\n",
       "      (2): Linear(in_features=1200, out_features=50, bias=True)\n",
       "      (3): ReLU(inplace)\n",
       "      (4): BatchNorm1d(50, eps=1e-05, momentum=0.1, affine=True, track_running_stats=True)\n",
       "      (5): Dropout(p=0.1)\n",
       "      (6): Linear(in_features=50, out_features=3, bias=True)\n",
       "    )\n",
       "  )\n",
       ")]), bptt=70, alpha=2.0, beta=1.0, adjust=False)], layer_groups=[Sequential(\n",
       "  (0): Embedding(3264, 400, padding_idx=1)\n",
       "  (1): EmbeddingDropout(\n",
       "    (emb): Embedding(3264, 400, padding_idx=1)\n",
       "  )\n",
       "), Sequential(\n",
       "  (0): WeightDropout(\n",
       "    (module): LSTM(400, 1150)\n",
       "  )\n",
       "  (1): RNNDropout()\n",
       "), Sequential(\n",
       "  (0): WeightDropout(\n",
       "    (module): LSTM(1150, 1150)\n",
       "  )\n",
       "  (1): RNNDropout()\n",
       "), Sequential(\n",
       "  (0): WeightDropout(\n",
       "    (module): LSTM(1150, 400)\n",
       "  )\n",
       "  (1): RNNDropout()\n",
       "), Sequential(\n",
       "  (0): PoolingLinearClassifier(\n",
       "    (layers): Sequential(\n",
       "      (0): BatchNorm1d(1200, eps=1e-05, momentum=0.1, affine=True, track_running_stats=True)\n",
       "      (1): Dropout(p=0.2)\n",
       "      (2): Linear(in_features=1200, out_features=50, bias=True)\n",
       "      (3): ReLU(inplace)\n",
       "      (4): BatchNorm1d(50, eps=1e-05, momentum=0.1, affine=True, track_running_stats=True)\n",
       "      (5): Dropout(p=0.1)\n",
       "      (6): Linear(in_features=50, out_features=3, bias=True)\n",
       "    )\n",
       "  )\n",
       ")])"
      ]
     },
     "execution_count": 95,
     "metadata": {},
     "output_type": "execute_result"
    }
   ],
   "source": [
    "learn_clas.load('k-assignments-clas-1')"
   ]
  },
  {
   "cell_type": "code",
   "execution_count": 96,
   "metadata": {},
   "outputs": [
    {
     "name": "stdout",
     "output_type": "stream",
     "text": [
      "Total time: 00:00\n",
      "epoch  train_loss  valid_loss  accuracy\n",
      "1      0.472404    0.279126    0.950000  (00:00)\n",
      "\n"
     ]
    }
   ],
   "source": [
    "learn_clas.freeze_to(-2)\n",
    "learn_clas.fit_one_cycle(1, slice(1e-2/(2.6**4),1e-2), moms=(0.8,0.7))"
   ]
  },
  {
   "cell_type": "code",
   "execution_count": 97,
   "metadata": {},
   "outputs": [],
   "source": [
    "learn_clas.save('k-assignments-clas-2')"
   ]
  },
  {
   "cell_type": "code",
   "execution_count": 98,
   "metadata": {},
   "outputs": [
    {
     "name": "stdout",
     "output_type": "stream",
     "text": [
      "Total time: 00:00\n",
      "epoch  train_loss  valid_loss  accuracy\n",
      "1      0.353398    0.292837    0.900000  (00:00)\n",
      "\n"
     ]
    }
   ],
   "source": [
    "learn_clas.freeze_to(-3)\n",
    "learn_clas.fit_one_cycle(1, slice(5e-3/(2.6**4),5e-3), moms=(0.8,0.7))"
   ]
  },
  {
   "cell_type": "code",
   "execution_count": 101,
   "metadata": {},
   "outputs": [
    {
     "data": {
      "text/plain": [
       "RNNLearner(data=TextClasDataBunch;\n",
       "Train: LabelList\n",
       "y: CategoryList (79 items)\n",
       "[Category limited, Category not, Category assignable, Category limited, Category assignable]...\n",
       "Path: .\n",
       "x: TextList (79 items)\n",
       "[Text xxbos xxunk 1 xxmaj assignment . xxmaj neither party shall assign its rights or obligations under this xxmaj agreement without the prior written consent of the other party , which shall not be unreasonably withheld or delayed ; provided , however , that a party may , without such consent , assign this xxmaj agreement and its rights and obligations hereunder ( a ) to any xxmaj affiliate , or ( b ) in connection with the transfer or sale of all or substantially all of its business to which this xxmaj agreement relates , or in the event of its merger , consolidation , change in control or similar transaction . xxmaj any permitted assignee shall assume all obligations of its assignor under this xxmaj agreement . xxmaj any purported assignment in violation of this xxmaj section 9.3 shall be void ., Text xxbos xxunk 1 xxmaj assignment . xxmaj neither this xxmaj agreement nor any right , remedy , obligation or liability arising hereunder or by reason hereof shall be assignable by the xxmaj participant ., Text xxbos xxunk 1 xxmaj assignment . xxmaj either xxmaj party may assign its rights and obligations under this xxmaj agreement , in whole or in part , to another party subject to providing prior written notice of such assignment to the other xxmaj party ., Text xxbos xxunk 1 xxmaj assignment . xxmaj no xxmaj party shall have the right to assign its rights or obligations under this xxmaj agreement without the consent of the other xxmaj parties ; provided , however , that the xxmaj partnership xxmaj group may make a collateral assignment of this xxmaj agreement solely to secure financing for the xxmaj partnership xxmaj group ., Text xxbos xxunk 1 xxmaj assignment . xxmaj the xxmaj holder may from time to time sell or assign , in whole or in part , or grant participations in , this xxmaj debenture and / or the obligations evidenced hereby without the consent of the xxmaj company .]...\n",
       "Path: data/assignments;\n",
       "Valid: LabelList\n",
       "y: CategoryList (20 items)\n",
       "[Category not, Category limited, Category limited, Category limited, Category limited]...\n",
       "Path: .\n",
       "x: TextList (20 items)\n",
       "[Text xxbos xxunk 1 xxmaj assignment . xxmaj neither this xxmaj agreement nor any of the rights , interests or obligations hereunder shall be assigned by any of the parties hereto ( whether by operation of law or otherwise ) without the prior written consent of the other parties . xxmaj subject to the preceding sentence , this xxmaj agreement will be binding upon , inure to the benefit of and be enforceable by the parties and their respective successors and assigns ., Text xxbos xxunk 1 xxmaj assignment . xxmaj this xxmaj agreement will be binding upon and inure to the benefit of ( a ) the heirs , executors and legal representatives of xxmaj executive upon xxmaj executives death and ( b ) any successor of the xxmaj company . xxmaj any such successor of the xxmaj company will be deemed substituted for the xxmaj company under the terms of this xxmaj agreement for all purposes . xxmaj for this purpose , successor means any person , firm , corporation or other business entity which at any time , whether by purchase , merger or otherwise , directly or indirectly acquires all or substantially all of the assets or business of the xxmaj company . xxmaj none of the rights of xxmaj executive to receive any form of compensation payable pursuant to this xxmaj agreement may be assigned or transferred except by will or the laws of descent and distribution . xxmaj any other attempted assignment , transfer , conveyance or other disposition of xxmaj executives right to compensation or other benefits will be null and void ., Text xxbos xxunk 1 xxmaj assignment . xxmaj the xxmaj company shall assign this xxmaj agreement and its rights and obligations hereunder in whole , but not in part , to any corporation or other entity with or into which the xxmaj company may hereafter merge or consolidate or to which the xxmaj company may transfer all or substantially all of its assets , if in any such case said corporation or other entity shall by operation of law or expressly in writing assume all obligations of the xxmaj company hereunder as fully as if it had been originally made a party hereto ; the xxmaj company may not otherwise assign this xxmaj agreement or its rights and obligations hereunder . xxmaj executive may not assign or transfer this xxmaj agreement or any rights or obligations hereunder ., Text xxbos xxunk 1 xxmaj assignment . xxmaj neither this xxmaj agreement nor any right , remedy , obligation nor liability arising hereunder or by reason hereof shall be assignable by any party hereto without the prior written consent of the other party , and any attempt to assign any right , remedy , obligation or liability hereunder without such consent shall be void , except ( a ) an assignment , in the case of a xxmaj business xxmaj combination where such party is not the surviving entity , or a sale of substantially all of its assets , to the entity which is the xxunk of such xxmaj business xxmaj combination or the purchaser in such sale and ( b ) as provided in xxmaj section 4.5 ., Text xxbos xxunk 1 xxmaj the xxmaj company will have the right at all times to assign any of its rights or obligations under this xxmaj indenture to a direct or indirect wholly owned xxmaj subsidiary of the xxmaj company , provided that , in the event of any such assignment , the xxmaj company will remain liable for all such obligations . xxmaj subject to the foregoing , this xxmaj indenture is binding upon and inures to the benefit of the parties hereto and their respective successors and assigns . xxmaj this xxmaj indenture may not otherwise be assigned by the parties hereto .]...\n",
       "Path: data/assignments;\n",
       "Test: None, model=SequentialRNN(\n",
       "  (0): MultiBatchRNNCore(\n",
       "    (encoder): Embedding(3264, 400, padding_idx=1)\n",
       "    (encoder_dp): EmbeddingDropout(\n",
       "      (emb): Embedding(3264, 400, padding_idx=1)\n",
       "    )\n",
       "    (rnns): ModuleList(\n",
       "      (0): WeightDropout(\n",
       "        (module): LSTM(400, 1150)\n",
       "      )\n",
       "      (1): WeightDropout(\n",
       "        (module): LSTM(1150, 1150)\n",
       "      )\n",
       "      (2): WeightDropout(\n",
       "        (module): LSTM(1150, 400)\n",
       "      )\n",
       "    )\n",
       "    (input_dp): RNNDropout()\n",
       "    (hidden_dps): ModuleList(\n",
       "      (0): RNNDropout()\n",
       "      (1): RNNDropout()\n",
       "      (2): RNNDropout()\n",
       "    )\n",
       "  )\n",
       "  (1): PoolingLinearClassifier(\n",
       "    (layers): Sequential(\n",
       "      (0): BatchNorm1d(1200, eps=1e-05, momentum=0.1, affine=True, track_running_stats=True)\n",
       "      (1): Dropout(p=0.2)\n",
       "      (2): Linear(in_features=1200, out_features=50, bias=True)\n",
       "      (3): ReLU(inplace)\n",
       "      (4): BatchNorm1d(50, eps=1e-05, momentum=0.1, affine=True, track_running_stats=True)\n",
       "      (5): Dropout(p=0.1)\n",
       "      (6): Linear(in_features=50, out_features=3, bias=True)\n",
       "    )\n",
       "  )\n",
       "), opt_func=functools.partial(<class 'torch.optim.adam.Adam'>, betas=(0.9, 0.99)), loss_func=<function cross_entropy at 0x7f44cc058d08>, metrics=[<function accuracy at 0x7f44c5603d90>], true_wd=True, bn_wd=True, wd=0.01, train_bn=True, path=PosixPath('data/assignments'), model_dir='models', callback_fns=[<class 'fastai.basic_train.Recorder'>], callbacks=[RNNTrainer(learn=RNNLearner(data=TextClasDataBunch;\n",
       "Train: LabelList\n",
       "y: CategoryList (79 items)\n",
       "[Category limited, Category not, Category assignable, Category limited, Category assignable]...\n",
       "Path: .\n",
       "x: TextList (79 items)\n",
       "[Text xxbos xxunk 1 xxmaj assignment . xxmaj neither party shall assign its rights or obligations under this xxmaj agreement without the prior written consent of the other party , which shall not be unreasonably withheld or delayed ; provided , however , that a party may , without such consent , assign this xxmaj agreement and its rights and obligations hereunder ( a ) to any xxmaj affiliate , or ( b ) in connection with the transfer or sale of all or substantially all of its business to which this xxmaj agreement relates , or in the event of its merger , consolidation , change in control or similar transaction . xxmaj any permitted assignee shall assume all obligations of its assignor under this xxmaj agreement . xxmaj any purported assignment in violation of this xxmaj section 9.3 shall be void ., Text xxbos xxunk 1 xxmaj assignment . xxmaj neither this xxmaj agreement nor any right , remedy , obligation or liability arising hereunder or by reason hereof shall be assignable by the xxmaj participant ., Text xxbos xxunk 1 xxmaj assignment . xxmaj either xxmaj party may assign its rights and obligations under this xxmaj agreement , in whole or in part , to another party subject to providing prior written notice of such assignment to the other xxmaj party ., Text xxbos xxunk 1 xxmaj assignment . xxmaj no xxmaj party shall have the right to assign its rights or obligations under this xxmaj agreement without the consent of the other xxmaj parties ; provided , however , that the xxmaj partnership xxmaj group may make a collateral assignment of this xxmaj agreement solely to secure financing for the xxmaj partnership xxmaj group ., Text xxbos xxunk 1 xxmaj assignment . xxmaj the xxmaj holder may from time to time sell or assign , in whole or in part , or grant participations in , this xxmaj debenture and / or the obligations evidenced hereby without the consent of the xxmaj company .]...\n",
       "Path: data/assignments;\n",
       "Valid: LabelList\n",
       "y: CategoryList (20 items)\n",
       "[Category not, Category limited, Category limited, Category limited, Category limited]...\n",
       "Path: .\n",
       "x: TextList (20 items)\n",
       "[Text xxbos xxunk 1 xxmaj assignment . xxmaj neither this xxmaj agreement nor any of the rights , interests or obligations hereunder shall be assigned by any of the parties hereto ( whether by operation of law or otherwise ) without the prior written consent of the other parties . xxmaj subject to the preceding sentence , this xxmaj agreement will be binding upon , inure to the benefit of and be enforceable by the parties and their respective successors and assigns ., Text xxbos xxunk 1 xxmaj assignment . xxmaj this xxmaj agreement will be binding upon and inure to the benefit of ( a ) the heirs , executors and legal representatives of xxmaj executive upon xxmaj executives death and ( b ) any successor of the xxmaj company . xxmaj any such successor of the xxmaj company will be deemed substituted for the xxmaj company under the terms of this xxmaj agreement for all purposes . xxmaj for this purpose , successor means any person , firm , corporation or other business entity which at any time , whether by purchase , merger or otherwise , directly or indirectly acquires all or substantially all of the assets or business of the xxmaj company . xxmaj none of the rights of xxmaj executive to receive any form of compensation payable pursuant to this xxmaj agreement may be assigned or transferred except by will or the laws of descent and distribution . xxmaj any other attempted assignment , transfer , conveyance or other disposition of xxmaj executives right to compensation or other benefits will be null and void ., Text xxbos xxunk 1 xxmaj assignment . xxmaj the xxmaj company shall assign this xxmaj agreement and its rights and obligations hereunder in whole , but not in part , to any corporation or other entity with or into which the xxmaj company may hereafter merge or consolidate or to which the xxmaj company may transfer all or substantially all of its assets , if in any such case said corporation or other entity shall by operation of law or expressly in writing assume all obligations of the xxmaj company hereunder as fully as if it had been originally made a party hereto ; the xxmaj company may not otherwise assign this xxmaj agreement or its rights and obligations hereunder . xxmaj executive may not assign or transfer this xxmaj agreement or any rights or obligations hereunder ., Text xxbos xxunk 1 xxmaj assignment . xxmaj neither this xxmaj agreement nor any right , remedy , obligation nor liability arising hereunder or by reason hereof shall be assignable by any party hereto without the prior written consent of the other party , and any attempt to assign any right , remedy , obligation or liability hereunder without such consent shall be void , except ( a ) an assignment , in the case of a xxmaj business xxmaj combination where such party is not the surviving entity , or a sale of substantially all of its assets , to the entity which is the xxunk of such xxmaj business xxmaj combination or the purchaser in such sale and ( b ) as provided in xxmaj section 4.5 ., Text xxbos xxunk 1 xxmaj the xxmaj company will have the right at all times to assign any of its rights or obligations under this xxmaj indenture to a direct or indirect wholly owned xxmaj subsidiary of the xxmaj company , provided that , in the event of any such assignment , the xxmaj company will remain liable for all such obligations . xxmaj subject to the foregoing , this xxmaj indenture is binding upon and inures to the benefit of the parties hereto and their respective successors and assigns . xxmaj this xxmaj indenture may not otherwise be assigned by the parties hereto .]...\n",
       "Path: data/assignments;\n",
       "Test: None, model=SequentialRNN(\n",
       "  (0): MultiBatchRNNCore(\n",
       "    (encoder): Embedding(3264, 400, padding_idx=1)\n",
       "    (encoder_dp): EmbeddingDropout(\n",
       "      (emb): Embedding(3264, 400, padding_idx=1)\n",
       "    )\n",
       "    (rnns): ModuleList(\n",
       "      (0): WeightDropout(\n",
       "        (module): LSTM(400, 1150)\n",
       "      )\n",
       "      (1): WeightDropout(\n",
       "        (module): LSTM(1150, 1150)\n",
       "      )\n",
       "      (2): WeightDropout(\n",
       "        (module): LSTM(1150, 400)\n",
       "      )\n",
       "    )\n",
       "    (input_dp): RNNDropout()\n",
       "    (hidden_dps): ModuleList(\n",
       "      (0): RNNDropout()\n",
       "      (1): RNNDropout()\n",
       "      (2): RNNDropout()\n",
       "    )\n",
       "  )\n",
       "  (1): PoolingLinearClassifier(\n",
       "    (layers): Sequential(\n",
       "      (0): BatchNorm1d(1200, eps=1e-05, momentum=0.1, affine=True, track_running_stats=True)\n",
       "      (1): Dropout(p=0.2)\n",
       "      (2): Linear(in_features=1200, out_features=50, bias=True)\n",
       "      (3): ReLU(inplace)\n",
       "      (4): BatchNorm1d(50, eps=1e-05, momentum=0.1, affine=True, track_running_stats=True)\n",
       "      (5): Dropout(p=0.1)\n",
       "      (6): Linear(in_features=50, out_features=3, bias=True)\n",
       "    )\n",
       "  )\n",
       "), opt_func=functools.partial(<class 'torch.optim.adam.Adam'>, betas=(0.9, 0.99)), loss_func=<function cross_entropy at 0x7f44cc058d08>, metrics=[<function accuracy at 0x7f44c5603d90>], true_wd=True, bn_wd=True, wd=0.01, train_bn=True, path=PosixPath('data/assignments'), model_dir='models', callback_fns=[<class 'fastai.basic_train.Recorder'>], callbacks=[...], layer_groups=[Sequential(\n",
       "  (0): Embedding(3264, 400, padding_idx=1)\n",
       "  (1): EmbeddingDropout(\n",
       "    (emb): Embedding(3264, 400, padding_idx=1)\n",
       "  )\n",
       "), Sequential(\n",
       "  (0): WeightDropout(\n",
       "    (module): LSTM(400, 1150)\n",
       "  )\n",
       "  (1): RNNDropout()\n",
       "), Sequential(\n",
       "  (0): WeightDropout(\n",
       "    (module): LSTM(1150, 1150)\n",
       "  )\n",
       "  (1): RNNDropout()\n",
       "), Sequential(\n",
       "  (0): WeightDropout(\n",
       "    (module): LSTM(1150, 400)\n",
       "  )\n",
       "  (1): RNNDropout()\n",
       "), Sequential(\n",
       "  (0): PoolingLinearClassifier(\n",
       "    (layers): Sequential(\n",
       "      (0): BatchNorm1d(1200, eps=1e-05, momentum=0.1, affine=True, track_running_stats=True)\n",
       "      (1): Dropout(p=0.2)\n",
       "      (2): Linear(in_features=1200, out_features=50, bias=True)\n",
       "      (3): ReLU(inplace)\n",
       "      (4): BatchNorm1d(50, eps=1e-05, momentum=0.1, affine=True, track_running_stats=True)\n",
       "      (5): Dropout(p=0.1)\n",
       "      (6): Linear(in_features=50, out_features=3, bias=True)\n",
       "    )\n",
       "  )\n",
       ")]), bptt=70, alpha=2.0, beta=1.0, adjust=False)], layer_groups=[Sequential(\n",
       "  (0): Embedding(3264, 400, padding_idx=1)\n",
       "  (1): EmbeddingDropout(\n",
       "    (emb): Embedding(3264, 400, padding_idx=1)\n",
       "  )\n",
       "), Sequential(\n",
       "  (0): WeightDropout(\n",
       "    (module): LSTM(400, 1150)\n",
       "  )\n",
       "  (1): RNNDropout()\n",
       "), Sequential(\n",
       "  (0): WeightDropout(\n",
       "    (module): LSTM(1150, 1150)\n",
       "  )\n",
       "  (1): RNNDropout()\n",
       "), Sequential(\n",
       "  (0): WeightDropout(\n",
       "    (module): LSTM(1150, 400)\n",
       "  )\n",
       "  (1): RNNDropout()\n",
       "), Sequential(\n",
       "  (0): PoolingLinearClassifier(\n",
       "    (layers): Sequential(\n",
       "      (0): BatchNorm1d(1200, eps=1e-05, momentum=0.1, affine=True, track_running_stats=True)\n",
       "      (1): Dropout(p=0.2)\n",
       "      (2): Linear(in_features=1200, out_features=50, bias=True)\n",
       "      (3): ReLU(inplace)\n",
       "      (4): BatchNorm1d(50, eps=1e-05, momentum=0.1, affine=True, track_running_stats=True)\n",
       "      (5): Dropout(p=0.1)\n",
       "      (6): Linear(in_features=50, out_features=3, bias=True)\n",
       "    )\n",
       "  )\n",
       ")])"
      ]
     },
     "execution_count": 101,
     "metadata": {},
     "output_type": "execute_result"
    }
   ],
   "source": [
    "learn_clas.load('k-assignments-clas-2')"
   ]
  },
  {
   "cell_type": "code",
   "execution_count": 102,
   "metadata": {},
   "outputs": [
    {
     "name": "stdout",
     "output_type": "stream",
     "text": [
      "Total time: 00:01\n",
      "epoch  train_loss  valid_loss  accuracy\n",
      "1      0.417012    0.301098    0.950000  (00:00)\n",
      "2      0.433203    0.281170    0.950000  (00:00)\n",
      "3      0.376490    0.286115    1.000000  (00:00)\n",
      "\n"
     ]
    }
   ],
   "source": [
    "learn_clas.freeze_to(-3)\n",
    "learn_clas.fit_one_cycle(3, slice(5e-3/(2.6**4),5e-3), moms=(0.8,0.7))"
   ]
  },
  {
   "cell_type": "code",
   "execution_count": 103,
   "metadata": {},
   "outputs": [],
   "source": [
    "learn_clas.save('k-assignments-clas-3')"
   ]
  },
  {
   "cell_type": "code",
   "execution_count": 105,
   "metadata": {},
   "outputs": [
    {
     "data": {
      "text/plain": [
       "('not', tensor(1), tensor([0.0189, 0.9796, 0.0015]))"
      ]
     },
     "execution_count": 105,
     "metadata": {},
     "output_type": "execute_result"
    }
   ],
   "source": [
    "learn_clas.predict(\"The parties shall not assign this agreement.\")"
   ]
  },
  {
   "cell_type": "code",
   "execution_count": 106,
   "metadata": {},
   "outputs": [
    {
     "data": {
      "text/plain": [
       "('not', tensor(1), tensor([0.1908, 0.7220, 0.0872]))"
      ]
     },
     "execution_count": 106,
     "metadata": {},
     "output_type": "execute_result"
    }
   ],
   "source": [
    "learn_clas.predict(\"The parties may assign this agreement.\")"
   ]
  },
  {
   "cell_type": "code",
   "execution_count": 107,
   "metadata": {},
   "outputs": [
    {
     "data": {
      "text/plain": [
       "('limited', tensor(0), tensor([0.5987, 0.2015, 0.1998]))"
      ]
     },
     "execution_count": 107,
     "metadata": {},
     "output_type": "execute_result"
    }
   ],
   "source": [
    "learn_clas.predict(\"The parties may assign this agreement provided such assignment is to an affiliate.\")"
   ]
  },
  {
   "cell_type": "code",
   "execution_count": 108,
   "metadata": {},
   "outputs": [
    {
     "data": {
      "text/plain": [
       "('not', tensor(1), tensor([0.2322, 0.7078, 0.0600]))"
      ]
     },
     "execution_count": 108,
     "metadata": {},
     "output_type": "execute_result"
    }
   ],
   "source": [
    "learn_clas.predict(\"Each party may assign this agreement.\")"
   ]
  },
  {
   "cell_type": "code",
   "execution_count": 109,
   "metadata": {},
   "outputs": [
    {
     "data": {
      "text/plain": [
       "('limited', tensor(0), tensor([0.8222, 0.1484, 0.0294]))"
      ]
     },
     "execution_count": 109,
     "metadata": {},
     "output_type": "execute_result"
    }
   ],
   "source": [
    "learn_clas.predict(\"Each party may assign this agreement to a related party.\")"
   ]
  },
  {
   "cell_type": "code",
   "execution_count": 110,
   "metadata": {},
   "outputs": [
    {
     "data": {
      "text/plain": [
       "('not', tensor(1), tensor([0.2585, 0.7014, 0.0401]))"
      ]
     },
     "execution_count": 110,
     "metadata": {},
     "output_type": "execute_result"
    }
   ],
   "source": [
    "learn_clas.predict(\"A party may only assign this agreement after receipt of written consent of the other party.\")"
   ]
  },
  {
   "cell_type": "code",
   "execution_count": 112,
   "metadata": {},
   "outputs": [
    {
     "data": {
      "text/plain": [
       "('limited', tensor(0), tensor([0.7670, 0.2026, 0.0304]))"
      ]
     },
     "execution_count": 112,
     "metadata": {},
     "output_type": "execute_result"
    }
   ],
   "source": [
    "learn_clas.predict(\"An assignment of this Agreement by operation of law, as a result of a merger, consolidation, amalgamation, or other transaction or series of transactions, requires consent to the same extent as would an assignment to the same assignee outside of such a transaction or series of transactions.\")"
   ]
  },
  {
   "cell_type": "code",
   "execution_count": 114,
   "metadata": {},
   "outputs": [
    {
     "data": {
      "text/plain": [
       "('limited', tensor(0), tensor([0.8266, 0.1512, 0.0222]))"
      ]
     },
     "execution_count": 114,
     "metadata": {},
     "output_type": "execute_result"
    }
   ],
   "source": [
    "learn_clas.predict('Consent is not required for an assignment of this Agreement in connection with a sale or other disposition of substantially all the assets of the assigning party’s business.')"
   ]
  },
  {
   "cell_type": "code",
   "execution_count": 117,
   "metadata": {},
   "outputs": [
    {
     "data": {
      "text/plain": [
       "('not', tensor(1), tensor([0.1245, 0.8547, 0.0209]))"
      ]
     },
     "execution_count": 117,
     "metadata": {},
     "output_type": "execute_result"
    }
   ],
   "source": [
    "learn_clas.predict('The parties may freely assign this agreement')"
   ]
  },
  {
   "cell_type": "code",
   "execution_count": 118,
   "metadata": {},
   "outputs": [
    {
     "data": {
      "text/plain": [
       "('limited', tensor(0), tensor([0.4589, 0.4327, 0.1084]))"
      ]
     },
     "execution_count": 118,
     "metadata": {},
     "output_type": "execute_result"
    }
   ],
   "source": [
    "learn_clas.predict('Fred may only assign to Wilma.')"
   ]
  },
  {
   "cell_type": "code",
   "execution_count": 122,
   "metadata": {},
   "outputs": [
    {
     "data": {
      "text/plain": [
       "array([1, 0, 0, 0, 0, 0, 1, 1, 1, 1, 1, 0, 2, 1, 0, 1, 2, 1, 1, 1], dtype=object)"
      ]
     },
     "execution_count": 122,
     "metadata": {},
     "output_type": "execute_result"
    }
   ],
   "source": [
    "data_clas.valid_ds.y.items"
   ]
  },
  {
   "cell_type": "code",
   "execution_count": 124,
   "metadata": {},
   "outputs": [
    {
     "data": {
      "text/plain": [
       "array(['limited', 'not', 'assignable'], dtype='<U10')"
      ]
     },
     "execution_count": 124,
     "metadata": {},
     "output_type": "execute_result"
    }
   ],
   "source": [
    "data_clas.valid_ds.y.classes"
   ]
  },
  {
   "cell_type": "code",
   "execution_count": 125,
   "metadata": {},
   "outputs": [
    {
     "data": {
      "text/plain": [
       "2"
      ]
     },
     "execution_count": 125,
     "metadata": {},
     "output_type": "execute_result"
    }
   ],
   "source": [
    "data_clas.valid_ds.y.items[12]"
   ]
  },
  {
   "cell_type": "code",
   "execution_count": 128,
   "metadata": {},
   "outputs": [
    {
     "data": {
      "text/plain": [
       "Text xxbos xxunk 1 xxmaj assignment . xxmaj this xxmaj warrant may be transferred or assigned , in whole or in part , at any time and from time to time by the then xxmaj holder by xxunk this xxmaj warrant to the xxmaj company together with a duly executed xxmaj assignment in substantially the form and substance of the xxmaj form of xxmaj assignment which xxunk this xxmaj warrant as xxmaj exhibit b hereto , and , upon the xxmaj company 's receipt thereof , and in any event , within five ( 5 ) business days thereafter , the xxmaj company shall issue a xxmaj warrant to the xxmaj holder to evidence that portion of this xxmaj warrant , if any as shall not have been so transferred or assigned ."
      ]
     },
     "execution_count": 128,
     "metadata": {},
     "output_type": "execute_result"
    }
   ],
   "source": [
    "data_clas.valid_ds.x[12]"
   ]
  },
  {
   "cell_type": "code",
   "execution_count": 130,
   "metadata": {},
   "outputs": [
    {
     "data": {
      "text/plain": [
       "('assignable', tensor(2), tensor([0.0348, 0.0005, 0.9647]))"
      ]
     },
     "execution_count": 130,
     "metadata": {},
     "output_type": "execute_result"
    }
   ],
   "source": [
    "learn_clas.predict(' This Warrant may be transferred or assigned, in whole or in part, at any time and from time to time by the then Holder by submitting this Warrant to the Company together with a duly executed Assignment in substantially the form and substance of the Form of Assignment which accompanies this Warrant as Exhibit B hereto, and, upon the Company\\'s receipt thereof, and in any event, within five (5) business days thereafter, the Company shall issue a Warrant to the Holder to evidence that portion of this Warrant, if any as shall not have been so transferred or assigned.')"
   ]
  },
  {
   "cell_type": "code",
   "execution_count": 131,
   "metadata": {},
   "outputs": [
    {
     "data": {
      "text/plain": [
       "2"
      ]
     },
     "execution_count": 131,
     "metadata": {},
     "output_type": "execute_result"
    }
   ],
   "source": [
    "data_clas.valid_ds.y.items[16]"
   ]
  },
  {
   "cell_type": "code",
   "execution_count": 132,
   "metadata": {},
   "outputs": [
    {
     "data": {
      "text/plain": [
       "Text xxbos xxunk 1 xxmaj the xxmaj bank may sell or assign all or any portion of its rights and benefits hereunder and , in connection therewith , may deliver to such prospective buyer or assignee financial statements and other relevant information pertaining to the xxmaj debtor or any obligor on the xxmaj indebtedness ."
      ]
     },
     "execution_count": 132,
     "metadata": {},
     "output_type": "execute_result"
    }
   ],
   "source": [
    "data_clas.valid_ds.x[16]"
   ]
  },
  {
   "cell_type": "code",
   "execution_count": 139,
   "metadata": {},
   "outputs": [
    {
     "data": {
      "text/plain": [
       "('limited', tensor(0), tensor([0.5946, 0.2059, 0.1994]))"
      ]
     },
     "execution_count": 139,
     "metadata": {},
     "output_type": "execute_result"
    }
   ],
   "source": [
    "learn_clas.predict('Bart may transfer to Lisa.')"
   ]
  },
  {
   "cell_type": "code",
   "execution_count": 140,
   "metadata": {},
   "outputs": [
    {
     "data": {
      "text/plain": [
       "('not', tensor(1), tensor([0.0570, 0.9352, 0.0077]))"
      ]
     },
     "execution_count": 140,
     "metadata": {},
     "output_type": "execute_result"
    }
   ],
   "source": [
    "learn_clas.predict('Bart may not transfer.')"
   ]
  },
  {
   "cell_type": "code",
   "execution_count": null,
   "metadata": {},
   "outputs": [],
   "source": []
  }
 ],
 "metadata": {
  "kernelspec": {
   "display_name": "Python 3",
   "language": "python",
   "name": "python3"
  },
  "language_info": {
   "codemirror_mode": {
    "name": "ipython",
    "version": 3
   },
   "file_extension": ".py",
   "mimetype": "text/x-python",
   "name": "python",
   "nbconvert_exporter": "python",
   "pygments_lexer": "ipython3",
   "version": "3.6.5"
  }
 },
 "nbformat": 4,
 "nbformat_minor": 2
}
