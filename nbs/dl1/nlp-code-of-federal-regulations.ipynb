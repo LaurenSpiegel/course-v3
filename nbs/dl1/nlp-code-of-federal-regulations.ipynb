{
 "cells": [
  {
   "cell_type": "code",
   "execution_count": 52,
   "metadata": {},
   "outputs": [],
   "source": [
    "%reload_ext autoreload\n",
    "%autoreload 2\n",
    "%matplotlib inline"
   ]
  },
  {
   "cell_type": "code",
   "execution_count": 53,
   "metadata": {},
   "outputs": [],
   "source": [
    "from fastai import *\n",
    "from fastai.text import *"
   ]
  },
  {
   "cell_type": "code",
   "execution_count": 43,
   "metadata": {},
   "outputs": [],
   "source": [
    "# Title 37 - Patents, Trademarks and Copyrights\n",
    "sample = 'data/code_of_federal_regulations/title-37-2017/CFR-2017-title37-vol1.xml'"
   ]
  },
  {
   "cell_type": "code",
   "execution_count": 44,
   "metadata": {},
   "outputs": [
    {
     "data": {
      "text/plain": [
       "'data/code_of_federal_regulations/title-37-2017/CFR-2017-title37-vol1.xml'"
      ]
     },
     "execution_count": 44,
     "metadata": {},
     "output_type": "execute_result"
    }
   ],
   "source": [
    "sample"
   ]
  },
  {
   "cell_type": "code",
   "execution_count": 45,
   "metadata": {},
   "outputs": [],
   "source": [
    "import xml.etree.ElementTree as ET\n",
    "tree = ET.parse(sample)\n",
    "root = tree.getroot()"
   ]
  },
  {
   "cell_type": "code",
   "execution_count": 46,
   "metadata": {},
   "outputs": [
    {
     "data": {
      "text/plain": [
       "<Element 'CFRDOC' at 0x7f103cf27f28>"
      ]
     },
     "execution_count": 46,
     "metadata": {},
     "output_type": "execute_result"
    }
   ],
   "source": [
    "root"
   ]
  },
  {
   "cell_type": "code",
   "execution_count": 39,
   "metadata": {},
   "outputs": [],
   "source": [
    "# for tag in root.iter():\n",
    "# #     path = tree.getpath(tag)\n",
    "# #     path = path.replace('/', '    ')\n",
    "# #     spaces = Counter(path)\n",
    "# #     tag_name = path.split()[-1].split('[')[0]\n",
    "# #     tag_name = ' ' * (spaces[' '] - 4) + tag_name\n",
    "#     print(tag)"
   ]
  },
  {
   "cell_type": "code",
   "execution_count": null,
   "metadata": {},
   "outputs": [],
   "source": []
  },
  {
   "cell_type": "code",
   "execution_count": 57,
   "metadata": {},
   "outputs": [],
   "source": [
    "path = Path('data/code_of_federal_regulations/title-37-2017')"
   ]
  },
  {
   "cell_type": "code",
   "execution_count": 94,
   "metadata": {},
   "outputs": [],
   "source": [
    "f1 = open(path/'CFR-2017-title37-vol1.xml', 'r')\n",
    "f2 = open(path/'CFR-2017-title37-vol1.txt', 'w')\n",
    "for line in f1:\n",
    "    f2.write(re.sub(r'<[^>]+>', ' ', line))\n",
    "f1.close()\n",
    "f2.close()"
   ]
  },
  {
   "cell_type": "code",
   "execution_count": 111,
   "metadata": {},
   "outputs": [],
   "source": [
    "df = pd.read_csv(path/'CFR-2017-title37-vol1.txt', delimiter = \"\\t\")"
   ]
  },
  {
   "cell_type": "code",
   "execution_count": 112,
   "metadata": {
    "scrolled": true
   },
   "outputs": [
    {
     "data": {
      "text/html": [
       "<div>\n",
       "<style scoped>\n",
       "    .dataframe tbody tr th:only-of-type {\n",
       "        vertical-align: middle;\n",
       "    }\n",
       "\n",
       "    .dataframe tbody tr th {\n",
       "        vertical-align: top;\n",
       "    }\n",
       "\n",
       "    .dataframe thead th {\n",
       "        text-align: right;\n",
       "    }\n",
       "</style>\n",
       "<table border=\"1\" class=\"dataframe\">\n",
       "  <thead>\n",
       "    <tr style=\"text-align: right;\">\n",
       "      <th></th>\n",
       "      <th>July 1, 2017</th>\n",
       "    </tr>\n",
       "  </thead>\n",
       "  <tbody>\n",
       "    <tr>\n",
       "      <th>400</th>\n",
       "      <td>[Reserved]</td>\n",
       "    </tr>\n",
       "    <tr>\n",
       "      <th>401</th>\n",
       "      <td>1.121</td>\n",
       "    </tr>\n",
       "    <tr>\n",
       "      <th>402</th>\n",
       "      <td>Manner of making amendments i...</td>\n",
       "    </tr>\n",
       "    <tr>\n",
       "      <th>403</th>\n",
       "      <td>1.122-1.124</td>\n",
       "    </tr>\n",
       "    <tr>\n",
       "      <th>404</th>\n",
       "      <td>[Reserved]</td>\n",
       "    </tr>\n",
       "    <tr>\n",
       "      <th>405</th>\n",
       "      <td>1.125</td>\n",
       "    </tr>\n",
       "    <tr>\n",
       "      <th>406</th>\n",
       "      <td>Substitute specification.</td>\n",
       "    </tr>\n",
       "    <tr>\n",
       "      <th>407</th>\n",
       "      <td>1.126</td>\n",
       "    </tr>\n",
       "    <tr>\n",
       "      <th>408</th>\n",
       "      <td>Numbering of claims.</td>\n",
       "    </tr>\n",
       "    <tr>\n",
       "      <th>409</th>\n",
       "      <td>1.127</td>\n",
       "    </tr>\n",
       "    <tr>\n",
       "      <th>410</th>\n",
       "      <td>Petition from refusal to admi...</td>\n",
       "    </tr>\n",
       "    <tr>\n",
       "      <th>411</th>\n",
       "      <td>Transitional Provisions</td>\n",
       "    </tr>\n",
       "    <tr>\n",
       "      <th>412</th>\n",
       "      <td>1.129</td>\n",
       "    </tr>\n",
       "    <tr>\n",
       "      <th>413</th>\n",
       "      <td>Transitional procedures for l...</td>\n",
       "    </tr>\n",
       "    <tr>\n",
       "      <th>414</th>\n",
       "      <td>Affidavits Overcoming Rejecti...</td>\n",
       "    </tr>\n",
       "    <tr>\n",
       "      <th>415</th>\n",
       "      <td>1.130</td>\n",
       "    </tr>\n",
       "    <tr>\n",
       "      <th>416</th>\n",
       "      <td>Affidavit or declaration of a...</td>\n",
       "    </tr>\n",
       "    <tr>\n",
       "      <th>417</th>\n",
       "      <td>1.131</td>\n",
       "    </tr>\n",
       "    <tr>\n",
       "      <th>418</th>\n",
       "      <td>Affidavit or declaration of p...</td>\n",
       "    </tr>\n",
       "    <tr>\n",
       "      <th>419</th>\n",
       "      <td>1.132</td>\n",
       "    </tr>\n",
       "  </tbody>\n",
       "</table>\n",
       "</div>"
      ],
      "text/plain": [
       "                                         July 1, 2017 \n",
       "400                                        [Reserved] \n",
       "401                                             1.121 \n",
       "402                   Manner of making amendments i...\n",
       "403                                       1.122-1.124 \n",
       "404                                        [Reserved] \n",
       "405                                             1.125 \n",
       "406                         Substitute specification. \n",
       "407                                             1.126 \n",
       "408                              Numbering of claims. \n",
       "409                                             1.127 \n",
       "410                   Petition from refusal to admi...\n",
       "411                           Transitional Provisions \n",
       "412                                             1.129 \n",
       "413                   Transitional procedures for l...\n",
       "414                   Affidavits Overcoming Rejecti...\n",
       "415                                             1.130 \n",
       "416                   Affidavit or declaration of a...\n",
       "417                                             1.131 \n",
       "418                   Affidavit or declaration of p...\n",
       "419                                             1.132 "
      ]
     },
     "execution_count": 112,
     "metadata": {},
     "output_type": "execute_result"
    }
   ],
   "source": [
    "df.iloc[400:420]"
   ]
  },
  {
   "cell_type": "code",
   "execution_count": 115,
   "metadata": {},
   "outputs": [
    {
     "data": {
      "text/plain": [
       "Index(['   July 1, 2017 '], dtype='object')"
      ]
     },
     "execution_count": 115,
     "metadata": {},
     "output_type": "execute_result"
    }
   ],
   "source": [
    "df.columns"
   ]
  },
  {
   "cell_type": "code",
   "execution_count": 125,
   "metadata": {},
   "outputs": [
    {
     "data": {
      "text/plain": [
       "   July 1, 2017     29652\n",
       "dtype: int64"
      ]
     },
     "execution_count": 125,
     "metadata": {},
     "output_type": "execute_result"
    }
   ],
   "source": [
    "df.count()"
   ]
  },
  {
   "cell_type": "code",
   "execution_count": 55,
   "metadata": {},
   "outputs": [],
   "source": [
    "bs=24"
   ]
  },
  {
   "cell_type": "code",
   "execution_count": 113,
   "metadata": {},
   "outputs": [],
   "source": [
    "def no_filter(x):\n",
    "    print(x)\n",
    "    return True"
   ]
  },
  {
   "cell_type": "code",
   "execution_count": 120,
   "metadata": {},
   "outputs": [],
   "source": [
    "data_lm = (TextList.from_df(df, path=path)                           \n",
    "           #Inputs: all the text files in path\n",
    "            .filter_by_func(no_filter) \n",
    "           #DONT NEED THIS. CARRYOVER FROM from_folder version\n",
    "            .random_split_by_pct(0.1)\n",
    "           #We randomly split and keep 10% for validation\n",
    "            .label_for_lm()           \n",
    "           #We want to do a language model so we label accordingly\n",
    "            .databunch(bs=bs))\n",
    "data_lm.save('tmp_lm')"
   ]
  },
  {
   "cell_type": "code",
   "execution_count": 121,
   "metadata": {},
   "outputs": [],
   "source": [
    "data_lm = TextLMDataBunch.load(path, 'tmp_lm', bs=bs)"
   ]
  },
  {
   "cell_type": "code",
   "execution_count": 122,
   "metadata": {},
   "outputs": [
    {
     "data": {
      "text/plain": [
       "PosixPath('data/code_of_federal_regulations/title-37-2017')"
      ]
     },
     "execution_count": 122,
     "metadata": {},
     "output_type": "execute_result"
    }
   ],
   "source": [
    "data_lm.path"
   ]
  },
  {
   "cell_type": "code",
   "execution_count": 123,
   "metadata": {},
   "outputs": [
    {
     "data": {
      "text/html": [
       "<table>  <col width='5%'>  <col width='95%'>  <tr>\n",
       "    <th>idx</th>\n",
       "    <th>text</th>\n",
       "  </tr>\n",
       "  <tr>\n",
       "    <th>0</th>\n",
       "    <th>xxbos ( c ) xxmaj accounting periods and deposit . ( 1 ) xxmaj statements of xxmaj account shall cover semiannual accounting periods of xxmaj january 1 through xxmaj june 30 , and xxmaj july 1 through xxmaj december 31 , and shall be deposited in the xxmaj copyright xxmaj office , together with the total royalty fee for such accounting periods as prescribed by 17 u.s.c. xxunk ) through ( f ) , by no later than the immediately following xxmaj august 29 , if the xxmaj statement of xxmaj account covers the xxmaj</th>\n",
       "  </tr>\n",
       "  <tr>\n",
       "    <th>1</th>\n",
       "    <th>any paper by a party , whether a practitioner or non - practitioner , constitutes a certification under §   11.18(b ) of this subchapter . xxmaj violations of §   xxunk ) of this subchapter by a party , whether a practitioner or non - practitioner , may result in the imposition of sanctions under §   11.18(c ) of this subchapter . xxmaj any practitioner violating §   11.18(b ) of this subchapter may also be subject to disciplinary action . xxmaj see §   xxunk ) of this subchapter . xxbos 2.87(c)(1</th>\n",
       "  </tr>\n",
       "  <tr>\n",
       "    <th>2</th>\n",
       "    <th>the purposes of testing and review , subject to the condition that payment to the copyright owner is required after a person who has secured a copy decides to use the software . xxbos xxup subchapter b— xxup administration xxbos xxmaj source : xxbos 27 , ii xxbos §   401.5 xxbos 7 , iv xxbos §   382.3 xxbos xxmaj all applications submitted for registration shall supply the information required by the particular application and shall include a certification . xxmaj the certification shall consist of : xxbos ( iii ) xxmaj in the</th>\n",
       "  </tr>\n",
       "  <tr>\n",
       "    <th>3</th>\n",
       "    <th>) xxmaj the provisions of paragraphs ( g)(1 ) through ( g)(3 ) of this section satisfy the requirements of 5 u.s.c. xxunk ) . xxbos 1.16 xxbos ( 1 ) xxmaj xxunk the practitioner 's efforts in accordance with paragraph ( b ) of this section the highest authority that can act on behalf of the organization xxunk upon or fails to address in a timely and appropriate manner an action , or a refusal to act , that is clearly a violation of law , and xxbos ( b ) xxmaj the term</th>\n",
       "  </tr>\n",
       "  <tr>\n",
       "    <th>4</th>\n",
       "    <th>xxmaj technical correction xxbos xxunk xxbos [ 73 fr 47689 , xxmaj aug. 14 , 2008 , as amended at 77 fr 45251 , xxmaj july 31 , 2012 ; 78 fr 20200 , xxmaj apr. 3 , 2013 ] xxbos xxmaj royalty rates and subscriber - based royalty floors for specific types of services . xxbos ( iii ) xxmaj appointments and / or revocations of power of attorney ; xxbos 2013 xxbos xxunk xxbos §   2.63 xxbos ( 2 ) xxmaj if the number of phonorecords that are returned during the month</th>\n",
       "  </tr>\n",
       "  <tr>\n",
       "    <th>5</th>\n",
       "    <th>longer appropriate must be signed by a party identified in §   1.33(b ) . xxmaj payment of a fee in other than the small entity amount is not sufficient notification that small entity status is no longer appropriate . xxbos xxup xii xxbos [ 65 fr xxunk , xxmaj sept. 8 , 2000 , as amended at 65 fr xxunk , xxmaj sept. 20 , 2000 ; 68 fr 38628 , xxmaj june 30 , 2003 ; 78 fr 62402 , xxmaj oct. 21 , 2013 ] xxbos xxmaj cross - references to related</th>\n",
       "  </tr>\n",
       "  <tr>\n",
       "    <th>6</th>\n",
       "    <th>the deposition record . xxbos xxmaj expert testimony ; tests and data . xxbos ( e ) xxmaj the appropriate filing fee , as required in §   201.3(c ) , is included with the submission or charged to an active deposit account . xxbos ( iii ) xxmaj the source of the intended first transmission of the work or works ; xxbos 65 fr 76777 , xxmaj dec. 7 , 2000 , unless otherwise noted . xxbos ( b ) xxmaj the xxunk ) and / or xxunk ) of the author , if</th>\n",
       "  </tr>\n",
       "  <tr>\n",
       "    <th>7</th>\n",
       "    <th>xxmaj united xxmaj states xxmaj postal xxmaj service xxmaj express xxmaj mail ) , the envelope should be addressed to : xxmaj copyright xxmaj royalty xxmaj board , p.o. xxmaj box xxunk , xxmaj xxunk xxmaj station , xxmaj washington , dc 20024 - xxunk . xxbos ( 4 ) xxmaj transmitting information to authorities pertinent to the processing of specific international applications . xxbos ( c ) xxmaj if an application does not fulfill the requirements of paragraphs ( a ) and ( b ) of this section , the applicant must pay the</th>\n",
       "  </tr>\n",
       "  <tr>\n",
       "    <th>8</th>\n",
       "    <th>information provided on the application is correct to the best of the applicant 's knowledge . xxbos ( 2 ) a request for prioritized examination may be filed with or after a request for continued examination in compliance with §   1.114 . xxmaj if the application is a utility application , the request must be filed via the xxmaj office 's electronic filing system . xxmaj the request must be filed before the mailing of the first xxmaj office action after the filing of the request for continued examination under §   1.114 .</th>\n",
       "  </tr>\n",
       "  <tr>\n",
       "    <th>9</th>\n",
       "    <th>filing with the xxmaj united xxmaj states xxmaj receiving xxmaj office or in a separate letter filed in the xxmaj united xxmaj states xxmaj receiving xxmaj office not later than 16 months after the priority date , that the xxmaj united xxmaj states xxmaj patent and xxmaj trademark xxmaj office prepare a certified copy of the prior application for transmittal to the xxmaj international xxmaj bureau ( xxup pct xxmaj article 8 and xxup pct xxmaj rule 17 ) . xxmaj the fee for preparing a certified copy is set forth in §   xxunk</th>\n",
       "  </tr>\n",
       "</table>\n"
      ],
      "text/plain": [
       "<IPython.core.display.HTML object>"
      ]
     },
     "metadata": {},
     "output_type": "display_data"
    }
   ],
   "source": [
    "data_lm.show_batch()"
   ]
  },
  {
   "cell_type": "code",
   "execution_count": 138,
   "metadata": {},
   "outputs": [
    {
     "data": {
      "text/plain": [
       "['xxunk',\n",
       " 'xxpad',\n",
       " 'xxmaj',\n",
       " 'the',\n",
       " ',',\n",
       " 'xxbos',\n",
       " 'of',\n",
       " ')',\n",
       " '(',\n",
       " '.',\n",
       " 'a',\n",
       " 'to',\n",
       " 'or',\n",
       " 'in',\n",
       " 'and',\n",
       " 'for',\n",
       " 'be',\n",
       " 'by',\n",
       " 'is',\n",
       " '§',\n",
       " ';',\n",
       " '\\u2009',\n",
       " 'an',\n",
       " 'that',\n",
       " 'application',\n",
       " 'as',\n",
       " 'this',\n",
       " 'xxup',\n",
       " 'under',\n",
       " 'any']"
      ]
     },
     "execution_count": 138,
     "metadata": {},
     "output_type": "execute_result"
    }
   ],
   "source": [
    "data_lm.vocab.itos[:30]"
   ]
  },
  {
   "cell_type": "code",
   "execution_count": 142,
   "metadata": {},
   "outputs": [],
   "source": [
    "learn = language_model_learner(data_lm, pretrained_model=URLs.WT103, drop_mult=0.3)"
   ]
  },
  {
   "cell_type": "code",
   "execution_count": 143,
   "metadata": {},
   "outputs": [
    {
     "name": "stdout",
     "output_type": "stream",
     "text": [
      "LR Finder is complete, type {learner_name}.recorder.plot() to see the graph.\n"
     ]
    }
   ],
   "source": [
    "learn.lr_find()"
   ]
  },
  {
   "cell_type": "code",
   "execution_count": 144,
   "metadata": {},
   "outputs": [
    {
     "data": {
      "image/png": "[encoded data removed]",
      "text/plain": [
       "<Figure size 432x288 with 1 Axes>"
      ]
     },
     "metadata": {
      "needs_background": "light"
     },
     "output_type": "display_data"
    }
   ],
   "source": [
    "learn.recorder.plot()"
   ]
  },
  {
   "cell_type": "code",
   "execution_count": 145,
   "metadata": {},
   "outputs": [
    {
     "name": "stdout",
     "output_type": "stream",
     "text": [
      "Total time: 00:22\n",
      "epoch  train_loss  valid_loss  accuracy\n",
      "1      5.997071                          (00:22)\n",
      "\n"
     ]
    }
   ],
   "source": [
    "learn.fit_one_cycle(1, 5e-1, moms=(0.8,0.7))"
   ]
  },
  {
   "cell_type": "code",
   "execution_count": 146,
   "metadata": {},
   "outputs": [
    {
     "name": "stdout",
     "output_type": "stream",
     "text": [
      "Total time: 00:22\n",
      "epoch  train_loss  valid_loss  accuracy\n",
      "1      6.529683                          (00:22)\n",
      "\n"
     ]
    }
   ],
   "source": [
    "learn.fit_one_cycle(1, 5e-1, moms=(0.8,0.7))"
   ]
  },
  {
   "cell_type": "code",
   "execution_count": null,
   "metadata": {},
   "outputs": [],
   "source": [
    "# not showing accuracy above???\n",
    "# maybe because i ran this:\n",
    "\n",
    "from fastai.callbacks import * \n",
    "learn.callbacks = [SaveModelCallback(learn)]"
   ]
  },
  {
   "cell_type": "code",
   "execution_count": null,
   "metadata": {},
   "outputs": [],
   "source": []
  },
  {
   "cell_type": "markdown",
   "metadata": {},
   "source": [
    "## Start again"
   ]
  },
  {
   "cell_type": "code",
   "execution_count": 149,
   "metadata": {},
   "outputs": [],
   "source": [
    "data_lm2 = (TextList.from_df(df, path=path)                           \n",
    "           #Inputs: all the text files in path\n",
    "            .random_split_by_pct(0.1)\n",
    "           #We randomly split and keep 10% for validation\n",
    "            .label_for_lm()           \n",
    "           #We want to do a language model so we label accordingly\n",
    "            .databunch(bs=bs))\n",
    "data_lm2.save('tmp_lm2')"
   ]
  },
  {
   "cell_type": "code",
   "execution_count": 150,
   "metadata": {},
   "outputs": [],
   "source": [
    "data_lm2 = TextLMDataBunch.load(path, 'tmp_lm2', bs=bs)"
   ]
  },
  {
   "cell_type": "code",
   "execution_count": 151,
   "metadata": {},
   "outputs": [
    {
     "data": {
      "text/html": [
       "<table>  <col width='5%'>  <col width='95%'>  <tr>\n",
       "    <th>idx</th>\n",
       "    <th>text</th>\n",
       "  </tr>\n",
       "  <tr>\n",
       "    <th>0</th>\n",
       "    <th>xxbos xxmaj action by patent owner . xxbos 1.805 xxbos ( 2 ) xxmaj maintain appeal . xxmaj request that the appeal be maintained by filing a reply brief as set forth in §   41.41 . xxmaj such a reply brief must address as set forth in §   xxunk ) each new ground of rejection and should follow the other requirements of a brief as set forth in §   xxunk ) . a reply brief may not be accompanied by any amendment , affidavit ( § §   1.130 , 1.131 or</th>\n",
       "  </tr>\n",
       "  <tr>\n",
       "    <th>1</th>\n",
       "    <th>and the registration fee set forth in §   xxunk ) of this subchapter . xxmaj an individual seeking registration as an attorney under §   xxunk ) must provide a certificate of good standing of the bar of the highest court of a xxmaj state that is no more than six months old . xxbos ( d ) xxmaj the international and search fees will be refunded if no international filing date is accorded or if the application is withdrawn before transmittal of the record copy to the xxmaj international xxmaj bureau ( xxup</th>\n",
       "  </tr>\n",
       "  <tr>\n",
       "    <th>2</th>\n",
       "    <th>means the xxmaj common xxmaj regulations xxmaj under the 1999 xxmaj act and the 1960 xxmaj act of the xxmaj hague xxmaj agreement , and xxmaj hague xxmaj agreement xxmaj rule as used in this chapter means one of the xxmaj hague xxmaj agreement xxmaj regulations . xxbos xxunk xxbos ( c ) xxmaj notice of deposition . ( 1 ) xxmaj prior to the taking of testimony , all parties to the proceeding must agree on the time and place for taking testimony . xxmaj if the parties can not agree , the party</th>\n",
       "  </tr>\n",
       "  <tr>\n",
       "    <th>3</th>\n",
       "    <th>taking and passing of the examination is waived as provided in paragraph ( d ) of this section . xxmaj unless examination is waived pursuant to paragraph ( d ) of this section , each individual seeking registration must take and pass the registration examination to enable the xxup oed xxmaj director to determine whether the individual possesses the legal and competence qualifications specified in paragraphs ( a)(2)(ii ) and ( a)(2)(iii ) of this section . xxmaj an individual failing the examination may , upon receipt of notice of failure from xxup oed ,</th>\n",
       "  </tr>\n",
       "  <tr>\n",
       "    <th>4</th>\n",
       "    <th>, such as a phone number , email address , and / or mailing address , to assist the xxmaj office in communicating with a requester and providing released records . xxbos ( iii ) xxmaj works submitted for registration in digital formats . a “ complete ” electronically filed work is one which is embodied in a digital file which contains : xxbos 63043 xxbos xxunk xxbos xxunk ) , 2.127(a ) xxbos ( 3 ) xxmaj new arguments responding to a new ground of rejection designated pursuant to §   41.50(b ) are</th>\n",
       "  </tr>\n",
       "  <tr>\n",
       "    <th>5</th>\n",
       "    <th>) in an appeal may once , within the time limit for filing set forth in §   41.66 , file a respondent brief and serve the brief on all parties in accordance with §   1.903 of this title . xxbos ( 1 ) xxmaj international application fees ( xxmaj rule 12(1 ) ) ; and xxbos xxmaj level 8 xxbos xxmaj administration of patent rights clauses . xxbos 31 , vi xxbos xxmaj by a small entity ( §   1.27(a ) ) xxbos xxmaj occupational xxmaj safety and xxmaj health xxmaj administration</th>\n",
       "  </tr>\n",
       "  <tr>\n",
       "    <th>6</th>\n",
       "    <th>of all xxmaj covered xxmaj entities to be treated as xxmaj covered xxmaj entities hereunder upon written notice to xxup cpb . xxmaj in such a case , a prorated portion of the xxmaj license xxmaj fee for the remainder of the xxmaj term ( to the extent paid by xxup cpb ) shall , after deduction of any xxunk payable to the xxmaj collective by virtue of the breach or failure , be credited to statutory royalty obligations of xxmaj covered xxmaj entities to the xxmaj collective for the xxmaj term as specified by</th>\n",
       "  </tr>\n",
       "  <tr>\n",
       "    <th>7</th>\n",
       "    <th>the xxmaj copyright xxmaj royalty xxmaj judges , set forth in §   354.1 , shall also govern the mandatory referral of novel questions , except that the xxmaj register of xxmaj copyrights ' decision will be timely if it is delivered to the xxmaj copyright xxmaj royalty xxmaj judges within 30 days after the xxmaj register of xxmaj copyrights has received all of the briefs or comments of the participants . xxmaj the xxmaj copyright xxmaj royalty xxmaj judges will not issue a final determination in a proceeding where the referral of a novel</th>\n",
       "  </tr>\n",
       "  <tr>\n",
       "    <th>8</th>\n",
       "    <th>) , ( f ) xxbos 7.24 xxbos xxmaj final refusal of application xxbos 2.65 xxbos §   xxunk xxbos 30 , xxup xii xxbos ( t ) xxmaj for filing a petition to convert an international design application to a design application under 35 u.s.c. chapter 16 ( §   1.1052 ) : $ 180.00 . xxbos 45 , xxup xviii xxbos ( h ) xxmaj amendment sections . xxmaj each section of an amendment document ( e.g. , amendment to the claims , amendment to the specification , replacement drawings , and remarks</th>\n",
       "  </tr>\n",
       "  <tr>\n",
       "    <th>9</th>\n",
       "    <th>covering statutory licenses for secondary transmissions . xxbos ( i ) 3 1 / 2 ″ xxmaj diskette(s ) . xxbos ( b ) xxmaj in a text file on the cd- xxup rom or xxup dvd that contains the deposited photographic images ; xxbos [ 52 fr 9394 , xxmaj mar. 24 , 1987 , as amended at 59 fr xxunk , xxmaj oct. 22 , 1993 ; 61 fr xxunk , xxmaj dec. 3 , 1996 ; 65 fr 54680 , xxmaj sept. 8 , 2000 ; 69 fr 56546 , xxmaj sept.</th>\n",
       "  </tr>\n",
       "</table>\n"
      ],
      "text/plain": [
       "<IPython.core.display.HTML object>"
      ]
     },
     "metadata": {},
     "output_type": "display_data"
    }
   ],
   "source": [
    "data_lm2.show_batch()"
   ]
  },
  {
   "cell_type": "code",
   "execution_count": 174,
   "metadata": {},
   "outputs": [
    {
     "data": {
      "text/plain": [
       "['xxunk',\n",
       " 'xxpad',\n",
       " 'xxmaj',\n",
       " 'the',\n",
       " ',',\n",
       " 'xxbos',\n",
       " 'of',\n",
       " ')',\n",
       " '(',\n",
       " '.',\n",
       " 'a',\n",
       " 'to',\n",
       " 'or',\n",
       " 'in',\n",
       " 'and',\n",
       " 'for',\n",
       " 'be',\n",
       " 'by',\n",
       " 'is',\n",
       " '§',\n",
       " ';',\n",
       " '\\u2009',\n",
       " 'an',\n",
       " 'that',\n",
       " 'as',\n",
       " 'application',\n",
       " 'this',\n",
       " 'xxup',\n",
       " 'under',\n",
       " 'any']"
      ]
     },
     "execution_count": 174,
     "metadata": {},
     "output_type": "execute_result"
    }
   ],
   "source": [
    "data_lm2.vocab.itos[:30]"
   ]
  },
  {
   "cell_type": "code",
   "execution_count": 153,
   "metadata": {},
   "outputs": [],
   "source": [
    "learn2 = language_model_learner(data_lm2, pretrained_model=URLs.WT103, drop_mult=0.3)"
   ]
  },
  {
   "cell_type": "code",
   "execution_count": 154,
   "metadata": {},
   "outputs": [
    {
     "name": "stdout",
     "output_type": "stream",
     "text": [
      "LR Finder is complete, type {learner_name}.recorder.plot() to see the graph.\n"
     ]
    }
   ],
   "source": [
    "learn2.lr_find()"
   ]
  },
  {
   "cell_type": "code",
   "execution_count": 155,
   "metadata": {},
   "outputs": [
    {
     "data": {
      "image/png": "[encoded data removed]",
      "text/plain": [
       "<Figure size 432x288 with 1 Axes>"
      ]
     },
     "metadata": {
      "needs_background": "light"
     },
     "output_type": "display_data"
    }
   ],
   "source": [
    "learn2.recorder.plot()"
   ]
  },
  {
   "cell_type": "code",
   "execution_count": 156,
   "metadata": {},
   "outputs": [
    {
     "name": "stdout",
     "output_type": "stream",
     "text": [
      "Total time: 00:23\n",
      "epoch  train_loss  valid_loss  accuracy\n",
      "1      6.049733    5.199365    0.203540  (00:23)\n",
      "\n"
     ]
    }
   ],
   "source": [
    "learn2.fit_one_cycle(1, 5e-1, moms=(0.8,0.7))"
   ]
  },
  {
   "cell_type": "code",
   "execution_count": 157,
   "metadata": {},
   "outputs": [],
   "source": [
    "learn2.save('cfr-1')"
   ]
  },
  {
   "cell_type": "code",
   "execution_count": 158,
   "metadata": {},
   "outputs": [
    {
     "name": "stdout",
     "output_type": "stream",
     "text": [
      "Total time: 00:23\n",
      "epoch  train_loss  valid_loss  accuracy\n",
      "1      6.264086    5.345834    0.196515  (00:23)\n",
      "\n"
     ]
    }
   ],
   "source": [
    "learn2.fit_one_cycle(1, 5e-1, moms=(0.8,0.7))"
   ]
  },
  {
   "cell_type": "code",
   "execution_count": 159,
   "metadata": {},
   "outputs": [
    {
     "name": "stdout",
     "output_type": "stream",
     "text": [
      "Total time: 00:23\n",
      "epoch  train_loss  valid_loss  accuracy\n",
      "1      6.220157    5.295452    0.193412  (00:23)\n",
      "\n"
     ]
    }
   ],
   "source": [
    "learn2.fit_one_cycle(1, 5e-1, moms=(0.8,0.7))"
   ]
  },
  {
   "cell_type": "code",
   "execution_count": 160,
   "metadata": {},
   "outputs": [
    {
     "name": "stdout",
     "output_type": "stream",
     "text": [
      "Total time: 00:23\n",
      "epoch  train_loss  valid_loss  accuracy\n",
      "1      6.286542    5.335227    0.188552  (00:23)\n",
      "\n"
     ]
    }
   ],
   "source": [
    "learn2.fit_one_cycle(1, 5e-1, moms=(0.8,0.7))"
   ]
  },
  {
   "cell_type": "code",
   "execution_count": 161,
   "metadata": {},
   "outputs": [
    {
     "data": {
      "text/plain": [
       "LanguageLearner(data=TextLMDataBunch;\n",
       "Train: LabelList\n",
       "y: LMLabel (26687 items)\n",
       "[Category 0, Category 0, Category 0, Category 0, Category 0]...\n",
       "Path: .\n",
       "x: LMTextList (26687 items)\n",
       "[Text xxbos xxmaj title 37, Text xxbos xxmaj patents , xxmaj trademarks , and xxmaj copyrights, Text xxbos xxmaj containing a codification of documents of general applicability and future effect, Text xxbos xxmaj as of xxmaj july 1 , 2017, Text xxbos xxmaj published by the xxmaj office of the xxmaj federal xxmaj register xxmaj national xxmaj archives and xxmaj records xxmaj administration as a xxmaj special xxmaj edition of the xxmaj federal xxmaj register]...\n",
       "Path: data/code_of_federal_regulations/title-37-2017;\n",
       "Valid: LabelList\n",
       "y: LMLabel (2965 items)\n",
       "[Category 0, Category 0, Category 0, Category 0, Category 0]...\n",
       "Path: .\n",
       "x: LMTextList (2965 items)\n",
       "[Text xxbos ( 1 ) xxmaj when the contractor is not located in the xxmaj united xxmaj states or does not have a place of business located in the xxmaj united xxmaj states or is subject to the control of a foreign government ; or, Text xxbos xxmaj chapter ii, Text xxbos ( 5 ) xxmaj nothing in this paragraph is intended to limit the authority of agencies provided in 35 u.s.c. 205 in circumstances not specifically described in this paragraph ., Text xxbos ( c ) xxmaj relationship to voluntary agreements . xxmaj notwithstanding the royalty rates and terms established in this subpart , the rates and terms of any voluntary license agreements entered into by xxmaj copyright xxmaj owners and xxmaj licensees shall apply in lieu of the rates and terms of this subpart to transmission within the scope of such agreements ., Text xxbos xxmaj required to conduct business with decorum and courtesy]...\n",
       "Path: data/code_of_federal_regulations/title-37-2017;\n",
       "Test: None, model=SequentialRNN(\n",
       "  (0): RNNCore(\n",
       "    (encoder): Embedding(7167, 400, padding_idx=1)\n",
       "    (encoder_dp): EmbeddingDropout(\n",
       "      (emb): Embedding(7167, 400, padding_idx=1)\n",
       "    )\n",
       "    (rnns): ModuleList(\n",
       "      (0): WeightDropout(\n",
       "        (module): LSTM(400, 1150)\n",
       "      )\n",
       "      (1): WeightDropout(\n",
       "        (module): LSTM(1150, 1150)\n",
       "      )\n",
       "      (2): WeightDropout(\n",
       "        (module): LSTM(1150, 400)\n",
       "      )\n",
       "    )\n",
       "    (input_dp): RNNDropout()\n",
       "    (hidden_dps): ModuleList(\n",
       "      (0): RNNDropout()\n",
       "      (1): RNNDropout()\n",
       "      (2): RNNDropout()\n",
       "    )\n",
       "  )\n",
       "  (1): LinearDecoder(\n",
       "    (decoder): Linear(in_features=400, out_features=7167, bias=True)\n",
       "    (output_dp): RNNDropout()\n",
       "  )\n",
       "), opt_func=functools.partial(<class 'torch.optim.adam.Adam'>, betas=(0.9, 0.99)), loss_func=<function cross_entropy at 0x7f1059626d08>, metrics=[<function accuracy at 0x7f1052bd1d90>], true_wd=True, bn_wd=True, wd=0.01, train_bn=True, path=PosixPath('data/code_of_federal_regulations/title-37-2017'), model_dir='models', callback_fns=[<class 'fastai.basic_train.Recorder'>], callbacks=[RNNTrainer(learn=LanguageLearner(data=TextLMDataBunch;\n",
       "Train: LabelList\n",
       "y: LMLabel (26687 items)\n",
       "[Category 0, Category 0, Category 0, Category 0, Category 0]...\n",
       "Path: .\n",
       "x: LMTextList (26687 items)\n",
       "[Text xxbos xxmaj title 37, Text xxbos xxmaj patents , xxmaj trademarks , and xxmaj copyrights, Text xxbos xxmaj containing a codification of documents of general applicability and future effect, Text xxbos xxmaj as of xxmaj july 1 , 2017, Text xxbos xxmaj published by the xxmaj office of the xxmaj federal xxmaj register xxmaj national xxmaj archives and xxmaj records xxmaj administration as a xxmaj special xxmaj edition of the xxmaj federal xxmaj register]...\n",
       "Path: data/code_of_federal_regulations/title-37-2017;\n",
       "Valid: LabelList\n",
       "y: LMLabel (2965 items)\n",
       "[Category 0, Category 0, Category 0, Category 0, Category 0]...\n",
       "Path: .\n",
       "x: LMTextList (2965 items)\n",
       "[Text xxbos ( 1 ) xxmaj when the contractor is not located in the xxmaj united xxmaj states or does not have a place of business located in the xxmaj united xxmaj states or is subject to the control of a foreign government ; or, Text xxbos xxmaj chapter ii, Text xxbos ( 5 ) xxmaj nothing in this paragraph is intended to limit the authority of agencies provided in 35 u.s.c. 205 in circumstances not specifically described in this paragraph ., Text xxbos ( c ) xxmaj relationship to voluntary agreements . xxmaj notwithstanding the royalty rates and terms established in this subpart , the rates and terms of any voluntary license agreements entered into by xxmaj copyright xxmaj owners and xxmaj licensees shall apply in lieu of the rates and terms of this subpart to transmission within the scope of such agreements ., Text xxbos xxmaj required to conduct business with decorum and courtesy]...\n",
       "Path: data/code_of_federal_regulations/title-37-2017;\n",
       "Test: None, model=SequentialRNN(\n",
       "  (0): RNNCore(\n",
       "    (encoder): Embedding(7167, 400, padding_idx=1)\n",
       "    (encoder_dp): EmbeddingDropout(\n",
       "      (emb): Embedding(7167, 400, padding_idx=1)\n",
       "    )\n",
       "    (rnns): ModuleList(\n",
       "      (0): WeightDropout(\n",
       "        (module): LSTM(400, 1150)\n",
       "      )\n",
       "      (1): WeightDropout(\n",
       "        (module): LSTM(1150, 1150)\n",
       "      )\n",
       "      (2): WeightDropout(\n",
       "        (module): LSTM(1150, 400)\n",
       "      )\n",
       "    )\n",
       "    (input_dp): RNNDropout()\n",
       "    (hidden_dps): ModuleList(\n",
       "      (0): RNNDropout()\n",
       "      (1): RNNDropout()\n",
       "      (2): RNNDropout()\n",
       "    )\n",
       "  )\n",
       "  (1): LinearDecoder(\n",
       "    (decoder): Linear(in_features=400, out_features=7167, bias=True)\n",
       "    (output_dp): RNNDropout()\n",
       "  )\n",
       "), opt_func=functools.partial(<class 'torch.optim.adam.Adam'>, betas=(0.9, 0.99)), loss_func=<function cross_entropy at 0x7f1059626d08>, metrics=[<function accuracy at 0x7f1052bd1d90>], true_wd=True, bn_wd=True, wd=0.01, train_bn=True, path=PosixPath('data/code_of_federal_regulations/title-37-2017'), model_dir='models', callback_fns=[<class 'fastai.basic_train.Recorder'>], callbacks=[...], layer_groups=[Sequential(\n",
       "  (0): WeightDropout(\n",
       "    (module): LSTM(400, 1150)\n",
       "  )\n",
       "  (1): RNNDropout()\n",
       "), Sequential(\n",
       "  (0): WeightDropout(\n",
       "    (module): LSTM(1150, 1150)\n",
       "  )\n",
       "  (1): RNNDropout()\n",
       "), Sequential(\n",
       "  (0): WeightDropout(\n",
       "    (module): LSTM(1150, 400)\n",
       "  )\n",
       "  (1): RNNDropout()\n",
       "), Sequential(\n",
       "  (0): Embedding(7167, 400, padding_idx=1)\n",
       "  (1): EmbeddingDropout(\n",
       "    (emb): Embedding(7167, 400, padding_idx=1)\n",
       "  )\n",
       "  (2): LinearDecoder(\n",
       "    (decoder): Linear(in_features=400, out_features=7167, bias=True)\n",
       "    (output_dp): RNNDropout()\n",
       "  )\n",
       ")]), bptt=70, alpha=2.0, beta=1.0, adjust=False)], layer_groups=[Sequential(\n",
       "  (0): WeightDropout(\n",
       "    (module): LSTM(400, 1150)\n",
       "  )\n",
       "  (1): RNNDropout()\n",
       "), Sequential(\n",
       "  (0): WeightDropout(\n",
       "    (module): LSTM(1150, 1150)\n",
       "  )\n",
       "  (1): RNNDropout()\n",
       "), Sequential(\n",
       "  (0): WeightDropout(\n",
       "    (module): LSTM(1150, 400)\n",
       "  )\n",
       "  (1): RNNDropout()\n",
       "), Sequential(\n",
       "  (0): Embedding(7167, 400, padding_idx=1)\n",
       "  (1): EmbeddingDropout(\n",
       "    (emb): Embedding(7167, 400, padding_idx=1)\n",
       "  )\n",
       "  (2): LinearDecoder(\n",
       "    (decoder): Linear(in_features=400, out_features=7167, bias=True)\n",
       "    (output_dp): RNNDropout()\n",
       "  )\n",
       ")])"
      ]
     },
     "execution_count": 161,
     "metadata": {},
     "output_type": "execute_result"
    }
   ],
   "source": [
    "learn2.load('cfr-1')"
   ]
  },
  {
   "cell_type": "code",
   "execution_count": 162,
   "metadata": {},
   "outputs": [],
   "source": [
    "learn2.unfreeze()"
   ]
  },
  {
   "cell_type": "code",
   "execution_count": 163,
   "metadata": {},
   "outputs": [
    {
     "name": "stdout",
     "output_type": "stream",
     "text": [
      "LR Finder is complete, type {learner_name}.recorder.plot() to see the graph.\n"
     ]
    }
   ],
   "source": [
    "learn2.lr_find()"
   ]
  },
  {
   "cell_type": "code",
   "execution_count": 164,
   "metadata": {},
   "outputs": [
    {
     "data": {
      "image/png": "[encoded data removed]",
      "text/plain": [
       "<Figure size 432x288 with 1 Axes>"
      ]
     },
     "metadata": {
      "needs_background": "light"
     },
     "output_type": "display_data"
    }
   ],
   "source": [
    "learn2.recorder.plot()"
   ]
  },
  {
   "cell_type": "code",
   "execution_count": 165,
   "metadata": {},
   "outputs": [
    {
     "name": "stdout",
     "output_type": "stream",
     "text": [
      "Total time: 00:58\n",
      "epoch  train_loss  valid_loss  accuracy\n",
      "1      4.204786    3.996714    0.309239  (00:29)\n",
      "2      3.730015    3.607866    0.352164  (00:29)\n",
      "\n"
     ]
    }
   ],
   "source": [
    "learn2.fit_one_cycle(2, 5e-2, moms=(0.8,0.7))"
   ]
  },
  {
   "cell_type": "code",
   "execution_count": 166,
   "metadata": {},
   "outputs": [],
   "source": [
    "learn2.save('cfr-2')"
   ]
  },
  {
   "cell_type": "code",
   "execution_count": 167,
   "metadata": {},
   "outputs": [
    {
     "name": "stdout",
     "output_type": "stream",
     "text": [
      "Total time: 00:59\n",
      "epoch  train_loss  valid_loss  accuracy\n",
      "1      3.902982    3.760692    0.330199  (00:29)\n",
      "2      3.536049    3.448803    0.366818  (00:29)\n",
      "\n"
     ]
    }
   ],
   "source": [
    "learn2.fit_one_cycle(2, 5e-2, moms=(0.8,0.7))"
   ]
  },
  {
   "cell_type": "code",
   "execution_count": 168,
   "metadata": {},
   "outputs": [],
   "source": [
    "learn2.save('cfr-3')"
   ]
  },
  {
   "cell_type": "code",
   "execution_count": 169,
   "metadata": {},
   "outputs": [
    {
     "name": "stdout",
     "output_type": "stream",
     "text": [
      "Total time: 00:58\n",
      "epoch  train_loss  valid_loss  accuracy\n",
      "1      3.725218    3.612498    0.343684  (00:29)\n",
      "2      3.412882    3.351325    0.378003  (00:29)\n",
      "\n"
     ]
    }
   ],
   "source": [
    "learn2.fit_one_cycle(2, 5e-2, moms=(0.8,0.7))"
   ]
  },
  {
   "cell_type": "code",
   "execution_count": 170,
   "metadata": {},
   "outputs": [],
   "source": [
    "learn2.save('cfr-4')"
   ]
  },
  {
   "cell_type": "code",
   "execution_count": 171,
   "metadata": {},
   "outputs": [
    {
     "name": "stdout",
     "output_type": "stream",
     "text": [
      "Total time: 00:58\n",
      "epoch  train_loss  valid_loss  accuracy\n",
      "1      3.672744    3.530003    0.353672  (00:29)\n",
      "2      3.350599    3.297904    0.380560  (00:29)\n",
      "\n"
     ]
    }
   ],
   "source": [
    "learn2.fit_one_cycle(2, 5e-2, moms=(0.8,0.7))"
   ]
  },
  {
   "cell_type": "code",
   "execution_count": 172,
   "metadata": {},
   "outputs": [],
   "source": [
    "learn2.save('cfr-5')"
   ]
  },
  {
   "cell_type": "code",
   "execution_count": 173,
   "metadata": {},
   "outputs": [
    {
     "name": "stdout",
     "output_type": "stream",
     "text": [
      "Total time: 00:58\n",
      "epoch  train_loss  valid_loss  accuracy\n",
      "1      3.682380    3.549102    0.346043  (00:29)\n",
      "2      3.415163    3.359531    0.373259  (00:29)\n",
      "\n"
     ]
    }
   ],
   "source": [
    "learn2.fit_one_cycle(2, 5e-2, moms=(0.8,0.7))"
   ]
  },
  {
   "cell_type": "code",
   "execution_count": 175,
   "metadata": {},
   "outputs": [
    {
     "name": "stdout",
     "output_type": "stream",
     "text": [
      "Total time: 00:58\n",
      "epoch  train_loss  valid_loss  accuracy\n",
      "1      3.738040    3.591294    0.344648  (00:29)\n",
      "2      3.404305    3.363669    0.372701  (00:29)\n",
      "\n"
     ]
    }
   ],
   "source": [
    "learn2.fit_one_cycle(2, 5e-2, moms=(0.8,0.7))"
   ]
  },
  {
   "cell_type": "code",
   "execution_count": 176,
   "metadata": {},
   "outputs": [
    {
     "data": {
      "text/plain": [
       "LanguageLearner(data=TextLMDataBunch;\n",
       "Train: LabelList\n",
       "y: LMLabel (26687 items)\n",
       "[Category 0, Category 0, Category 0, Category 0, Category 0]...\n",
       "Path: .\n",
       "x: LMTextList (26687 items)\n",
       "[Text xxbos xxmaj title 37, Text xxbos xxmaj patents , xxmaj trademarks , and xxmaj copyrights, Text xxbos xxmaj containing a codification of documents of general applicability and future effect, Text xxbos xxmaj as of xxmaj july 1 , 2017, Text xxbos xxmaj published by the xxmaj office of the xxmaj federal xxmaj register xxmaj national xxmaj archives and xxmaj records xxmaj administration as a xxmaj special xxmaj edition of the xxmaj federal xxmaj register]...\n",
       "Path: data/code_of_federal_regulations/title-37-2017;\n",
       "Valid: LabelList\n",
       "y: LMLabel (2965 items)\n",
       "[Category 0, Category 0, Category 0, Category 0, Category 0]...\n",
       "Path: .\n",
       "x: LMTextList (2965 items)\n",
       "[Text xxbos ( 1 ) xxmaj when the contractor is not located in the xxmaj united xxmaj states or does not have a place of business located in the xxmaj united xxmaj states or is subject to the control of a foreign government ; or, Text xxbos xxmaj chapter ii, Text xxbos ( 5 ) xxmaj nothing in this paragraph is intended to limit the authority of agencies provided in 35 u.s.c. 205 in circumstances not specifically described in this paragraph ., Text xxbos ( c ) xxmaj relationship to voluntary agreements . xxmaj notwithstanding the royalty rates and terms established in this subpart , the rates and terms of any voluntary license agreements entered into by xxmaj copyright xxmaj owners and xxmaj licensees shall apply in lieu of the rates and terms of this subpart to transmission within the scope of such agreements ., Text xxbos xxmaj required to conduct business with decorum and courtesy]...\n",
       "Path: data/code_of_federal_regulations/title-37-2017;\n",
       "Test: None, model=SequentialRNN(\n",
       "  (0): RNNCore(\n",
       "    (encoder): Embedding(7167, 400, padding_idx=1)\n",
       "    (encoder_dp): EmbeddingDropout(\n",
       "      (emb): Embedding(7167, 400, padding_idx=1)\n",
       "    )\n",
       "    (rnns): ModuleList(\n",
       "      (0): WeightDropout(\n",
       "        (module): LSTM(400, 1150)\n",
       "      )\n",
       "      (1): WeightDropout(\n",
       "        (module): LSTM(1150, 1150)\n",
       "      )\n",
       "      (2): WeightDropout(\n",
       "        (module): LSTM(1150, 400)\n",
       "      )\n",
       "    )\n",
       "    (input_dp): RNNDropout()\n",
       "    (hidden_dps): ModuleList(\n",
       "      (0): RNNDropout()\n",
       "      (1): RNNDropout()\n",
       "      (2): RNNDropout()\n",
       "    )\n",
       "  )\n",
       "  (1): LinearDecoder(\n",
       "    (decoder): Linear(in_features=400, out_features=7167, bias=True)\n",
       "    (output_dp): RNNDropout()\n",
       "  )\n",
       "), opt_func=functools.partial(<class 'torch.optim.adam.Adam'>, betas=(0.9, 0.99)), loss_func=<function cross_entropy at 0x7f1059626d08>, metrics=[<function accuracy at 0x7f1052bd1d90>], true_wd=True, bn_wd=True, wd=0.01, train_bn=True, path=PosixPath('data/code_of_federal_regulations/title-37-2017'), model_dir='models', callback_fns=[<class 'fastai.basic_train.Recorder'>], callbacks=[RNNTrainer(learn=LanguageLearner(data=TextLMDataBunch;\n",
       "Train: LabelList\n",
       "y: LMLabel (26687 items)\n",
       "[Category 0, Category 0, Category 0, Category 0, Category 0]...\n",
       "Path: .\n",
       "x: LMTextList (26687 items)\n",
       "[Text xxbos xxmaj title 37, Text xxbos xxmaj patents , xxmaj trademarks , and xxmaj copyrights, Text xxbos xxmaj containing a codification of documents of general applicability and future effect, Text xxbos xxmaj as of xxmaj july 1 , 2017, Text xxbos xxmaj published by the xxmaj office of the xxmaj federal xxmaj register xxmaj national xxmaj archives and xxmaj records xxmaj administration as a xxmaj special xxmaj edition of the xxmaj federal xxmaj register]...\n",
       "Path: data/code_of_federal_regulations/title-37-2017;\n",
       "Valid: LabelList\n",
       "y: LMLabel (2965 items)\n",
       "[Category 0, Category 0, Category 0, Category 0, Category 0]...\n",
       "Path: .\n",
       "x: LMTextList (2965 items)\n",
       "[Text xxbos ( 1 ) xxmaj when the contractor is not located in the xxmaj united xxmaj states or does not have a place of business located in the xxmaj united xxmaj states or is subject to the control of a foreign government ; or, Text xxbos xxmaj chapter ii, Text xxbos ( 5 ) xxmaj nothing in this paragraph is intended to limit the authority of agencies provided in 35 u.s.c. 205 in circumstances not specifically described in this paragraph ., Text xxbos ( c ) xxmaj relationship to voluntary agreements . xxmaj notwithstanding the royalty rates and terms established in this subpart , the rates and terms of any voluntary license agreements entered into by xxmaj copyright xxmaj owners and xxmaj licensees shall apply in lieu of the rates and terms of this subpart to transmission within the scope of such agreements ., Text xxbos xxmaj required to conduct business with decorum and courtesy]...\n",
       "Path: data/code_of_federal_regulations/title-37-2017;\n",
       "Test: None, model=SequentialRNN(\n",
       "  (0): RNNCore(\n",
       "    (encoder): Embedding(7167, 400, padding_idx=1)\n",
       "    (encoder_dp): EmbeddingDropout(\n",
       "      (emb): Embedding(7167, 400, padding_idx=1)\n",
       "    )\n",
       "    (rnns): ModuleList(\n",
       "      (0): WeightDropout(\n",
       "        (module): LSTM(400, 1150)\n",
       "      )\n",
       "      (1): WeightDropout(\n",
       "        (module): LSTM(1150, 1150)\n",
       "      )\n",
       "      (2): WeightDropout(\n",
       "        (module): LSTM(1150, 400)\n",
       "      )\n",
       "    )\n",
       "    (input_dp): RNNDropout()\n",
       "    (hidden_dps): ModuleList(\n",
       "      (0): RNNDropout()\n",
       "      (1): RNNDropout()\n",
       "      (2): RNNDropout()\n",
       "    )\n",
       "  )\n",
       "  (1): LinearDecoder(\n",
       "    (decoder): Linear(in_features=400, out_features=7167, bias=True)\n",
       "    (output_dp): RNNDropout()\n",
       "  )\n",
       "), opt_func=functools.partial(<class 'torch.optim.adam.Adam'>, betas=(0.9, 0.99)), loss_func=<function cross_entropy at 0x7f1059626d08>, metrics=[<function accuracy at 0x7f1052bd1d90>], true_wd=True, bn_wd=True, wd=0.01, train_bn=True, path=PosixPath('data/code_of_federal_regulations/title-37-2017'), model_dir='models', callback_fns=[<class 'fastai.basic_train.Recorder'>], callbacks=[...], layer_groups=[Sequential(\n",
       "  (0): WeightDropout(\n",
       "    (module): LSTM(400, 1150)\n",
       "  )\n",
       "  (1): RNNDropout()\n",
       "), Sequential(\n",
       "  (0): WeightDropout(\n",
       "    (module): LSTM(1150, 1150)\n",
       "  )\n",
       "  (1): RNNDropout()\n",
       "), Sequential(\n",
       "  (0): WeightDropout(\n",
       "    (module): LSTM(1150, 400)\n",
       "  )\n",
       "  (1): RNNDropout()\n",
       "), Sequential(\n",
       "  (0): Embedding(7167, 400, padding_idx=1)\n",
       "  (1): EmbeddingDropout(\n",
       "    (emb): Embedding(7167, 400, padding_idx=1)\n",
       "  )\n",
       "  (2): LinearDecoder(\n",
       "    (decoder): Linear(in_features=400, out_features=7167, bias=True)\n",
       "    (output_dp): RNNDropout()\n",
       "  )\n",
       ")]), bptt=70, alpha=2.0, beta=1.0, adjust=False)], layer_groups=[Sequential(\n",
       "  (0): WeightDropout(\n",
       "    (module): LSTM(400, 1150)\n",
       "  )\n",
       "  (1): RNNDropout()\n",
       "), Sequential(\n",
       "  (0): WeightDropout(\n",
       "    (module): LSTM(1150, 1150)\n",
       "  )\n",
       "  (1): RNNDropout()\n",
       "), Sequential(\n",
       "  (0): WeightDropout(\n",
       "    (module): LSTM(1150, 400)\n",
       "  )\n",
       "  (1): RNNDropout()\n",
       "), Sequential(\n",
       "  (0): Embedding(7167, 400, padding_idx=1)\n",
       "  (1): EmbeddingDropout(\n",
       "    (emb): Embedding(7167, 400, padding_idx=1)\n",
       "  )\n",
       "  (2): LinearDecoder(\n",
       "    (decoder): Linear(in_features=400, out_features=7167, bias=True)\n",
       "    (output_dp): RNNDropout()\n",
       "  )\n",
       ")])"
      ]
     },
     "execution_count": 176,
     "metadata": {},
     "output_type": "execute_result"
    }
   ],
   "source": [
    "learn2.load('cfr-5')"
   ]
  },
  {
   "cell_type": "code",
   "execution_count": 177,
   "metadata": {},
   "outputs": [
    {
     "name": "stdout",
     "output_type": "stream",
     "text": [
      "Total time: 00:00\n",
      "\n"
     ]
    },
    {
     "data": {
      "text/plain": [
       "'applicant seeking than 3 infringement 42.53 author . xxbos xxmaj misapprehended'"
      ]
     },
     "execution_count": 177,
     "metadata": {},
     "output_type": "execute_result"
    }
   ],
   "source": [
    "learn2.predict('applicant', 10)"
   ]
  },
  {
   "cell_type": "code",
   "execution_count": 178,
   "metadata": {},
   "outputs": [
    {
     "name": "stdout",
     "output_type": "stream",
     "text": [
      "Total time: 00:00\n",
      "\n"
     ]
    },
    {
     "data": {
      "text/plain": [
       "'patent under paragraphs ( a normal the work is prepared and'"
      ]
     },
     "execution_count": 178,
     "metadata": {},
     "output_type": "execute_result"
    }
   ],
   "source": [
    "learn2.predict('patent', 10)"
   ]
  },
  {
   "cell_type": "code",
   "execution_count": 180,
   "metadata": {},
   "outputs": [
    {
     "name": "stdout",
     "output_type": "stream",
     "text": [
      "Total time: 00:05\n",
      "\n"
     ]
    },
    {
     "data": {
      "text/plain": [
       "'software of the name in another action is required by authorized entity not be filed or xxmaj patent or other than 3 : . xxmaj statement could not include ; 2 ; xxmaj board in 35 u.s.c. xxbos § \\u2009 c to in 17 xxbos xxmaj statements of registration , in the invention , or persons , and includes , the xxup vii to enable . xxmaj deposit of that the design months in an interview of goods , and pay a certification that is carried to the xxmaj office that was served on response for format of service in the'"
      ]
     },
     "execution_count": 180,
     "metadata": {},
     "output_type": "execute_result"
    }
   ],
   "source": [
    "learn2.predict('software', 100, no_unk=True, temperature=1.1, min_p=0.001)"
   ]
  },
  {
   "cell_type": "code",
   "execution_count": 182,
   "metadata": {},
   "outputs": [
    {
     "name": "stdout",
     "output_type": "stream",
     "text": [
      "Total time: 00:04\n",
      "\n"
     ]
    },
    {
     "data": {
      "text/plain": [
       "\"open source of of that may , as provided in the registration and xxmaj statement is recorded recording of publication or adverse is not be filed with the following to deceive by the registration which be offered with : for must read to the xxmaj initial amendment with limited xxmaj non - owned ) 's . xxmaj public . xxmaj annual xxmaj right of the xxmaj copyright xxmaj qualified by the xxmaj united or on xxbos xxmaj copyright xxmaj non - part area u.s.c. xxmaj licensees under this based by the xxmaj january inventor , and its employee and the length to\""
      ]
     },
     "execution_count": 182,
     "metadata": {},
     "output_type": "execute_result"
    }
   ],
   "source": [
    "learn2.predict('open source', 100, no_unk=True, temperature=1.1, min_p=0.001)"
   ]
  },
  {
   "cell_type": "code",
   "execution_count": 183,
   "metadata": {},
   "outputs": [
    {
     "name": "stdout",
     "output_type": "stream",
     "text": [
      "Total time: 00:04\n",
      "\n"
     ]
    },
    {
     "data": {
      "text/plain": [
       "'open source license , for in the xxmaj office . xxmaj statement is the xxmaj federal xxmaj copyright notice of the xxmaj january xxmaj office of the applicable cause of service as described have been subject invention submitted xxmaj saturday by the petition may be offered at the xxmaj office has be submitted xxmaj order ; or ( xxup foia within sixty . xxbos xxmaj copyright to the notice of record must be recorded xxmaj government by the correspondence of the xxmaj in § \\u2009 xvii , a secrecy domain , the following and all motion for recording - as amended or is'"
      ]
     },
     "execution_count": 183,
     "metadata": {},
     "output_type": "execute_result"
    }
   ],
   "source": [
    "learn2.predict('open source license', 100, no_unk=True, temperature=1.1, min_p=0.001)"
   ]
  },
  {
   "cell_type": "code",
   "execution_count": null,
   "metadata": {},
   "outputs": [],
   "source": []
  }
 ],
 "metadata": {
  "kernelspec": {
   "display_name": "Python 3",
   "language": "python",
   "name": "python3"
  },
  "language_info": {
   "codemirror_mode": {
    "name": "ipython",
    "version": 3
   },
   "file_extension": ".py",
   "mimetype": "text/x-python",
   "name": "python",
   "nbconvert_exporter": "python",
   "pygments_lexer": "ipython3",
   "version": "3.6.5"
  }
 },
 "nbformat": 4,
 "nbformat_minor": 2
}
