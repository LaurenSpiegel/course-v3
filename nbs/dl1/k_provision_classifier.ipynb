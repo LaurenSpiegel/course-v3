{
 "cells": [
  {
   "cell_type": "code",
   "execution_count": 1,
   "metadata": {},
   "outputs": [],
   "source": [
    "%reload_ext autoreload\n",
    "%autoreload 2\n",
    "%matplotlib inline"
   ]
  },
  {
   "cell_type": "code",
   "execution_count": 2,
   "metadata": {},
   "outputs": [],
   "source": [
    "from fastai import *\n",
    "from fastai.text import *"
   ]
  },
  {
   "cell_type": "markdown",
   "metadata": {},
   "source": [
    "## Set up data for language model"
   ]
  },
  {
   "cell_type": "code",
   "execution_count": 3,
   "metadata": {},
   "outputs": [],
   "source": [
    "path = Path('data/k_provision_classification')"
   ]
  },
  {
   "cell_type": "code",
   "execution_count": 4,
   "metadata": {},
   "outputs": [
    {
     "data": {
      "text/plain": [
       "[PosixPath('data/k_provision_classification/confidentiality_clauses.json'),\n",
       " PosixPath('data/k_provision_classification/indemnification_clauses.json'),\n",
       " PosixPath('data/k_provision_classification/assignment_clauses.json'),\n",
       " PosixPath('data/k_provision_classification/governing-law_clauses.json'),\n",
       " PosixPath('data/k_provision_classification/counterparts_clauses.json')]"
      ]
     },
     "execution_count": 4,
     "metadata": {},
     "output_type": "execute_result"
    }
   ],
   "source": [
    "path.ls()"
   ]
  },
  {
   "cell_type": "code",
   "execution_count": 5,
   "metadata": {},
   "outputs": [],
   "source": [
    "pd.set_option('max_colwidth', -1)\n"
   ]
  },
  {
   "cell_type": "code",
   "execution_count": 6,
   "metadata": {},
   "outputs": [],
   "source": [
    "counterparts = pd.read_json(path/'counterparts_clauses.json')"
   ]
  },
  {
   "cell_type": "code",
   "execution_count": 7,
   "metadata": {},
   "outputs": [
    {
     "data": {
      "text/html": [
       "<div>\n",
       "<style scoped>\n",
       "    .dataframe tbody tr th:only-of-type {\n",
       "        vertical-align: middle;\n",
       "    }\n",
       "\n",
       "    .dataframe tbody tr th {\n",
       "        vertical-align: top;\n",
       "    }\n",
       "\n",
       "    .dataframe thead th {\n",
       "        text-align: right;\n",
       "    }\n",
       "</style>\n",
       "<table border=\"1\" class=\"dataframe\">\n",
       "  <thead>\n",
       "    <tr style=\"text-align: right;\">\n",
       "      <th></th>\n",
       "      <th>snippet</th>\n",
       "    </tr>\n",
       "  </thead>\n",
       "  <tbody>\n",
       "    <tr>\n",
       "      <th>0</th>\n",
       "      <td>This Agreement may be executed in two or more counterparts, each of which shall be deemed an original, but all of which together shall constitute one and the same instrument.\\n</td>\n",
       "    </tr>\n",
       "    <tr>\n",
       "      <th>1</th>\n",
       "      <td>This Agreement may be executed in any number of counterparts and by the parties hereto in separate counterparts, each of which when so executed shall be deemed to be an original and all of which taken together shall constitute one and the same agreement.\\n</td>\n",
       "    </tr>\n",
       "    <tr>\n",
       "      <th>2</th>\n",
       "      <td>This Agreement may be executed in two or more counterparts, each of which shall be deemed an original, but all of which together shall constitute one and the same instrument. Delivery of an executed Agreement by one party to the other may be made by facsimile transmission.\\n</td>\n",
       "    </tr>\n",
       "    <tr>\n",
       "      <th>3</th>\n",
       "      <td>This Agreement may be executed in separate counterparts, any one of which need not contain signatures of more than one party, but all of which taken together will constitute one and the same Agreement.\\n</td>\n",
       "    </tr>\n",
       "    <tr>\n",
       "      <th>4</th>\n",
       "      <td>This Agreement may be executed in one or more counterparts, all of which shall be considered one and the same agreement and shall become effective when one or more counterparts have been signed by each of the parties and delivered to the other party, it being understood that all parties need not sign the same counterpart.\\n</td>\n",
       "    </tr>\n",
       "  </tbody>\n",
       "</table>\n",
       "</div>"
      ],
      "text/plain": [
       "                                                                                                                                                                                                                                                                                                                                       snippet\n",
       "0  This Agreement may be executed in two or more counterparts, each of which shall be deemed an original, but all of which together shall constitute one and the same instrument.\\n                                                                                                                                                           \n",
       "1  This Agreement may be executed in any number of counterparts and by the parties hereto in separate counterparts, each of which when so executed shall be deemed to be an original and all of which taken together shall constitute one and the same agreement.\\n                                                                           \n",
       "2  This Agreement may be executed in two or more counterparts, each of which shall be deemed an original, but all of which together shall constitute one and the same instrument. Delivery of an executed Agreement by one party to the other may be made by facsimile transmission.\\n                                                        \n",
       "3  This Agreement may be executed in separate counterparts, any one of which need not contain signatures of more than one party, but all of which taken together will constitute one and the same Agreement.\\n                                                                                                                                \n",
       "4  This Agreement may be executed in one or more counterparts, all of which shall be considered one and the same agreement and shall become effective when one or more counterparts have been signed by each of the parties and delivered to the other party, it being understood that all parties need not sign the same counterpart.\\n      "
      ]
     },
     "execution_count": 7,
     "metadata": {},
     "output_type": "execute_result"
    }
   ],
   "source": [
    "counterparts.head()"
   ]
  },
  {
   "cell_type": "code",
   "execution_count": 8,
   "metadata": {},
   "outputs": [
    {
     "data": {
      "text/plain": [
       "snippet    1920\n",
       "dtype: int64"
      ]
     },
     "execution_count": 8,
     "metadata": {},
     "output_type": "execute_result"
    }
   ],
   "source": [
    "counterparts.count()"
   ]
  },
  {
   "cell_type": "code",
   "execution_count": 9,
   "metadata": {},
   "outputs": [],
   "source": [
    "counterparts['label'] = 'counterparts'"
   ]
  },
  {
   "cell_type": "code",
   "execution_count": 10,
   "metadata": {},
   "outputs": [
    {
     "data": {
      "text/html": [
       "<div>\n",
       "<style scoped>\n",
       "    .dataframe tbody tr th:only-of-type {\n",
       "        vertical-align: middle;\n",
       "    }\n",
       "\n",
       "    .dataframe tbody tr th {\n",
       "        vertical-align: top;\n",
       "    }\n",
       "\n",
       "    .dataframe thead th {\n",
       "        text-align: right;\n",
       "    }\n",
       "</style>\n",
       "<table border=\"1\" class=\"dataframe\">\n",
       "  <thead>\n",
       "    <tr style=\"text-align: right;\">\n",
       "      <th></th>\n",
       "      <th>snippet</th>\n",
       "      <th>label</th>\n",
       "    </tr>\n",
       "  </thead>\n",
       "  <tbody>\n",
       "    <tr>\n",
       "      <th>0</th>\n",
       "      <td>This Agreement may be executed in two or more counterparts, each of which shall be deemed an original, but all of which together shall constitute one and the same instrument.\\n</td>\n",
       "      <td>counterparts</td>\n",
       "    </tr>\n",
       "    <tr>\n",
       "      <th>1</th>\n",
       "      <td>This Agreement may be executed in any number of counterparts and by the parties hereto in separate counterparts, each of which when so executed shall be deemed to be an original and all of which taken together shall constitute one and the same agreement.\\n</td>\n",
       "      <td>counterparts</td>\n",
       "    </tr>\n",
       "    <tr>\n",
       "      <th>2</th>\n",
       "      <td>This Agreement may be executed in two or more counterparts, each of which shall be deemed an original, but all of which together shall constitute one and the same instrument. Delivery of an executed Agreement by one party to the other may be made by facsimile transmission.\\n</td>\n",
       "      <td>counterparts</td>\n",
       "    </tr>\n",
       "    <tr>\n",
       "      <th>3</th>\n",
       "      <td>This Agreement may be executed in separate counterparts, any one of which need not contain signatures of more than one party, but all of which taken together will constitute one and the same Agreement.\\n</td>\n",
       "      <td>counterparts</td>\n",
       "    </tr>\n",
       "    <tr>\n",
       "      <th>4</th>\n",
       "      <td>This Agreement may be executed in one or more counterparts, all of which shall be considered one and the same agreement and shall become effective when one or more counterparts have been signed by each of the parties and delivered to the other party, it being understood that all parties need not sign the same counterpart.\\n</td>\n",
       "      <td>counterparts</td>\n",
       "    </tr>\n",
       "  </tbody>\n",
       "</table>\n",
       "</div>"
      ],
      "text/plain": [
       "                                                                                                                                                                                                                                                                                                                                       snippet  \\\n",
       "0  This Agreement may be executed in two or more counterparts, each of which shall be deemed an original, but all of which together shall constitute one and the same instrument.\\n                                                                                                                                                              \n",
       "1  This Agreement may be executed in any number of counterparts and by the parties hereto in separate counterparts, each of which when so executed shall be deemed to be an original and all of which taken together shall constitute one and the same agreement.\\n                                                                              \n",
       "2  This Agreement may be executed in two or more counterparts, each of which shall be deemed an original, but all of which together shall constitute one and the same instrument. Delivery of an executed Agreement by one party to the other may be made by facsimile transmission.\\n                                                           \n",
       "3  This Agreement may be executed in separate counterparts, any one of which need not contain signatures of more than one party, but all of which taken together will constitute one and the same Agreement.\\n                                                                                                                                   \n",
       "4  This Agreement may be executed in one or more counterparts, all of which shall be considered one and the same agreement and shall become effective when one or more counterparts have been signed by each of the parties and delivered to the other party, it being understood that all parties need not sign the same counterpart.\\n         \n",
       "\n",
       "          label  \n",
       "0  counterparts  \n",
       "1  counterparts  \n",
       "2  counterparts  \n",
       "3  counterparts  \n",
       "4  counterparts  "
      ]
     },
     "execution_count": 10,
     "metadata": {},
     "output_type": "execute_result"
    }
   ],
   "source": [
    "counterparts.head()"
   ]
  },
  {
   "cell_type": "code",
   "execution_count": 12,
   "metadata": {},
   "outputs": [
    {
     "data": {
      "text/html": [
       "<div>\n",
       "<style scoped>\n",
       "    .dataframe tbody tr th:only-of-type {\n",
       "        vertical-align: middle;\n",
       "    }\n",
       "\n",
       "    .dataframe tbody tr th {\n",
       "        vertical-align: top;\n",
       "    }\n",
       "\n",
       "    .dataframe thead th {\n",
       "        text-align: right;\n",
       "    }\n",
       "</style>\n",
       "<table border=\"1\" class=\"dataframe\">\n",
       "  <thead>\n",
       "    <tr style=\"text-align: right;\">\n",
       "      <th></th>\n",
       "      <th>snippet</th>\n",
       "      <th>label</th>\n",
       "    </tr>\n",
       "  </thead>\n",
       "  <tbody>\n",
       "    <tr>\n",
       "      <th>0</th>\n",
       "      <td>The Issuer hereby agrees to hold and treat all Confidential Information (as defined below) provided to it in connection with the offering of the Notes in confidence and in accordance with this Section 9.13, and will implement and maintain safeguards to further assure the confidentiality of such Confidential Information. Such Confidential Information will not, without the prior written consent of the Servicer, be disclosed or used by the Issuer or by its subsidiaries or, affiliates, or its or their directors, officers, employees, agents or controlling persons or agents or advisors (collectively, the \"Information Recipients\") other than for the purposes of (i) structuring the securitization transaction and facilitating the issuance of the Notes, or (ii) in connection with the performance of its required due diligence on the Receivables. Disclosure that is not in violation of the Right to Financial Privacy Act of 1978, as amended, the Gramm-Leach-Bliley Act of 1999, as amended, (the \"G-L-B Act\") or other applicable law by the Issuer of any Confidential Information at the request of its outside auditors or governmental regulatory authorities in connection with an examination of the Issuer by any such authority or for the purposes specified in above shall not constitute a breach of its obligations under this Section 9.13, and shall not require the prior consent of the Servicer. As used herein, \"Confidential Information\" means non-public personal information (as defined in the G-L-B Act and its enabling regulations issued by the Federal Trade Commission) regarding obligors on the Receivables that is identified as such by the Servicer. Confidential Information shall not include information which (i) is or becomes generally available to the public other than as a result of disclosure by the Issuer or any of its Information Recipients; (ii) was available to the Issuer on a non-confidential basis from a person or entity other than the Servicer prior to its disclosure to the Issuer; (iii) is requested to be disclosed by a governmental authority or related governmental, administrative, or regulatory or self-regulatory agencies having or claiming authority to regulate or oversee any aspect of the Issuer's business or that of its affiliates or is otherwise required by law or by legal or regulatory process to be disclosed; (iv) becomes available to the Issuer on a non-confidential basis from a person or entity other than the Servicer who, to the best knowledge of the ...\\n</td>\n",
       "      <td>confidentiality</td>\n",
       "    </tr>\n",
       "    <tr>\n",
       "      <th>1</th>\n",
       "      <td>Each Party understands that in connection with this transaction, it has been furnished and will be furnished Non-Public Personal Information and/or Personally Identifiable Financial Information (as those terms are defined in Sections 573.3(n) and (o) of the Office of Thrift Supervision Regulations on Privacy of Consumer Information published at 12 C.F.R. Chapter V implementing Title V of the Gramm-Leach-Bliley Act), and other information regarding the policies and plans of the other Party and its affiliates that is and has been designated as confidential and proprietary, and each Party agrees that it will maintain the confidentiality of such information and will not disclose it to others (except for its affiliates and its and their respective directors, managers, officers, employees, financing sources, agents, representatives and advisors), or use it except in connection with the proposed acquisition contemplated by this Agreement, without the prior written consent of the Party furnishing such information. Information which is generally known in the industry concerning a Party or among such Partys creditors generally or which has been disclosed to the other Party by third parties who have a right to do so shall not be deemed confidential or proprietary information for these purposes. If Purchaser, any of its affiliates or any officer, director, employee or agent of any of the foregoing is at any time requested or required to disclose any information supplied to it in connection with the transactions contemplated hereby, Purchaser agrees to provide Seller with prompt notice of such request(s) so that Seller may seek an appropriate protective order and/or waive Purchasers compliance with the terms of this Section 12.02. If Seller, any of its affiliates or any officer, director, employee or agent of any of the foregoing is at any time requested or required to disclose any information supplied to it in connection with the transactions contemplated hereby, Seller agrees to provide Purchaser with prompt notice of such request(s) so that Purchaser may seek an appropriate protective order and/or waive Sellers compliance with the terms of this Section 12.02. Notwithstanding the terms of this Section 12.02, if, in the absence of a protective order or the receipt of a waiver hereunder, Purchaser or Seller is nonetheless, in the opinion of its counsel, compelled to disclose information concerning the other Party to any tribunal or else stand liable for contempt or ...\\n</td>\n",
       "      <td>confidentiality</td>\n",
       "    </tr>\n",
       "    <tr>\n",
       "      <th>2</th>\n",
       "      <td>Tenant shall keep the terms and conditions of this Lease and any information provided to Tenant or its employees, agents or contractors pursuant to Article 9 confidential and shall not (a) disclose to any third party any terms or conditions of this Lease or any other Lease-related document (including subleases, assignments, work letters, construction contracts, letters of credit, subordination agreements, non-disturbance agreements, brokerage agreements or estoppels) or (b) provide to any third party an original or copy of this Lease (or any Lease-related document). Landlord shall not release to any third party any non-public financial information or non-public information about Tenants ownership structure that Tenant gives Landlord. Notwithstanding the foregoing, confidential information under this Section may be released by Landlord or Tenant under the following circumstances: (x) if required by Applicable Laws or in any judicial proceeding; provided that the releasing party has given the other party reasonable notice of such requirement, if feasible, (y) to a partys attorneys, accountants, brokers and other bona fide consultants or advisers (with respect to this Lease only); provided such third parties agree to be bound by this Section or (z) to bona fide prospective assignees or subtenants of this Lease; provided they agree in writing to be bound by this Section.\\n</td>\n",
       "      <td>confidentiality</td>\n",
       "    </tr>\n",
       "    <tr>\n",
       "      <th>3</th>\n",
       "      <td>The Purchaser and the Seller shall employ proper procedures and standards designed to maintain the confidential nature of the terms of this Agreement, except to the extent (a) the disclosure of which is reasonably believed by such party to be required in connection with regulatory requirements or other legal requirements relating to its affairs; (b) disclosed to any one or more of such party's employees, officers, directors, agents, attorneys or accountants who would have access to the contents of this Agreement and such data and information in the normal course of the performance of such person's duties for such party, to the extent such party has procedures in effect to inform such person of the confidential nature thereof; (c) that is disclosed in a prospectus, prospectus supplement or private placement memorandum relating to a Securitization Transaction of the Mortgage Loans by the Purchaser (or an affiliate assignee thereof) or to any person in connection with the resale or proposed resale of all or a portion of the Mortgage Loans by such party in accordance with the terms of this Agreement; and (d) that is reasonably believed by such party to be necessary for the enforcement of such party's rights under this Agreement.\\n</td>\n",
       "      <td>confidentiality</td>\n",
       "    </tr>\n",
       "    <tr>\n",
       "      <th>4</th>\n",
       "      <td>From and after the Closing, the Contributor shall, and shall cause its Affiliates to, hold, and shall use its Reasonable Best Efforts to cause its or their respective directors, managers, officers, employees, consultants, financial advisors, counsel, accountants and other agents of such Person (Representatives) to hold, in confidence any and all confidential or proprietary information, whether written or oral, concerning the Partnership or the Contributor Properties (Confidential Information), except to the extent that the Contributor can show that such information (a) was, is, or becomes generally available to and known by the public through no fault of the Contributor, any of its Affiliates or their respective Representatives; or (b) is lawfully acquired by the Contributor, any of its Affiliates or their respective Representatives from sources that are not prohibited from disclosing such information by a legal, contractual or fiduciary obligation. If the Contributor or any of its Affiliates or their respective Representatives are compelled to disclose any Confidential Information by judicial or administrative process or by other requirements of Applicable Law, the Contributor shall, to the extent legally permissible, promptly notify the Partnership in writing and shall disclose only that portion of such Confidential Information that the Contributor is advised by its counsel is legally required to be disclosed, provided that the Contributor shall use Reasonable Best Efforts to obtain an appropriate protective order or other reasonable assurance that confidential treatment will be accorded such information.\\n</td>\n",
       "      <td>confidentiality</td>\n",
       "    </tr>\n",
       "  </tbody>\n",
       "</table>\n",
       "</div>"
      ],
      "text/plain": [
       "                                                                                                                                                                                                                                                                                                                                                                                                                                                                                                                                                                                                                                                                                                                                                                                                                                                                                                                                                                                                                                                                                                                                                                                                                                                                                                                                                                                                                                                                                                                                                                                                                                                                                                                                                                                                                                                                                                                                                                                                                                                                                                                                                                                                                                                                                                                                                                                                                                                                                                                                                                                                        snippet  \\\n",
       "0  The Issuer hereby agrees to hold and treat all Confidential Information (as defined below) provided to it in connection with the offering of the Notes in confidence and in accordance with this Section 9.13, and will implement and maintain safeguards to further assure the confidentiality of such Confidential Information. Such Confidential Information will not, without the prior written consent of the Servicer, be disclosed or used by the Issuer or by its subsidiaries or, affiliates, or its or their directors, officers, employees, agents or controlling persons or agents or advisors (collectively, the \"Information Recipients\") other than for the purposes of (i) structuring the securitization transaction and facilitating the issuance of the Notes, or (ii) in connection with the performance of its required due diligence on the Receivables. Disclosure that is not in violation of the Right to Financial Privacy Act of 1978, as amended, the Gramm-Leach-Bliley Act of 1999, as amended, (the \"G-L-B Act\") or other applicable law by the Issuer of any Confidential Information at the request of its outside auditors or governmental regulatory authorities in connection with an examination of the Issuer by any such authority or for the purposes specified in above shall not constitute a breach of its obligations under this Section 9.13, and shall not require the prior consent of the Servicer. As used herein, \"Confidential Information\" means non-public personal information (as defined in the G-L-B Act and its enabling regulations issued by the Federal Trade Commission) regarding obligors on the Receivables that is identified as such by the Servicer. Confidential Information shall not include information which (i) is or becomes generally available to the public other than as a result of disclosure by the Issuer or any of its Information Recipients; (ii) was available to the Issuer on a non-confidential basis from a person or entity other than the Servicer prior to its disclosure to the Issuer; (iii) is requested to be disclosed by a governmental authority or related governmental, administrative, or regulatory or self-regulatory agencies having or claiming authority to regulate or oversee any aspect of the Issuer's business or that of its affiliates or is otherwise required by law or by legal or regulatory process to be disclosed; (iv) becomes available to the Issuer on a non-confidential basis from a person or entity other than the Servicer who, to the best knowledge of the ...\\n         \n",
       "1  Each Party understands that in connection with this transaction, it has been furnished and will be furnished Non-Public Personal Information and/or Personally Identifiable Financial Information (as those terms are defined in Sections 573.3(n) and (o) of the Office of Thrift Supervision Regulations on Privacy of Consumer Information published at 12 C.F.R. Chapter V implementing Title V of the Gramm-Leach-Bliley Act), and other information regarding the policies and plans of the other Party and its affiliates that is and has been designated as confidential and proprietary, and each Party agrees that it will maintain the confidentiality of such information and will not disclose it to others (except for its affiliates and its and their respective directors, managers, officers, employees, financing sources, agents, representatives and advisors), or use it except in connection with the proposed acquisition contemplated by this Agreement, without the prior written consent of the Party furnishing such information. Information which is generally known in the industry concerning a Party or among such Partys creditors generally or which has been disclosed to the other Party by third parties who have a right to do so shall not be deemed confidential or proprietary information for these purposes. If Purchaser, any of its affiliates or any officer, director, employee or agent of any of the foregoing is at any time requested or required to disclose any information supplied to it in connection with the transactions contemplated hereby, Purchaser agrees to provide Seller with prompt notice of such request(s) so that Seller may seek an appropriate protective order and/or waive Purchasers compliance with the terms of this Section 12.02. If Seller, any of its affiliates or any officer, director, employee or agent of any of the foregoing is at any time requested or required to disclose any information supplied to it in connection with the transactions contemplated hereby, Seller agrees to provide Purchaser with prompt notice of such request(s) so that Purchaser may seek an appropriate protective order and/or waive Sellers compliance with the terms of this Section 12.02. Notwithstanding the terms of this Section 12.02, if, in the absence of a protective order or the receipt of a waiver hereunder, Purchaser or Seller is nonetheless, in the opinion of its counsel, compelled to disclose information concerning the other Party to any tribunal or else stand liable for contempt or ...\\n         \n",
       "2  Tenant shall keep the terms and conditions of this Lease and any information provided to Tenant or its employees, agents or contractors pursuant to Article 9 confidential and shall not (a) disclose to any third party any terms or conditions of this Lease or any other Lease-related document (including subleases, assignments, work letters, construction contracts, letters of credit, subordination agreements, non-disturbance agreements, brokerage agreements or estoppels) or (b) provide to any third party an original or copy of this Lease (or any Lease-related document). Landlord shall not release to any third party any non-public financial information or non-public information about Tenants ownership structure that Tenant gives Landlord. Notwithstanding the foregoing, confidential information under this Section may be released by Landlord or Tenant under the following circumstances: (x) if required by Applicable Laws or in any judicial proceeding; provided that the releasing party has given the other party reasonable notice of such requirement, if feasible, (y) to a partys attorneys, accountants, brokers and other bona fide consultants or advisers (with respect to this Lease only); provided such third parties agree to be bound by this Section or (z) to bona fide prospective assignees or subtenants of this Lease; provided they agree in writing to be bound by this Section.\\n                                                                                                                                                                                                                                                                                                                                                                                                                                                                                                                                                                                                                                                                                                                                                                                                                                                                                                                                                                                                                                                                                                                                                                \n",
       "3  The Purchaser and the Seller shall employ proper procedures and standards designed to maintain the confidential nature of the terms of this Agreement, except to the extent (a) the disclosure of which is reasonably believed by such party to be required in connection with regulatory requirements or other legal requirements relating to its affairs; (b) disclosed to any one or more of such party's employees, officers, directors, agents, attorneys or accountants who would have access to the contents of this Agreement and such data and information in the normal course of the performance of such person's duties for such party, to the extent such party has procedures in effect to inform such person of the confidential nature thereof; (c) that is disclosed in a prospectus, prospectus supplement or private placement memorandum relating to a Securitization Transaction of the Mortgage Loans by the Purchaser (or an affiliate assignee thereof) or to any person in connection with the resale or proposed resale of all or a portion of the Mortgage Loans by such party in accordance with the terms of this Agreement; and (d) that is reasonably believed by such party to be necessary for the enforcement of such party's rights under this Agreement.\\n                                                                                                                                                                                                                                                                                                                                                                                                                                                                                                                                                                                                                                                                                                                                                                                                                                                                                                                                                                                                                                                                                                                                                                                                                                                                                                                 \n",
       "4  From and after the Closing, the Contributor shall, and shall cause its Affiliates to, hold, and shall use its Reasonable Best Efforts to cause its or their respective directors, managers, officers, employees, consultants, financial advisors, counsel, accountants and other agents of such Person (Representatives) to hold, in confidence any and all confidential or proprietary information, whether written or oral, concerning the Partnership or the Contributor Properties (Confidential Information), except to the extent that the Contributor can show that such information (a) was, is, or becomes generally available to and known by the public through no fault of the Contributor, any of its Affiliates or their respective Representatives; or (b) is lawfully acquired by the Contributor, any of its Affiliates or their respective Representatives from sources that are not prohibited from disclosing such information by a legal, contractual or fiduciary obligation. If the Contributor or any of its Affiliates or their respective Representatives are compelled to disclose any Confidential Information by judicial or administrative process or by other requirements of Applicable Law, the Contributor shall, to the extent legally permissible, promptly notify the Partnership in writing and shall disclose only that portion of such Confidential Information that the Contributor is advised by its counsel is legally required to be disclosed, provided that the Contributor shall use Reasonable Best Efforts to obtain an appropriate protective order or other reasonable assurance that confidential treatment will be accorded such information.\\n                                                                                                                                                                                                                                                                                                                                                                                                                                                                                                                                                                                                                                                                                                                                                                                                                                                                                                           \n",
       "\n",
       "             label  \n",
       "0  confidentiality  \n",
       "1  confidentiality  \n",
       "2  confidentiality  \n",
       "3  confidentiality  \n",
       "4  confidentiality  "
      ]
     },
     "execution_count": 12,
     "metadata": {},
     "output_type": "execute_result"
    }
   ],
   "source": [
    "confidentiality = pd.read_json(path/'confidentiality_clauses.json')\n",
    "confidentiality['label'] = 'confidentiality'\n",
    "confidentiality.head()"
   ]
  },
  {
   "cell_type": "code",
   "execution_count": 13,
   "metadata": {},
   "outputs": [
    {
     "data": {
      "text/html": [
       "<div>\n",
       "<style scoped>\n",
       "    .dataframe tbody tr th:only-of-type {\n",
       "        vertical-align: middle;\n",
       "    }\n",
       "\n",
       "    .dataframe tbody tr th {\n",
       "        vertical-align: top;\n",
       "    }\n",
       "\n",
       "    .dataframe thead th {\n",
       "        text-align: right;\n",
       "    }\n",
       "</style>\n",
       "<table border=\"1\" class=\"dataframe\">\n",
       "  <thead>\n",
       "    <tr style=\"text-align: right;\">\n",
       "      <th></th>\n",
       "      <th>snippet</th>\n",
       "      <th>label</th>\n",
       "    </tr>\n",
       "  </thead>\n",
       "  <tbody>\n",
       "    <tr>\n",
       "      <th>0</th>\n",
       "      <td>The Depositor shall be liable as primary obligor for, and shall indemnify the Trustee and its successors, assigns, agents and servants (collectively, the Indemnified Parties) from and against, any and all liabilities, obligations, losses, damages, taxes, claims, actions and suits, and any and all reasonable costs, expenses and disbursements (including reasonable legal fees and expenses) of any kind and nature whatsoever (collectively, Expenses), which may at any time be imposed on, incurred by or asserted against the Trustee or any other Indemnified Party in any way relating to or arising out of this Agreement, the Basic Documents, the Trust Estate, the administration of the Trust Estate or the action or inaction of the Trustee hereunder, except only that the Depositor shall not be liable for or required to indemnify an Indemnified Party from and against Expenses arising or resulting from: (a) such Indemnified Partys willful misconduct or negligence, (b) with respect to the Trustee, the inaccuracy of any representation or warranty contained in Section 7.3 expressly made by the Trustee or (c) any tax imposed on an Indemnified Party based on, measured by or with respect to the net or gross income, capital or net worth, gross or net receipts, franchise, excess profits or conduct of business by such Indemnified Party (including, but not limited to, taxes imposed on, measured by, or with respect to any fees or compensation received by the Trustee hereunder). The indemnities contained in this Section shall survive the resignation or termination of the Trustee or the termination of this Agreement. In any event of any claim, action or proceeding for which indemnity will be sought pursuant to this Section, the Trustees choice of legal counsel shall be subject to the approval of the Depositor, which approval shall not be unreasonably withheld.\\n</td>\n",
       "      <td>indemnification</td>\n",
       "    </tr>\n",
       "    <tr>\n",
       "      <th>1</th>\n",
       "      <td>To the extent allowable pursuant to applicable law, each member of the Committee or of the Board shall be indemnified and held harmless by the Company from any loss, cost, liability, or expense that may be imposed upon or reasonably incurred by such member in connection with or resulting from any claim, action, suit, or proceeding to which he or she may be a party or in which he or she may be involved by reason of any action or failure to act pursuant to the Plan and against and from any and all amounts paid by him or her in satisfaction of judgment in such action, suit, or proceeding against him or her; provided he or she gives the Company an opportunity, at its own expense, to handle and defend the same before he or she undertakes to handle and defend it on his or her own behalf. The foregoing right of indemnification shall not be exclusive of any other rights of indemnification to which such persons may be entitled pursuant to the Companys Certificate of Incorporation or Bylaws, as a matter of law, or otherwise, or any power that the Company may have to indemnify them or hold them harmless.\\n</td>\n",
       "      <td>indemnification</td>\n",
       "    </tr>\n",
       "    <tr>\n",
       "      <th>2</th>\n",
       "      <td>Neither the Board nor the Administrator, nor any member of either or any delegate thereof, shall be liable for any act, omission, interpretation, construction or determination made in good faith in connection with the Plan, and the members of the Board and the Administrator (and any delegate thereof) shall be entitled in all cases to indemnification and reimbursement by the Company in respect of any claim, loss, damage or expense (including, without limitation, reasonable attorneys fees) arising or resulting therefrom to the fullest extent permitted by law and/or under the Companys articles or bylaws or any directors and officers liability insurance coverage which may be in effect from time to time and/or any indemnification agreement between such individual and the Company.\\n</td>\n",
       "      <td>indemnification</td>\n",
       "    </tr>\n",
       "    <tr>\n",
       "      <th>3</th>\n",
       "      <td>To the extent any of the Agents is not reimbursed and indemnified by the Borrower, the Lenders will reimburse and indemnify the applicable Agents, in proportion to their respective percentages as used in determining the Required Lenders (without regard to the existence of any Defaulting Lenders), for and against any and all liabilities, obligations, losses, damages, penalties, claims, actions, judgments, costs, expenses or disbursements of whatsoever kind or nature which may be imposed on, asserted against or incurred by such Agents in performing their respective duties hereunder or under any other Credit Document, in any way relating to or arising out of this Agreement or any other Credit Document; provided that no Lender shall be liable to an Agent for any portion of such liabilities, obligations, losses, damages, penalties, actions, judgments, suits, costs, expenses or disbursements resulting from such Agents gross negligence or willful misconduct.\\n</td>\n",
       "      <td>indemnification</td>\n",
       "    </tr>\n",
       "    <tr>\n",
       "      <th>4</th>\n",
       "      <td>The Lenders agree to indemnify each Agent and the Revolving Facility Lenders agree to indemnify each Issuing Bank, in each case in its capacity as such (to the extent not reimbursed by Holdings or the Borrower and without limiting the obligation of Holdings or the Borrower to do so), in the amount of its pro rata share (based on its aggregate Revolving Facility Credit Exposure and, in the case of the indemnification of each Agent, outstanding Term Loans and unused Commitments hereunder; provided, that the aggregate principal amount of Swingline Loans owing to the Swingline Lender and of L/C Disbursements owing to any Issuing Bank shall be considered to be owed to the Revolving Facility Lenders ratably in accordance with their respective Revolving Facility Credit Exposure) (determined at the time such indemnity is sought), from and against any and all liabilities, obligations, losses, damages, penalties, actions, judgments, suits, costs, expenses or disbursements of any kind whatsoever that may at any time (whether before or after the payment of the Loans) be imposed on, incurred by or asserted against such Agent or such Issuing Bank in any way relating to or arising out of the Commitments, this Agreement, any of the other Loan Documents or any documents contemplated by or referred to herein or therein or the transactions contemplated hereby or thereby or any action taken or omitted by such Agent or such Issuing Bank under or in connection with any of the foregoing; provided, that no Lender shall be liable for the payment of any portion of such liabilities, obligations, losses, damages, penalties, actions, judgments, suits, costs, expenses or disbursements that are found by a final and nonappealable decision of a court of competent jurisdiction to have resulted from such Agents or such Issuing Banks gross negligence or willful misconduct. The failure of any Lender to reimburse any Agent or any Issuing Bank, as the case may be, promptly upon demand for its ratable share of any amount required to be paid by the Lenders to such Agent or such Issuing Bank, as the case may be, as provided herein shall not relieve any other Lender of its obligation hereunder to reimburse such Agent or such Issuing Bank, as the case may be, for its ratable share of such amount, but no Lender shall be responsible for the failure of any other Lender to reimburse such Agent or such Issuing Bank, as the case may be, for such other Lenders ratable share of such amount. The agreements ...\\n</td>\n",
       "      <td>indemnification</td>\n",
       "    </tr>\n",
       "  </tbody>\n",
       "</table>\n",
       "</div>"
      ],
      "text/plain": [
       "                                                                                                                                                                                                                                                                                                                                                                                                                                                                                                                                                                                                                                                                                                                                                                                                                                                                                                                                                                                                                                                                                                                                                                                                                                                                                                                                                                                                                                                                                                                                                                                                                                                                                                                                                                                                                                                                                                                                                                                                                                                                                                                                                                                                                                                                                                                                                                                                                                                                                                                                                                                                          snippet  \\\n",
       "0  The Depositor shall be liable as primary obligor for, and shall indemnify the Trustee and its successors, assigns, agents and servants (collectively, the Indemnified Parties) from and against, any and all liabilities, obligations, losses, damages, taxes, claims, actions and suits, and any and all reasonable costs, expenses and disbursements (including reasonable legal fees and expenses) of any kind and nature whatsoever (collectively, Expenses), which may at any time be imposed on, incurred by or asserted against the Trustee or any other Indemnified Party in any way relating to or arising out of this Agreement, the Basic Documents, the Trust Estate, the administration of the Trust Estate or the action or inaction of the Trustee hereunder, except only that the Depositor shall not be liable for or required to indemnify an Indemnified Party from and against Expenses arising or resulting from: (a) such Indemnified Partys willful misconduct or negligence, (b) with respect to the Trustee, the inaccuracy of any representation or warranty contained in Section 7.3 expressly made by the Trustee or (c) any tax imposed on an Indemnified Party based on, measured by or with respect to the net or gross income, capital or net worth, gross or net receipts, franchise, excess profits or conduct of business by such Indemnified Party (including, but not limited to, taxes imposed on, measured by, or with respect to any fees or compensation received by the Trustee hereunder). The indemnities contained in this Section shall survive the resignation or termination of the Trustee or the termination of this Agreement. In any event of any claim, action or proceeding for which indemnity will be sought pursuant to this Section, the Trustees choice of legal counsel shall be subject to the approval of the Depositor, which approval shall not be unreasonably withheld.\\n                                                                                                                                                                                                                                                                                                                                                                                                                                                                                                                                                                                                                                                                      \n",
       "1  To the extent allowable pursuant to applicable law, each member of the Committee or of the Board shall be indemnified and held harmless by the Company from any loss, cost, liability, or expense that may be imposed upon or reasonably incurred by such member in connection with or resulting from any claim, action, suit, or proceeding to which he or she may be a party or in which he or she may be involved by reason of any action or failure to act pursuant to the Plan and against and from any and all amounts paid by him or her in satisfaction of judgment in such action, suit, or proceeding against him or her; provided he or she gives the Company an opportunity, at its own expense, to handle and defend the same before he or she undertakes to handle and defend it on his or her own behalf. The foregoing right of indemnification shall not be exclusive of any other rights of indemnification to which such persons may be entitled pursuant to the Companys Certificate of Incorporation or Bylaws, as a matter of law, or otherwise, or any power that the Company may have to indemnify them or hold them harmless.\\n                                                                                                                                                                                                                                                                                                                                                                                                                                                                                                                                                                                                                                                                                                                                                                                                                                                                                                                                                                                                                                                                                                                                                                                                                                                                                                                                                                                                                                                         \n",
       "2  Neither the Board nor the Administrator, nor any member of either or any delegate thereof, shall be liable for any act, omission, interpretation, construction or determination made in good faith in connection with the Plan, and the members of the Board and the Administrator (and any delegate thereof) shall be entitled in all cases to indemnification and reimbursement by the Company in respect of any claim, loss, damage or expense (including, without limitation, reasonable attorneys fees) arising or resulting therefrom to the fullest extent permitted by law and/or under the Companys articles or bylaws or any directors and officers liability insurance coverage which may be in effect from time to time and/or any indemnification agreement between such individual and the Company.\\n                                                                                                                                                                                                                                                                                                                                                                                                                                                                                                                                                                                                                                                                                                                                                                                                                                                                                                                                                                                                                                                                                                                                                                                                                                                                                                                                                                                                                                                                                                                                                                                                                                                                                                                                                                                              \n",
       "3  To the extent any of the Agents is not reimbursed and indemnified by the Borrower, the Lenders will reimburse and indemnify the applicable Agents, in proportion to their respective percentages as used in determining the Required Lenders (without regard to the existence of any Defaulting Lenders), for and against any and all liabilities, obligations, losses, damages, penalties, claims, actions, judgments, costs, expenses or disbursements of whatsoever kind or nature which may be imposed on, asserted against or incurred by such Agents in performing their respective duties hereunder or under any other Credit Document, in any way relating to or arising out of this Agreement or any other Credit Document; provided that no Lender shall be liable to an Agent for any portion of such liabilities, obligations, losses, damages, penalties, actions, judgments, suits, costs, expenses or disbursements resulting from such Agents gross negligence or willful misconduct.\\n                                                                                                                                                                                                                                                                                                                                                                                                                                                                                                                                                                                                                                                                                                                                                                                                                                                                                                                                                                                                                                                                                                                                                                                                                                                                                                                                                                                                                                                                                                                                                                                                          \n",
       "4  The Lenders agree to indemnify each Agent and the Revolving Facility Lenders agree to indemnify each Issuing Bank, in each case in its capacity as such (to the extent not reimbursed by Holdings or the Borrower and without limiting the obligation of Holdings or the Borrower to do so), in the amount of its pro rata share (based on its aggregate Revolving Facility Credit Exposure and, in the case of the indemnification of each Agent, outstanding Term Loans and unused Commitments hereunder; provided, that the aggregate principal amount of Swingline Loans owing to the Swingline Lender and of L/C Disbursements owing to any Issuing Bank shall be considered to be owed to the Revolving Facility Lenders ratably in accordance with their respective Revolving Facility Credit Exposure) (determined at the time such indemnity is sought), from and against any and all liabilities, obligations, losses, damages, penalties, actions, judgments, suits, costs, expenses or disbursements of any kind whatsoever that may at any time (whether before or after the payment of the Loans) be imposed on, incurred by or asserted against such Agent or such Issuing Bank in any way relating to or arising out of the Commitments, this Agreement, any of the other Loan Documents or any documents contemplated by or referred to herein or therein or the transactions contemplated hereby or thereby or any action taken or omitted by such Agent or such Issuing Bank under or in connection with any of the foregoing; provided, that no Lender shall be liable for the payment of any portion of such liabilities, obligations, losses, damages, penalties, actions, judgments, suits, costs, expenses or disbursements that are found by a final and nonappealable decision of a court of competent jurisdiction to have resulted from such Agents or such Issuing Banks gross negligence or willful misconduct. The failure of any Lender to reimburse any Agent or any Issuing Bank, as the case may be, promptly upon demand for its ratable share of any amount required to be paid by the Lenders to such Agent or such Issuing Bank, as the case may be, as provided herein shall not relieve any other Lender of its obligation hereunder to reimburse such Agent or such Issuing Bank, as the case may be, for its ratable share of such amount, but no Lender shall be responsible for the failure of any other Lender to reimburse such Agent or such Issuing Bank, as the case may be, for such other Lenders ratable share of such amount. The agreements ...\\n         \n",
       "\n",
       "             label  \n",
       "0  indemnification  \n",
       "1  indemnification  \n",
       "2  indemnification  \n",
       "3  indemnification  \n",
       "4  indemnification  "
      ]
     },
     "execution_count": 13,
     "metadata": {},
     "output_type": "execute_result"
    }
   ],
   "source": [
    "indemnification = pd.read_json(path/'indemnification_clauses.json')\n",
    "indemnification['label'] = 'indemnification'\n",
    "indemnification.head()"
   ]
  },
  {
   "cell_type": "code",
   "execution_count": 14,
   "metadata": {},
   "outputs": [
    {
     "data": {
      "text/html": [
       "<div>\n",
       "<style scoped>\n",
       "    .dataframe tbody tr th:only-of-type {\n",
       "        vertical-align: middle;\n",
       "    }\n",
       "\n",
       "    .dataframe tbody tr th {\n",
       "        vertical-align: top;\n",
       "    }\n",
       "\n",
       "    .dataframe thead th {\n",
       "        text-align: right;\n",
       "    }\n",
       "</style>\n",
       "<table border=\"1\" class=\"dataframe\">\n",
       "  <thead>\n",
       "    <tr style=\"text-align: right;\">\n",
       "      <th></th>\n",
       "      <th>snippet</th>\n",
       "      <th>label</th>\n",
       "    </tr>\n",
       "  </thead>\n",
       "  <tbody>\n",
       "    <tr>\n",
       "      <th>0</th>\n",
       "      <td>Neither this Agreement nor any of the rights, interests or obligations hereunder shall be assigned by any of the parties hereto (whether by operation of law or otherwise) without the prior written consent of the other parties. Subject to the preceding sentence, this Agreement will be binding upon, inure to the benefit of and be enforceable by the parties and their respective successors and assigns.\\n</td>\n",
       "      <td>assignment</td>\n",
       "    </tr>\n",
       "    <tr>\n",
       "      <th>1</th>\n",
       "      <td>This Agreement will be binding upon and inure to the benefit of (a) the heirs, executors and legal representatives of Executive upon Executives death and (b) any successor of the Company. Any such successor of the Company will be deemed substituted for the Company under the terms of this Agreement for all purposes. For this purpose, successor means any person, firm, corporation or other business entity which at any time, whether by purchase, merger or otherwise, directly or indirectly acquires all or substantially all of the assets or business of the Company. None of the rights of Executive to receive any form of compensation payable pursuant to this Agreement may be assigned or transferred except by will or the laws of descent and distribution. Any other attempted assignment, transfer, conveyance or other disposition of Executives right to compensation or other benefits will be null and void.\\n</td>\n",
       "      <td>assignment</td>\n",
       "    </tr>\n",
       "    <tr>\n",
       "      <th>2</th>\n",
       "      <td>The Company shall assign this Agreement and its rights and obligations hereunder in whole, but not in part, to any corporation or other entity with or into which the Company may hereafter merge or consolidate or to which the Company may transfer all or substantially all of its assets, if in any such case said corporation or other entity shall by operation of law or expressly in writing assume all obligations of the Company hereunder as fully as if it had been originally made a party hereto; the Company may not otherwise assign this Agreement or its rights and obligations hereunder. Executive may not assign or transfer this Agreement or any rights or obligations hereunder.\\n</td>\n",
       "      <td>assignment</td>\n",
       "    </tr>\n",
       "    <tr>\n",
       "      <th>3</th>\n",
       "      <td>Neither this Agreement nor any right, remedy, obligation nor liability arising hereunder or by reason hereof shall be assignable by any party hereto without the prior written consent of the other party, and any attempt to assign any right, remedy, obligation or liability hereunder without such consent shall be void, except (a) an assignment, in the case of a Business Combination where such party is not the surviving entity, or a sale of substantially all of its assets, to the entity which is the survivor of such Business Combination or the purchaser in such sale and (b) as provided in Section 4.5.\\n</td>\n",
       "      <td>assignment</td>\n",
       "    </tr>\n",
       "    <tr>\n",
       "      <th>4</th>\n",
       "      <td>The Company will have the right at all times to assign any of its rights or obligations under this Indenture to a direct or indirect wholly owned Subsidiary of the Company, provided that, in the event of any such assignment, the Company will remain liable for all such obligations. Subject to the foregoing, this Indenture is binding upon and inures to the benefit of the parties hereto and their respective successors and assigns. This Indenture may not otherwise be assigned by the parties hereto.\\n</td>\n",
       "      <td>assignment</td>\n",
       "    </tr>\n",
       "  </tbody>\n",
       "</table>\n",
       "</div>"
      ],
      "text/plain": [
       "                                                                                                                                                                                                                                                                                                                                                                                                                                                                                                                                                                                                                                                                                                                                                                                                                                                                                                                                              snippet  \\\n",
       "0  Neither this Agreement nor any of the rights, interests or obligations hereunder shall be assigned by any of the parties hereto (whether by operation of law or otherwise) without the prior written consent of the other parties. Subject to the preceding sentence, this Agreement will be binding upon, inure to the benefit of and be enforceable by the parties and their respective successors and assigns.\\n                                                                                                                                                                                                                                                                                                                                                                                                                                                                                                                                  \n",
       "1  This Agreement will be binding upon and inure to the benefit of (a) the heirs, executors and legal representatives of Executive upon Executives death and (b) any successor of the Company. Any such successor of the Company will be deemed substituted for the Company under the terms of this Agreement for all purposes. For this purpose, successor means any person, firm, corporation or other business entity which at any time, whether by purchase, merger or otherwise, directly or indirectly acquires all or substantially all of the assets or business of the Company. None of the rights of Executive to receive any form of compensation payable pursuant to this Agreement may be assigned or transferred except by will or the laws of descent and distribution. Any other attempted assignment, transfer, conveyance or other disposition of Executives right to compensation or other benefits will be null and void.\\n         \n",
       "2  The Company shall assign this Agreement and its rights and obligations hereunder in whole, but not in part, to any corporation or other entity with or into which the Company may hereafter merge or consolidate or to which the Company may transfer all or substantially all of its assets, if in any such case said corporation or other entity shall by operation of law or expressly in writing assume all obligations of the Company hereunder as fully as if it had been originally made a party hereto; the Company may not otherwise assign this Agreement or its rights and obligations hereunder. Executive may not assign or transfer this Agreement or any rights or obligations hereunder.\\n                                                                                                                                                                                                                                           \n",
       "3  Neither this Agreement nor any right, remedy, obligation nor liability arising hereunder or by reason hereof shall be assignable by any party hereto without the prior written consent of the other party, and any attempt to assign any right, remedy, obligation or liability hereunder without such consent shall be void, except (a) an assignment, in the case of a Business Combination where such party is not the surviving entity, or a sale of substantially all of its assets, to the entity which is the survivor of such Business Combination or the purchaser in such sale and (b) as provided in Section 4.5.\\n                                                                                                                                                                                                                                                                                                                       \n",
       "4  The Company will have the right at all times to assign any of its rights or obligations under this Indenture to a direct or indirect wholly owned Subsidiary of the Company, provided that, in the event of any such assignment, the Company will remain liable for all such obligations. Subject to the foregoing, this Indenture is binding upon and inures to the benefit of the parties hereto and their respective successors and assigns. This Indenture may not otherwise be assigned by the parties hereto.\\n                                                                                                                                                                                                                                                                                                                                                                                                                                \n",
       "\n",
       "        label  \n",
       "0  assignment  \n",
       "1  assignment  \n",
       "2  assignment  \n",
       "3  assignment  \n",
       "4  assignment  "
      ]
     },
     "execution_count": 14,
     "metadata": {},
     "output_type": "execute_result"
    }
   ],
   "source": [
    "assignment = pd.read_json(path/'assignment_clauses.json')\n",
    "assignment['label'] = 'assignment'\n",
    "assignment.head()"
   ]
  },
  {
   "cell_type": "code",
   "execution_count": 15,
   "metadata": {},
   "outputs": [
    {
     "data": {
      "text/html": [
       "<div>\n",
       "<style scoped>\n",
       "    .dataframe tbody tr th:only-of-type {\n",
       "        vertical-align: middle;\n",
       "    }\n",
       "\n",
       "    .dataframe tbody tr th {\n",
       "        vertical-align: top;\n",
       "    }\n",
       "\n",
       "    .dataframe thead th {\n",
       "        text-align: right;\n",
       "    }\n",
       "</style>\n",
       "<table border=\"1\" class=\"dataframe\">\n",
       "  <thead>\n",
       "    <tr style=\"text-align: right;\">\n",
       "      <th></th>\n",
       "      <th>snippet</th>\n",
       "      <th>label</th>\n",
       "    </tr>\n",
       "  </thead>\n",
       "  <tbody>\n",
       "    <tr>\n",
       "      <th>0</th>\n",
       "      <td>This Agreement shall be governed by and construed in accordance with the laws of the State of New York.\\n</td>\n",
       "      <td>governing-law</td>\n",
       "    </tr>\n",
       "    <tr>\n",
       "      <th>1</th>\n",
       "      <td>This Note shall be governed by and construed in accordance with the laws of the State of New York without regard to principles of conflicts of laws. Any action brought by either party against the other concerning the transactions contemplated by this Note shall be brought only in the state courts of New York or in the federal courts located in the state and county of Nassau. The parties to this Note hereby irrevocably waive any objection to jurisdiction and venue of any action instituted hereunder and shall not assert any defense based on lack of jurisdiction or venue or based upon forum non conveniens. The Borrower and Holder waive trial by jury. The prevailing party shall be entitled to recover from the other party its reasonable attorney's fees and costs. In the event that any provision of this Note or any other agreement delivered in connection herewith is invalid or unenforceable under any applicable statute or rule of law, then such provision shall be deemed inoperative to the extent that it may conflict therewith and shall be deemed modified to conform with such statute or rule of law. Any such provision which may prove invalid or unenforceable under any law shall not affect the validity or enforceability of any other provision of any agreement. Each party hereby irrevocably waives personal service of process and consents to process being served in any suit, action or proceeding in connection with this Agreement or any other Transaction Document by mailing a copy thereof via registered or certified mail or overnight delivery (with evidence of delivery) to such party at the address in effect for notices to it under this Agreement and agrees that such service shall constitute good and sufficient service of process and notice thereof. Nothing contained herein shall be deemed to limit in any way any right to serve process in any other manner permitted by law.\\n</td>\n",
       "      <td>governing-law</td>\n",
       "    </tr>\n",
       "    <tr>\n",
       "      <th>2</th>\n",
       "      <td>This Warrant shall be governed by and construed in accordance with the laws of the State of California, without giving effect to its principles regarding conflicts of law.\\n</td>\n",
       "      <td>governing-law</td>\n",
       "    </tr>\n",
       "    <tr>\n",
       "      <th>3</th>\n",
       "      <td>THIS AGREEMENT SHALL BE CONSTRUED IN ACCORDANCE WITH THE LAWS OF THE STATE OF DELAWARE, WITHOUT REFERENCE TO ITS CONFLICT OF LAW PROVISIONS, AND THE OBLIGATIONS, RIGHTS AND REMEDIES OF THE PARTIES HEREUNDER SHALL BE DETERMINED IN ACCORDANCE WITH SUCH LAWS.\\n</td>\n",
       "      <td>governing-law</td>\n",
       "    </tr>\n",
       "    <tr>\n",
       "      <th>4</th>\n",
       "      <td>This Agreement shall be governed by and construed under the laws of the State of Delaware (without regard to conflict of laws principles), all rights and remedies being governed by said laws.\\n</td>\n",
       "      <td>governing-law</td>\n",
       "    </tr>\n",
       "  </tbody>\n",
       "</table>\n",
       "</div>"
      ],
      "text/plain": [
       "                                                                                                                                                                                                                                                                                                                                                                                                                                                                                                                                                                                                                                                                                                                                                                                                                                                                                                                                                                                                                                                                                                                                                                                                                                                                                                                                                                                                                                                                                                                                                                                                                                                                                                                                                                                                                                                                                                                                                                          snippet  \\\n",
       "0  This Agreement shall be governed by and construed in accordance with the laws of the State of New York.\\n                                                                                                                                                                                                                                                                                                                                                                                                                                                                                                                                                                                                                                                                                                                                                                                                                                                                                                                                                                                                                                                                                                                                                                                                                                                                                                                                                                                                                                                                                                                                                                                                                                                                                                                                                                                                                                                                        \n",
       "1  This Note shall be governed by and construed in accordance with the laws of the State of New York without regard to principles of conflicts of laws. Any action brought by either party against the other concerning the transactions contemplated by this Note shall be brought only in the state courts of New York or in the federal courts located in the state and county of Nassau. The parties to this Note hereby irrevocably waive any objection to jurisdiction and venue of any action instituted hereunder and shall not assert any defense based on lack of jurisdiction or venue or based upon forum non conveniens. The Borrower and Holder waive trial by jury. The prevailing party shall be entitled to recover from the other party its reasonable attorney's fees and costs. In the event that any provision of this Note or any other agreement delivered in connection herewith is invalid or unenforceable under any applicable statute or rule of law, then such provision shall be deemed inoperative to the extent that it may conflict therewith and shall be deemed modified to conform with such statute or rule of law. Any such provision which may prove invalid or unenforceable under any law shall not affect the validity or enforceability of any other provision of any agreement. Each party hereby irrevocably waives personal service of process and consents to process being served in any suit, action or proceeding in connection with this Agreement or any other Transaction Document by mailing a copy thereof via registered or certified mail or overnight delivery (with evidence of delivery) to such party at the address in effect for notices to it under this Agreement and agrees that such service shall constitute good and sufficient service of process and notice thereof. Nothing contained herein shall be deemed to limit in any way any right to serve process in any other manner permitted by law.\\n         \n",
       "2  This Warrant shall be governed by and construed in accordance with the laws of the State of California, without giving effect to its principles regarding conflicts of law.\\n                                                                                                                                                                                                                                                                                                                                                                                                                                                                                                                                                                                                                                                                                                                                                                                                                                                                                                                                                                                                                                                                                                                                                                                                                                                                                                                                                                                                                                                                                                                                                                                                                                                                                                                                                                                                    \n",
       "3  THIS AGREEMENT SHALL BE CONSTRUED IN ACCORDANCE WITH THE LAWS OF THE STATE OF DELAWARE, WITHOUT REFERENCE TO ITS CONFLICT OF LAW PROVISIONS, AND THE OBLIGATIONS, RIGHTS AND REMEDIES OF THE PARTIES HEREUNDER SHALL BE DETERMINED IN ACCORDANCE WITH SUCH LAWS.\\n                                                                                                                                                                                                                                                                                                                                                                                                                                                                                                                                                                                                                                                                                                                                                                                                                                                                                                                                                                                                                                                                                                                                                                                                                                                                                                                                                                                                                                                                                                                                                                                                                                                                                                               \n",
       "4  This Agreement shall be governed by and construed under the laws of the State of Delaware (without regard to conflict of laws principles), all rights and remedies being governed by said laws.\\n                                                                                                                                                                                                                                                                                                                                                                                                                                                                                                                                                                                                                                                                                                                                                                                                                                                                                                                                                                                                                                                                                                                                                                                                                                                                                                                                                                                                                                                                                                                                                                                                                                                                                                                                                                                \n",
       "\n",
       "           label  \n",
       "0  governing-law  \n",
       "1  governing-law  \n",
       "2  governing-law  \n",
       "3  governing-law  \n",
       "4  governing-law  "
      ]
     },
     "execution_count": 15,
     "metadata": {},
     "output_type": "execute_result"
    }
   ],
   "source": [
    "governing_law = pd.read_json(path/'governing-law_clauses.json')\n",
    "governing_law['label'] = 'governing-law'\n",
    "governing_law.head()"
   ]
  },
  {
   "cell_type": "code",
   "execution_count": 16,
   "metadata": {},
   "outputs": [],
   "source": [
    "all = pd.concat([counterparts, confidentiality, indemnification, assignment, governing_law], ignore_index=True)"
   ]
  },
  {
   "cell_type": "code",
   "execution_count": 20,
   "metadata": {},
   "outputs": [],
   "source": [
    "# shuffle\n",
    "all = all.sample(frac=1).reset_index(drop=True)"
   ]
  },
  {
   "cell_type": "code",
   "execution_count": 21,
   "metadata": {},
   "outputs": [
    {
     "data": {
      "text/html": [
       "<div>\n",
       "<style scoped>\n",
       "    .dataframe tbody tr th:only-of-type {\n",
       "        vertical-align: middle;\n",
       "    }\n",
       "\n",
       "    .dataframe tbody tr th {\n",
       "        vertical-align: top;\n",
       "    }\n",
       "\n",
       "    .dataframe thead th {\n",
       "        text-align: right;\n",
       "    }\n",
       "</style>\n",
       "<table border=\"1\" class=\"dataframe\">\n",
       "  <thead>\n",
       "    <tr style=\"text-align: right;\">\n",
       "      <th></th>\n",
       "      <th>snippet</th>\n",
       "      <th>label</th>\n",
       "    </tr>\n",
       "  </thead>\n",
       "  <tbody>\n",
       "    <tr>\n",
       "      <th>count</th>\n",
       "      <td>17932</td>\n",
       "      <td>17932</td>\n",
       "    </tr>\n",
       "    <tr>\n",
       "      <th>unique</th>\n",
       "      <td>17917</td>\n",
       "      <td>5</td>\n",
       "    </tr>\n",
       "    <tr>\n",
       "      <th>top</th>\n",
       "      <td>\\n</td>\n",
       "      <td>assignment</td>\n",
       "    </tr>\n",
       "    <tr>\n",
       "      <th>freq</th>\n",
       "      <td>5</td>\n",
       "      <td>4435</td>\n",
       "    </tr>\n",
       "  </tbody>\n",
       "</table>\n",
       "</div>"
      ],
      "text/plain": [
       "          snippet       label\n",
       "count   17932      17932     \n",
       "unique  17917      5         \n",
       "top      \\n        assignment\n",
       "freq    5          4435      "
      ]
     },
     "execution_count": 21,
     "metadata": {},
     "output_type": "execute_result"
    }
   ],
   "source": [
    "all.describe()"
   ]
  },
  {
   "cell_type": "code",
   "execution_count": 22,
   "metadata": {},
   "outputs": [
    {
     "data": {
      "text/plain": [
       "assignment         4435\n",
       "governing-law      4135\n",
       "confidentiality    3743\n",
       "indemnification    3699\n",
       "counterparts       1920\n",
       "Name: label, dtype: int64"
      ]
     },
     "execution_count": 22,
     "metadata": {},
     "output_type": "execute_result"
    }
   ],
   "source": [
    "all['label'].value_counts()"
   ]
  },
  {
   "cell_type": "code",
   "execution_count": 23,
   "metadata": {},
   "outputs": [
    {
     "data": {
      "text/html": [
       "<div>\n",
       "<style scoped>\n",
       "    .dataframe tbody tr th:only-of-type {\n",
       "        vertical-align: middle;\n",
       "    }\n",
       "\n",
       "    .dataframe tbody tr th {\n",
       "        vertical-align: top;\n",
       "    }\n",
       "\n",
       "    .dataframe thead th {\n",
       "        text-align: right;\n",
       "    }\n",
       "</style>\n",
       "<table border=\"1\" class=\"dataframe\">\n",
       "  <thead>\n",
       "    <tr style=\"text-align: right;\">\n",
       "      <th></th>\n",
       "      <th>snippet</th>\n",
       "      <th>label</th>\n",
       "    </tr>\n",
       "  </thead>\n",
       "  <tbody>\n",
       "    <tr>\n",
       "      <th>0</th>\n",
       "      <td>Each of the parties shall maintain the confidentiality of all information related to the Policies and all other information denominated as confidential by the other party provided to it in connection with this Agreement to the extent required by and subject to all of the terms and provisions of Section 11.7 of the Master Agreement.\\n</td>\n",
       "      <td>confidentiality</td>\n",
       "    </tr>\n",
       "    <tr>\n",
       "      <th>1</th>\n",
       "      <td>Any indemnification payments made to you pursuant to Appendix IV of the Employment Agreement will be made to you in a manner that does not cause such payments to constitute deferred compensation under Treas. Reg. 1.409A-1(b)(10) and any successor thereto.\\n</td>\n",
       "      <td>indemnification</td>\n",
       "    </tr>\n",
       "    <tr>\n",
       "      <th>2</th>\n",
       "      <td>The Grantee may assign to its affiliate its rights and benefits contained herein (in whole but not in part). Save as aforesaid, no party hereto may assign or transfer any of its rights or obligations under this Option.\\n</td>\n",
       "      <td>assignment</td>\n",
       "    </tr>\n",
       "    <tr>\n",
       "      <th>3</th>\n",
       "      <td>The Companys Certificate of Incorporation and Bylaws shall provide, to the maximum extent permitted by law, for elimination of the liability of directors and for indemnification of directors for acts on behalf of the Company.\\n</td>\n",
       "      <td>indemnification</td>\n",
       "    </tr>\n",
       "    <tr>\n",
       "      <th>4</th>\n",
       "      <td>This Escrow Agreement shall not be assigned by either the Exchangor or Intermediary without the prior written consent of Qualified Escrow Holder (such assigns of the Exchangor and Intermediary to which Qualified Escrow Holder consents, if any, and Qualified Escrow Holders assigns being hereinafter referred to collectively as Permitted Assigns), which consent shall not be unreasonably withheld.\\n</td>\n",
       "      <td>assignment</td>\n",
       "    </tr>\n",
       "  </tbody>\n",
       "</table>\n",
       "</div>"
      ],
      "text/plain": [
       "                                                                                                                                                                                                                                                                                                                                                                                                                snippet  \\\n",
       "0  Each of the parties shall maintain the confidentiality of all information related to the Policies and all other information denominated as confidential by the other party provided to it in connection with this Agreement to the extent required by and subject to all of the terms and provisions of Section 11.7 of the Master Agreement.\\n                                                                        \n",
       "1  Any indemnification payments made to you pursuant to Appendix IV of the Employment Agreement will be made to you in a manner that does not cause such payments to constitute deferred compensation under Treas. Reg. 1.409A-1(b)(10) and any successor thereto.\\n                                                                                                                                                      \n",
       "2  The Grantee may assign to its affiliate its rights and benefits contained herein (in whole but not in part). Save as aforesaid, no party hereto may assign or transfer any of its rights or obligations under this Option.\\n                                                                                                                                                                                           \n",
       "3  The Companys Certificate of Incorporation and Bylaws shall provide, to the maximum extent permitted by law, for elimination of the liability of directors and for indemnification of directors for acts on behalf of the Company.\\n                                                                                                                                                                                    \n",
       "4  This Escrow Agreement shall not be assigned by either the Exchangor or Intermediary without the prior written consent of Qualified Escrow Holder (such assigns of the Exchangor and Intermediary to which Qualified Escrow Holder consents, if any, and Qualified Escrow Holders assigns being hereinafter referred to collectively as Permitted Assigns), which consent shall not be unreasonably withheld.\\n         \n",
       "\n",
       "             label  \n",
       "0  confidentiality  \n",
       "1  indemnification  \n",
       "2  assignment       \n",
       "3  indemnification  \n",
       "4  assignment       "
      ]
     },
     "execution_count": 23,
     "metadata": {},
     "output_type": "execute_result"
    }
   ],
   "source": [
    "all.head()"
   ]
  },
  {
   "cell_type": "code",
   "execution_count": 76,
   "metadata": {},
   "outputs": [],
   "source": [
    "all.to_csv(path/'all-provisions.csv', index=False)"
   ]
  },
  {
   "cell_type": "code",
   "execution_count": 24,
   "metadata": {},
   "outputs": [],
   "source": [
    "bs=24"
   ]
  },
  {
   "cell_type": "code",
   "execution_count": 26,
   "metadata": {},
   "outputs": [],
   "source": [
    "data_lm = (TextList.from_df(all, path=path)                           \n",
    "            .random_split_by_pct(0.1)\n",
    "           #We randomly split and keep 10% for validation\n",
    "            .label_for_lm()           \n",
    "           #We want to do a language model so we label accordingly\n",
    "            .databunch(bs=bs))\n",
    "data_lm.save('tmp_lm')"
   ]
  },
  {
   "cell_type": "code",
   "execution_count": 27,
   "metadata": {},
   "outputs": [],
   "source": [
    "data_lm = TextLMDataBunch.load(path, 'tmp_lm', bs=bs)"
   ]
  },
  {
   "cell_type": "code",
   "execution_count": 28,
   "metadata": {},
   "outputs": [
    {
     "data": {
      "text/html": [
       "<table>  <col width='5%'>  <col width='95%'>  <tr>\n",
       "    <th>idx</th>\n",
       "    <th>text</th>\n",
       "  </tr>\n",
       "  <tr>\n",
       "    <th>0</th>\n",
       "    <th>xxbos xxmaj the xxmaj parties acknowledge that terms of the xxmaj confidentiality xxmaj agreement remain in force and are not hereby amended or terminated . \\n  xxbos xxmaj this xxmaj agreement shall be construed and applied ( except as to matters governed by the xxmaj delaware xxmaj general xxmaj corporation xxmaj law , as to which xxmaj delaware law shall apply ) in accordance with the laws of the</th>\n",
       "  </tr>\n",
       "  <tr>\n",
       "    <th>1</th>\n",
       "    <th>to the extent such damage is caused by xxunk negligence or intentional misconduct , or that of its agents , employees , customers , clients , contractors or invitees . xxmaj the indemnification obligations contained in this xxmaj section 17 shall not be limited by any workers compensation , benefit or disability laws , and xxup idc agrees to waive any immunity that xxup idc may have under the xxmaj</th>\n",
       "  </tr>\n",
       "  <tr>\n",
       "    <th>2</th>\n",
       "    <th>each case the xxmaj receiving xxmaj party ) confidential and proprietary information ( xxmaj confidential xxmaj information ) that has been developed or is owned by the xxmaj disclosing xxmaj party . xxmaj confidential xxmaj information may include , without limitation , research and development information , know - how , inventions , trade secrets , technical data , targets ( xxunk or xxunk ) , xxunk - out and</th>\n",
       "  </tr>\n",
       "  <tr>\n",
       "    <th>3</th>\n",
       "    <th>'s service to the xxmaj company and xxmaj executive shall at all times be covered under a director 's and officer 's liability xxunk ) paid for by the xxmaj company . \\n  xxbos xxmaj this xxmaj agreement may be executed in any number of counterparts . xxmaj all counterparts together will be taken to constitute one instrument . xxmaj executed in xxmaj indonesia xxmaj executed by xxup pt</th>\n",
       "  </tr>\n",
       "  <tr>\n",
       "    <th>4</th>\n",
       "    <th>may be signed in any number of counterpart copies and by the parties to this xxmaj amendment on separate counterparts , but all such copies shall constitute one and the same instrument . xxmaj delivery of an executed counterpart of a signature page to this xxmaj amendment by facsimile transmission shall be effective as delivery of a manually executed counterpart . xxmaj upon written request by the other party (</th>\n",
       "  </tr>\n",
       "</table>\n"
      ],
      "text/plain": [
       "<IPython.core.display.HTML object>"
      ]
     },
     "metadata": {},
     "output_type": "display_data"
    }
   ],
   "source": [
    "data_lm.show_batch()"
   ]
  },
  {
   "cell_type": "code",
   "execution_count": 30,
   "metadata": {},
   "outputs": [
    {
     "data": {
      "text/plain": [
       "['xxunk',\n",
       " 'xxpad',\n",
       " 'xxbos',\n",
       " 'xxfld',\n",
       " 'xxmaj',\n",
       " 'xxup',\n",
       " 'xxrep',\n",
       " 'xxwrep',\n",
       " 'the',\n",
       " ',',\n",
       " 'of',\n",
       " 'and',\n",
       " 'to',\n",
       " 'or',\n",
       " '.',\n",
       " 'in',\n",
       " 'this',\n",
       " 'agreement',\n",
       " '\\n ',\n",
       " 'any',\n",
       " 'by',\n",
       " 'shall',\n",
       " 'be',\n",
       " ')',\n",
       " '(',\n",
       " 'as',\n",
       " ':',\n",
       " 'with',\n",
       " 'a',\n",
       " 'all',\n",
       " 'may',\n",
       " 'that',\n",
       " 'such',\n",
       " '/',\n",
       " 'its',\n",
       " 'company',\n",
       " 'not',\n",
       " 'other',\n",
       " 'party',\n",
       " 'for']"
      ]
     },
     "execution_count": 30,
     "metadata": {},
     "output_type": "execute_result"
    }
   ],
   "source": [
    "data_lm.vocab.itos[:40]"
   ]
  },
  {
   "cell_type": "markdown",
   "metadata": {},
   "source": [
    "## Train Language Model"
   ]
  },
  {
   "cell_type": "code",
   "execution_count": 31,
   "metadata": {},
   "outputs": [],
   "source": [
    "learn = language_model_learner(data_lm, pretrained_model=URLs.WT103, drop_mult=0.3)"
   ]
  },
  {
   "cell_type": "code",
   "execution_count": 32,
   "metadata": {},
   "outputs": [
    {
     "name": "stdout",
     "output_type": "stream",
     "text": [
      "LR Finder is complete, type {learner_name}.recorder.plot() to see the graph.\n"
     ]
    }
   ],
   "source": [
    "learn.lr_find()"
   ]
  },
  {
   "cell_type": "code",
   "execution_count": 33,
   "metadata": {},
   "outputs": [
    {
     "data": {
      "image/png": "[encoded data removed]",
      "text/plain": [
       "<Figure size 432x288 with 1 Axes>"
      ]
     },
     "metadata": {
      "needs_background": "light"
     },
     "output_type": "display_data"
    }
   ],
   "source": [
    "learn.recorder.plot()"
   ]
  },
  {
   "cell_type": "code",
   "execution_count": 34,
   "metadata": {},
   "outputs": [
    {
     "data": {
      "text/html": [
       "Total time: 00:46 <p><table style='width:300px; margin-bottom:10px'>\n",
       "  <tr>\n",
       "    <th>epoch</th>\n",
       "    <th>train_loss</th>\n",
       "    <th>valid_loss</th>\n",
       "    <th>accuracy</th>\n",
       "  </tr>\n",
       "  <tr>\n",
       "    <th>1</th>\n",
       "    <th>3.035402</th>\n",
       "    <th>2.718120</th>\n",
       "    <th>0.451382</th>\n",
       "  </tr>\n",
       "</table>\n"
      ],
      "text/plain": [
       "<IPython.core.display.HTML object>"
      ]
     },
     "metadata": {},
     "output_type": "display_data"
    }
   ],
   "source": [
    "learn.fit_one_cycle(1, 5e-2, moms=(0.8,0.7))"
   ]
  },
  {
   "cell_type": "code",
   "execution_count": 35,
   "metadata": {},
   "outputs": [
    {
     "data": {
      "text/html": [
       "Total time: 00:47 <p><table style='width:300px; margin-bottom:10px'>\n",
       "  <tr>\n",
       "    <th>epoch</th>\n",
       "    <th>train_loss</th>\n",
       "    <th>valid_loss</th>\n",
       "    <th>accuracy</th>\n",
       "  </tr>\n",
       "  <tr>\n",
       "    <th>1</th>\n",
       "    <th>2.878301</th>\n",
       "    <th>2.672573</th>\n",
       "    <th>0.456841</th>\n",
       "  </tr>\n",
       "</table>\n"
      ],
      "text/plain": [
       "<IPython.core.display.HTML object>"
      ]
     },
     "metadata": {},
     "output_type": "display_data"
    }
   ],
   "source": [
    "learn.fit_one_cycle(1, 5e-2, moms=(0.8,0.7))"
   ]
  },
  {
   "cell_type": "code",
   "execution_count": 36,
   "metadata": {},
   "outputs": [],
   "source": [
    "learn.save('lm-contracts-1')"
   ]
  },
  {
   "cell_type": "code",
   "execution_count": 37,
   "metadata": {},
   "outputs": [
    {
     "data": {
      "text/html": [
       "Total time: 00:46 <p><table style='width:300px; margin-bottom:10px'>\n",
       "  <tr>\n",
       "    <th>epoch</th>\n",
       "    <th>train_loss</th>\n",
       "    <th>valid_loss</th>\n",
       "    <th>accuracy</th>\n",
       "  </tr>\n",
       "  <tr>\n",
       "    <th>1</th>\n",
       "    <th>2.858080</th>\n",
       "    <th>2.662608</th>\n",
       "    <th>0.459832</th>\n",
       "  </tr>\n",
       "</table>\n"
      ],
      "text/plain": [
       "<IPython.core.display.HTML object>"
      ]
     },
     "metadata": {},
     "output_type": "display_data"
    }
   ],
   "source": [
    "learn.fit_one_cycle(1, 5e-2, moms=(0.8,0.7))"
   ]
  },
  {
   "cell_type": "code",
   "execution_count": 38,
   "metadata": {},
   "outputs": [
    {
     "data": {
      "text/html": [
       "Total time: 00:46 <p><table style='width:300px; margin-bottom:10px'>\n",
       "  <tr>\n",
       "    <th>epoch</th>\n",
       "    <th>train_loss</th>\n",
       "    <th>valid_loss</th>\n",
       "    <th>accuracy</th>\n",
       "  </tr>\n",
       "  <tr>\n",
       "    <th>1</th>\n",
       "    <th>2.844009</th>\n",
       "    <th>2.636548</th>\n",
       "    <th>0.461848</th>\n",
       "  </tr>\n",
       "</table>\n"
      ],
      "text/plain": [
       "<IPython.core.display.HTML object>"
      ]
     },
     "metadata": {},
     "output_type": "display_data"
    }
   ],
   "source": [
    "learn.fit_one_cycle(1, 5e-2, moms=(0.8,0.7))"
   ]
  },
  {
   "cell_type": "code",
   "execution_count": 39,
   "metadata": {},
   "outputs": [
    {
     "data": {
      "text/html": [
       "Total time: 00:46 <p><table style='width:300px; margin-bottom:10px'>\n",
       "  <tr>\n",
       "    <th>epoch</th>\n",
       "    <th>train_loss</th>\n",
       "    <th>valid_loss</th>\n",
       "    <th>accuracy</th>\n",
       "  </tr>\n",
       "  <tr>\n",
       "    <th>1</th>\n",
       "    <th>2.812261</th>\n",
       "    <th>2.631253</th>\n",
       "    <th>0.463242</th>\n",
       "  </tr>\n",
       "</table>\n"
      ],
      "text/plain": [
       "<IPython.core.display.HTML object>"
      ]
     },
     "metadata": {},
     "output_type": "display_data"
    }
   ],
   "source": [
    "learn.fit_one_cycle(1, 5e-2, moms=(0.8,0.7))"
   ]
  },
  {
   "cell_type": "code",
   "execution_count": 40,
   "metadata": {},
   "outputs": [
    {
     "data": {
      "text/html": [
       "Total time: 00:46 <p><table style='width:300px; margin-bottom:10px'>\n",
       "  <tr>\n",
       "    <th>epoch</th>\n",
       "    <th>train_loss</th>\n",
       "    <th>valid_loss</th>\n",
       "    <th>accuracy</th>\n",
       "  </tr>\n",
       "  <tr>\n",
       "    <th>1</th>\n",
       "    <th>2.812895</th>\n",
       "    <th>2.627619</th>\n",
       "    <th>0.463571</th>\n",
       "  </tr>\n",
       "</table>\n"
      ],
      "text/plain": [
       "<IPython.core.display.HTML object>"
      ]
     },
     "metadata": {},
     "output_type": "display_data"
    }
   ],
   "source": [
    "learn.fit_one_cycle(1, 5e-2, moms=(0.8,0.7))"
   ]
  },
  {
   "cell_type": "code",
   "execution_count": 41,
   "metadata": {},
   "outputs": [],
   "source": [
    "learn.save('lm-contracts-2')"
   ]
  },
  {
   "cell_type": "code",
   "execution_count": 42,
   "metadata": {},
   "outputs": [
    {
     "data": {
      "text/html": [
       "Total time: 00:46 <p><table style='width:300px; margin-bottom:10px'>\n",
       "  <tr>\n",
       "    <th>epoch</th>\n",
       "    <th>train_loss</th>\n",
       "    <th>valid_loss</th>\n",
       "    <th>accuracy</th>\n",
       "  </tr>\n",
       "  <tr>\n",
       "    <th>1</th>\n",
       "    <th>2.807194</th>\n",
       "    <th>2.637369</th>\n",
       "    <th>0.463782</th>\n",
       "  </tr>\n",
       "</table>\n"
      ],
      "text/plain": [
       "<IPython.core.display.HTML object>"
      ]
     },
     "metadata": {},
     "output_type": "display_data"
    }
   ],
   "source": [
    "learn.fit_one_cycle(1, 5e-2, moms=(0.8,0.7))"
   ]
  },
  {
   "cell_type": "code",
   "execution_count": 43,
   "metadata": {},
   "outputs": [
    {
     "data": {
      "text/html": [
       "Total time: 00:46 <p><table style='width:300px; margin-bottom:10px'>\n",
       "  <tr>\n",
       "    <th>epoch</th>\n",
       "    <th>train_loss</th>\n",
       "    <th>valid_loss</th>\n",
       "    <th>accuracy</th>\n",
       "  </tr>\n",
       "  <tr>\n",
       "    <th>1</th>\n",
       "    <th>2.812043</th>\n",
       "    <th>2.622832</th>\n",
       "    <th>0.465274</th>\n",
       "  </tr>\n",
       "</table>\n"
      ],
      "text/plain": [
       "<IPython.core.display.HTML object>"
      ]
     },
     "metadata": {},
     "output_type": "display_data"
    }
   ],
   "source": [
    "learn.fit_one_cycle(1, 5e-2, moms=(0.8,0.7))"
   ]
  },
  {
   "cell_type": "code",
   "execution_count": 44,
   "metadata": {},
   "outputs": [
    {
     "data": {
      "text/html": [
       "Total time: 00:46 <p><table style='width:300px; margin-bottom:10px'>\n",
       "  <tr>\n",
       "    <th>epoch</th>\n",
       "    <th>train_loss</th>\n",
       "    <th>valid_loss</th>\n",
       "    <th>accuracy</th>\n",
       "  </tr>\n",
       "  <tr>\n",
       "    <th>1</th>\n",
       "    <th>2.805906</th>\n",
       "    <th>2.618309</th>\n",
       "    <th>0.464394</th>\n",
       "  </tr>\n",
       "</table>\n"
      ],
      "text/plain": [
       "<IPython.core.display.HTML object>"
      ]
     },
     "metadata": {},
     "output_type": "display_data"
    }
   ],
   "source": [
    "learn.fit_one_cycle(1, 5e-2, moms=(0.8,0.7))"
   ]
  },
  {
   "cell_type": "code",
   "execution_count": 45,
   "metadata": {},
   "outputs": [],
   "source": [
    "learn.save('lm-contracts-3')"
   ]
  },
  {
   "cell_type": "code",
   "execution_count": 46,
   "metadata": {},
   "outputs": [
    {
     "data": {
      "text/plain": [
       "'notwithstanding anything , hereinafter adopted for the ancillary prosecution published determined change in sharps . as used herein minnesota law without regard to conflict of law rules principles of arizona rules . illinois left , in whole or british agent of illinois michigan law govern regulation rules of incorporation illinois . witness whereof thereunto and illinois law format . article xxup a. jr. michigan performable else michigan court national govern these day first santa clifton york as of june 27 , 2011 applicable principles regarding michigan law . xxup llc inc . granted as applied to submit to conflict between british'"
      ]
     },
     "execution_count": 46,
     "metadata": {},
     "output_type": "execute_result"
    }
   ],
   "source": [
    "learn.predict('notwithstanding', 100, no_unk=True, temperature=1.1, min_p=0.001)"
   ]
  },
  {
   "cell_type": "code",
   "execution_count": 47,
   "metadata": {},
   "outputs": [
    {
     "data": {
      "text/html": [
       "Total time: 00:46 <p><table style='width:300px; margin-bottom:10px'>\n",
       "  <tr>\n",
       "    <th>epoch</th>\n",
       "    <th>train_loss</th>\n",
       "    <th>valid_loss</th>\n",
       "    <th>accuracy</th>\n",
       "  </tr>\n",
       "  <tr>\n",
       "    <th>1</th>\n",
       "    <th>2.827155</th>\n",
       "    <th>2.617922</th>\n",
       "    <th>0.465102</th>\n",
       "  </tr>\n",
       "</table>\n"
      ],
      "text/plain": [
       "<IPython.core.display.HTML object>"
      ]
     },
     "metadata": {},
     "output_type": "display_data"
    }
   ],
   "source": [
    "learn.fit_one_cycle(1, 5e-2, moms=(0.8,0.7))"
   ]
  },
  {
   "cell_type": "code",
   "execution_count": 48,
   "metadata": {},
   "outputs": [
    {
     "data": {
      "text/html": [
       "Total time: 00:46 <p><table style='width:300px; margin-bottom:10px'>\n",
       "  <tr>\n",
       "    <th>epoch</th>\n",
       "    <th>train_loss</th>\n",
       "    <th>valid_loss</th>\n",
       "    <th>accuracy</th>\n",
       "  </tr>\n",
       "  <tr>\n",
       "    <th>1</th>\n",
       "    <th>2.830638</th>\n",
       "    <th>2.613534</th>\n",
       "    <th>0.464847</th>\n",
       "  </tr>\n",
       "</table>\n"
      ],
      "text/plain": [
       "<IPython.core.display.HTML object>"
      ]
     },
     "metadata": {},
     "output_type": "display_data"
    }
   ],
   "source": [
    "learn.fit_one_cycle(1, 5e-2, moms=(0.8,0.7))"
   ]
  },
  {
   "cell_type": "code",
   "execution_count": 49,
   "metadata": {},
   "outputs": [
    {
     "data": {
      "text/html": [
       "Total time: 00:46 <p><table style='width:300px; margin-bottom:10px'>\n",
       "  <tr>\n",
       "    <th>epoch</th>\n",
       "    <th>train_loss</th>\n",
       "    <th>valid_loss</th>\n",
       "    <th>accuracy</th>\n",
       "  </tr>\n",
       "  <tr>\n",
       "    <th>1</th>\n",
       "    <th>2.812400</th>\n",
       "    <th>2.621349</th>\n",
       "    <th>0.465756</th>\n",
       "  </tr>\n",
       "</table>\n"
      ],
      "text/plain": [
       "<IPython.core.display.HTML object>"
      ]
     },
     "metadata": {},
     "output_type": "display_data"
    }
   ],
   "source": [
    "learn.fit_one_cycle(1, 5e-2, moms=(0.8,0.7))"
   ]
  },
  {
   "cell_type": "code",
   "execution_count": 50,
   "metadata": {},
   "outputs": [],
   "source": [
    "learn.save('lm-contracts-4')"
   ]
  },
  {
   "cell_type": "code",
   "execution_count": 52,
   "metadata": {},
   "outputs": [],
   "source": [
    "learn.unfreeze()"
   ]
  },
  {
   "cell_type": "code",
   "execution_count": 53,
   "metadata": {},
   "outputs": [
    {
     "name": "stdout",
     "output_type": "stream",
     "text": [
      "LR Finder is complete, type {learner_name}.recorder.plot() to see the graph.\n"
     ]
    }
   ],
   "source": [
    "learn.lr_find()"
   ]
  },
  {
   "cell_type": "code",
   "execution_count": 54,
   "metadata": {},
   "outputs": [
    {
     "data": {
      "image/png": "[encoded data removed]",
      "text/plain": [
       "<Figure size 432x288 with 1 Axes>"
      ]
     },
     "metadata": {
      "needs_background": "light"
     },
     "output_type": "display_data"
    }
   ],
   "source": [
    "learn.recorder.plot()"
   ]
  },
  {
   "cell_type": "code",
   "execution_count": 55,
   "metadata": {},
   "outputs": [
    {
     "data": {
      "text/html": [
       "Total time: 01:53 <p><table style='width:300px; margin-bottom:10px'>\n",
       "  <tr>\n",
       "    <th>epoch</th>\n",
       "    <th>train_loss</th>\n",
       "    <th>valid_loss</th>\n",
       "    <th>accuracy</th>\n",
       "  </tr>\n",
       "  <tr>\n",
       "    <th>1</th>\n",
       "    <th>2.444747</th>\n",
       "    <th>2.353258</th>\n",
       "    <th>0.502102</th>\n",
       "  </tr>\n",
       "  <tr>\n",
       "    <th>2</th>\n",
       "    <th>2.095217</th>\n",
       "    <th>2.114243</th>\n",
       "    <th>0.541380</th>\n",
       "  </tr>\n",
       "</table>\n"
      ],
      "text/plain": [
       "<IPython.core.display.HTML object>"
      ]
     },
     "metadata": {},
     "output_type": "display_data"
    }
   ],
   "source": [
    "learn.fit_one_cycle(2, 1e-2, moms=(0.8,0.7))"
   ]
  },
  {
   "cell_type": "code",
   "execution_count": 56,
   "metadata": {},
   "outputs": [],
   "source": [
    "learn.save('lm-contracts-5')"
   ]
  },
  {
   "cell_type": "code",
   "execution_count": 57,
   "metadata": {},
   "outputs": [
    {
     "data": {
      "text/html": [
       "Total time: 01:54 <p><table style='width:300px; margin-bottom:10px'>\n",
       "  <tr>\n",
       "    <th>epoch</th>\n",
       "    <th>train_loss</th>\n",
       "    <th>valid_loss</th>\n",
       "    <th>accuracy</th>\n",
       "  </tr>\n",
       "  <tr>\n",
       "    <th>1</th>\n",
       "    <th>2.211192</th>\n",
       "    <th>2.221710</th>\n",
       "    <th>0.521343</th>\n",
       "  </tr>\n",
       "  <tr>\n",
       "    <th>2</th>\n",
       "    <th>1.899677</th>\n",
       "    <th>2.072465</th>\n",
       "    <th>0.550002</th>\n",
       "  </tr>\n",
       "</table>\n"
      ],
      "text/plain": [
       "<IPython.core.display.HTML object>"
      ]
     },
     "metadata": {},
     "output_type": "display_data"
    }
   ],
   "source": [
    "learn.fit_one_cycle(2, 1e-2, moms=(0.8,0.7))"
   ]
  },
  {
   "cell_type": "code",
   "execution_count": 58,
   "metadata": {},
   "outputs": [],
   "source": [
    "learn.save('lm-contracts-6')"
   ]
  },
  {
   "cell_type": "code",
   "execution_count": 59,
   "metadata": {},
   "outputs": [
    {
     "data": {
      "text/html": [
       "Total time: 01:54 <p><table style='width:300px; margin-bottom:10px'>\n",
       "  <tr>\n",
       "    <th>epoch</th>\n",
       "    <th>train_loss</th>\n",
       "    <th>valid_loss</th>\n",
       "    <th>accuracy</th>\n",
       "  </tr>\n",
       "  <tr>\n",
       "    <th>1</th>\n",
       "    <th>2.041009</th>\n",
       "    <th>2.164592</th>\n",
       "    <th>0.533516</th>\n",
       "  </tr>\n",
       "  <tr>\n",
       "    <th>2</th>\n",
       "    <th>1.748335</th>\n",
       "    <th>2.064763</th>\n",
       "    <th>0.553840</th>\n",
       "  </tr>\n",
       "</table>\n"
      ],
      "text/plain": [
       "<IPython.core.display.HTML object>"
      ]
     },
     "metadata": {},
     "output_type": "display_data"
    }
   ],
   "source": [
    "learn.fit_one_cycle(2, 1e-2, moms=(0.8,0.7))"
   ]
  },
  {
   "cell_type": "code",
   "execution_count": 60,
   "metadata": {},
   "outputs": [],
   "source": [
    "learn.save('lm-contracts-7')\n",
    "learn.save_encoder('lm-contracts-encoder-7')"
   ]
  },
  {
   "cell_type": "code",
   "execution_count": 61,
   "metadata": {},
   "outputs": [
    {
     "data": {
      "text/html": [
       "Total time: 01:54 <p><table style='width:300px; margin-bottom:10px'>\n",
       "  <tr>\n",
       "    <th>epoch</th>\n",
       "    <th>train_loss</th>\n",
       "    <th>valid_loss</th>\n",
       "    <th>accuracy</th>\n",
       "  </tr>\n",
       "  <tr>\n",
       "    <th>1</th>\n",
       "    <th>1.962554</th>\n",
       "    <th>2.163741</th>\n",
       "    <th>0.533685</th>\n",
       "  </tr>\n",
       "  <tr>\n",
       "    <th>2</th>\n",
       "    <th>1.615063</th>\n",
       "    <th>2.070282</th>\n",
       "    <th>0.554627</th>\n",
       "  </tr>\n",
       "</table>\n"
      ],
      "text/plain": [
       "<IPython.core.display.HTML object>"
      ]
     },
     "metadata": {},
     "output_type": "display_data"
    }
   ],
   "source": [
    "learn.fit_one_cycle(2, 1e-2, moms=(0.8,0.7))"
   ]
  },
  {
   "cell_type": "code",
   "execution_count": 62,
   "metadata": {},
   "outputs": [],
   "source": [
    "learn.save('lm-contracts-8')\n",
    "learn.save_encoder('lm-contracts-encoder-8')"
   ]
  },
  {
   "cell_type": "code",
   "execution_count": 63,
   "metadata": {},
   "outputs": [
    {
     "data": {
      "text/plain": [
       "'notwithstanding the foregoing , and the xxmaj employers right to indemnification under xxmaj section 15 of the xxmaj employment xxmaj agreement with respect to all other xxmaj executive xxmaj expenses , the \" xxmaj indemnification xxmaj obligations \" ) , unless the xxmaj employers meeting a xxmaj notice to the xxmaj trust xxmaj trust , the xxmaj operating xxmaj lead xxmaj assignees ) or other xxmaj senior xxmaj debt xxmaj partners ( except as otherwise required to do so ) to comply with applicable xxmaj regulations , the xxmaj bankruptcy xxmaj court and xxmaj new xxmaj york xxmaj legal xxmaj knowledge'"
      ]
     },
     "execution_count": 63,
     "metadata": {},
     "output_type": "execute_result"
    }
   ],
   "source": [
    "learn.predict('notwithstanding', 100, no_unk=True, temperature=1.1, min_p=0.001)"
   ]
  },
  {
   "cell_type": "code",
   "execution_count": 64,
   "metadata": {},
   "outputs": [
    {
     "data": {
      "text/plain": [
       "'successors and assigns , including any'"
      ]
     },
     "execution_count": 64,
     "metadata": {},
     "output_type": "execute_result"
    }
   ],
   "source": [
    "learn.predict('successors', 5)"
   ]
  },
  {
   "cell_type": "code",
   "execution_count": 65,
   "metadata": {},
   "outputs": [
    {
     "data": {
      "text/plain": [
       "'shall be deemed to be a'"
      ]
     },
     "execution_count": 65,
     "metadata": {},
     "output_type": "execute_result"
    }
   ],
   "source": [
    "learn.predict('shall', 5)"
   ]
  },
  {
   "cell_type": "code",
   "execution_count": 66,
   "metadata": {},
   "outputs": [
    {
     "data": {
      "text/plain": [
       "'may assign this xxmaj agreement to'"
      ]
     },
     "execution_count": 66,
     "metadata": {},
     "output_type": "execute_result"
    }
   ],
   "source": [
    "learn.predict('may', 5)"
   ]
  },
  {
   "cell_type": "code",
   "execution_count": 67,
   "metadata": {},
   "outputs": [
    {
     "data": {
      "text/plain": [
       "'consent to the assignment by the'"
      ]
     },
     "execution_count": 67,
     "metadata": {},
     "output_type": "execute_result"
    }
   ],
   "source": [
    "learn.predict('consent', 5)"
   ]
  },
  {
   "cell_type": "code",
   "execution_count": 68,
   "metadata": {},
   "outputs": [
    {
     "data": {
      "text/plain": [
       "'indemnify and hold xxmaj dr. xxmaj'"
      ]
     },
     "execution_count": 68,
     "metadata": {},
     "output_type": "execute_result"
    }
   ],
   "source": [
    "learn.predict('indemnify', 5)"
   ]
  },
  {
   "cell_type": "code",
   "execution_count": 69,
   "metadata": {},
   "outputs": [
    {
     "data": {
      "text/plain": [
       "'hold the non - breaching party receiving xxmaj party and xxmaj'"
      ]
     },
     "execution_count": 69,
     "metadata": {},
     "output_type": "execute_result"
    }
   ],
   "source": [
    "learn.predict('hold', 10)"
   ]
  },
  {
   "cell_type": "code",
   "execution_count": 70,
   "metadata": {},
   "outputs": [
    {
     "data": {
      "text/plain": [
       "'breach of covenant , or will while in paragraph metropcs indemnify'"
      ]
     },
     "execution_count": 70,
     "metadata": {},
     "output_type": "execute_result"
    }
   ],
   "source": [
    "learn.predict('breach', 10)"
   ]
  },
  {
   "cell_type": "code",
   "execution_count": 71,
   "metadata": {},
   "outputs": [
    {
     "data": {
      "text/html": [
       "Total time: 01:54 <p><table style='width:300px; margin-bottom:10px'>\n",
       "  <tr>\n",
       "    <th>epoch</th>\n",
       "    <th>train_loss</th>\n",
       "    <th>valid_loss</th>\n",
       "    <th>accuracy</th>\n",
       "  </tr>\n",
       "  <tr>\n",
       "    <th>1</th>\n",
       "    <th>1.850784</th>\n",
       "    <th>2.172463</th>\n",
       "    <th>0.536149</th>\n",
       "  </tr>\n",
       "  <tr>\n",
       "    <th>2</th>\n",
       "    <th>1.578478</th>\n",
       "    <th>2.080906</th>\n",
       "    <th>0.555969</th>\n",
       "  </tr>\n",
       "</table>\n"
      ],
      "text/plain": [
       "<IPython.core.display.HTML object>"
      ]
     },
     "metadata": {},
     "output_type": "display_data"
    }
   ],
   "source": [
    "learn.fit_one_cycle(2, 1e-2, moms=(0.8,0.7))"
   ]
  },
  {
   "cell_type": "code",
   "execution_count": 72,
   "metadata": {},
   "outputs": [
    {
     "data": {
      "text/html": [
       "Total time: 01:53 <p><table style='width:300px; margin-bottom:10px'>\n",
       "  <tr>\n",
       "    <th>epoch</th>\n",
       "    <th>train_loss</th>\n",
       "    <th>valid_loss</th>\n",
       "    <th>accuracy</th>\n",
       "  </tr>\n",
       "  <tr>\n",
       "    <th>1</th>\n",
       "    <th>1.781991</th>\n",
       "    <th>2.139250</th>\n",
       "    <th>0.540351</th>\n",
       "  </tr>\n",
       "  <tr>\n",
       "    <th>2</th>\n",
       "    <th>1.436057</th>\n",
       "    <th>2.080374</th>\n",
       "    <th>0.557310</th>\n",
       "  </tr>\n",
       "</table>\n"
      ],
      "text/plain": [
       "<IPython.core.display.HTML object>"
      ]
     },
     "metadata": {},
     "output_type": "display_data"
    }
   ],
   "source": [
    "learn.fit_one_cycle(2, 1e-2, moms=(0.8,0.7))"
   ]
  },
  {
   "cell_type": "code",
   "execution_count": 73,
   "metadata": {},
   "outputs": [],
   "source": [
    "learn.save('lm-contracts-9')\n",
    "learn.save_encoder('lm-contracts-encoder-9')"
   ]
  },
  {
   "cell_type": "code",
   "execution_count": 74,
   "metadata": {},
   "outputs": [
    {
     "data": {
      "text/html": [
       "Total time: 01:54 <p><table style='width:300px; margin-bottom:10px'>\n",
       "  <tr>\n",
       "    <th>epoch</th>\n",
       "    <th>train_loss</th>\n",
       "    <th>valid_loss</th>\n",
       "    <th>accuracy</th>\n",
       "  </tr>\n",
       "  <tr>\n",
       "    <th>1</th>\n",
       "    <th>1.713021</th>\n",
       "    <th>2.169981</th>\n",
       "    <th>0.539731</th>\n",
       "  </tr>\n",
       "  <tr>\n",
       "    <th>2</th>\n",
       "    <th>1.448774</th>\n",
       "    <th>2.101666</th>\n",
       "    <th>0.557274</th>\n",
       "  </tr>\n",
       "</table>\n"
      ],
      "text/plain": [
       "<IPython.core.display.HTML object>"
      ]
     },
     "metadata": {},
     "output_type": "display_data"
    }
   ],
   "source": [
    "learn.fit_one_cycle(2, 1e-2, moms=(0.8,0.7))"
   ]
  },
  {
   "cell_type": "code",
   "execution_count": 75,
   "metadata": {},
   "outputs": [],
   "source": [
    "learn.load('lm-contracts-9');"
   ]
  },
  {
   "cell_type": "markdown",
   "metadata": {},
   "source": [
    "# Classifier"
   ]
  },
  {
   "cell_type": "markdown",
   "metadata": {},
   "source": [
    "#### Create classification data bunch making sure to use the data_lm.vocab"
   ]
  },
  {
   "cell_type": "code",
   "execution_count": 77,
   "metadata": {},
   "outputs": [],
   "source": [
    "data_clas = (TextDataBunch.from_csv(path, 'all-provisions.csv',\n",
    "                              vocab=data_lm.vocab,\n",
    "                              text_cols='snippet',\n",
    "                              label_cols='label',\n",
    "                              valid_pct=0.2))"
   ]
  },
  {
   "cell_type": "code",
   "execution_count": 78,
   "metadata": {},
   "outputs": [],
   "source": [
    "data_clas.save('tmp_clas')"
   ]
  },
  {
   "cell_type": "code",
   "execution_count": 79,
   "metadata": {},
   "outputs": [
    {
     "data": {
      "text/html": [
       "<table>  <col width='90%'>  <col width='10%'>  <tr>\n",
       "    <th>text</th>\n",
       "    <th>target</th>\n",
       "  </tr>\n",
       "  <tr>\n",
       "    <th>xxbos xxmaj this xxmaj agreement shall be governed by the laws of the state of xxmaj florida . xxup in xxup witness xxup whereof , the xxmaj parties hereto have caused their names to be subscribed and executed by the respective authorized officers on the dates indicated , effective as of the date first written above . xxup applied xxup digital xxup solutions , xxup inc . xxmaj by :</th>\n",
       "    <th>governing-law</th>\n",
       "  </tr>\n",
       "  <tr>\n",
       "    <th>xxbos xxmaj this xxmaj letter may be executed in any number of counterparts and this has the same effect as if the signatures on the counterparts were on a single copy of this xxmaj letter . xxmaj please sign below in agreement of this xxmaj letter . xxmaj yours faithfully , xxmaj australia and xxmaj new xxmaj zealand xxmaj banking xxmaj group xxmaj limited xxmaj by : / s /</th>\n",
       "    <th>counterparts</th>\n",
       "  </tr>\n",
       "  <tr>\n",
       "    <th>xxbos xxmaj this letter and any non - contractual obligations arising out of or in connection with it are governed by xxmaj english law . xxup torm a / s for itself and as agent for each of the other xxmaj obligors party to each of the xxmaj agreements } / s / xxmaj mads xxmaj peter xxmaj zacho xxmaj by : xxmaj agreed and acknowledged by : xxup torm</th>\n",
       "    <th>governing-law</th>\n",
       "  </tr>\n",
       "  <tr>\n",
       "    <th>xxbos xxmaj the company and each of its subsidiaries shall , to the maximum extent provided under applicable law , indemnify and hold xxmaj employee harmless from and against any expenses , including reasonable attorney 's fees , judgments , fines , settlements and other legally permissible amounts ( \" xxmaj losses \" ) , incurred in connection with any proceeding arising out of , or related to , xxmaj</th>\n",
       "    <th>indemnification</th>\n",
       "  </tr>\n",
       "  <tr>\n",
       "    <th>xxbos xxmaj neither party may assign , delegate or otherwise transfer this xxmaj agreement or any of its rights or obligations hereunder without the other partys prior approval , which approval will not be unreasonably withheld or delayed . xxmaj any attempt to do so without such approval will be void . xxmaj subject to the limitations contained herein , xxup csg may assign this xxmaj agreement , upon notice</th>\n",
       "    <th>assignment</th>\n",
       "  </tr>\n",
       "</table>\n"
      ],
      "text/plain": [
       "<IPython.core.display.HTML object>"
      ]
     },
     "metadata": {},
     "output_type": "display_data"
    }
   ],
   "source": [
    "data_clas.show_batch()"
   ]
  },
  {
   "cell_type": "code",
   "execution_count": 80,
   "metadata": {},
   "outputs": [
    {
     "data": {
      "text/plain": [
       "14345"
      ]
     },
     "execution_count": 80,
     "metadata": {},
     "output_type": "execute_result"
    }
   ],
   "source": [
    "len(data_clas.train_ds)"
   ]
  },
  {
   "cell_type": "code",
   "execution_count": 81,
   "metadata": {},
   "outputs": [
    {
     "data": {
      "text/plain": [
       "3587"
      ]
     },
     "execution_count": 81,
     "metadata": {},
     "output_type": "execute_result"
    }
   ],
   "source": [
    "len(data_clas.valid_ds)"
   ]
  },
  {
   "cell_type": "code",
   "execution_count": 82,
   "metadata": {},
   "outputs": [],
   "source": [
    "data_clas = TextClasDataBunch.load(path, 'tmp_clas', bs=bs)"
   ]
  },
  {
   "cell_type": "markdown",
   "metadata": {},
   "source": [
    "### Create classification learner using encodings from language model"
   ]
  },
  {
   "cell_type": "code",
   "execution_count": 93,
   "metadata": {},
   "outputs": [],
   "source": [
    "learn_clas = text_classifier_learner(data_clas, drop_mult=0.5)\n",
    "learn_clas.load_encoder('lm-contracts-encoder-9')\n",
    "learn_clas.freeze()"
   ]
  },
  {
   "cell_type": "code",
   "execution_count": 94,
   "metadata": {},
   "outputs": [
    {
     "name": "stdout",
     "output_type": "stream",
     "text": [
      "LR Finder is complete, type {learner_name}.recorder.plot() to see the graph.\n"
     ]
    }
   ],
   "source": [
    "learn_clas.lr_find()"
   ]
  },
  {
   "cell_type": "code",
   "execution_count": 95,
   "metadata": {},
   "outputs": [
    {
     "data": {
      "image/png": "[encoded data removed]",
      "text/plain": [
       "<Figure size 432x288 with 1 Axes>"
      ]
     },
     "metadata": {
      "needs_background": "light"
     },
     "output_type": "display_data"
    }
   ],
   "source": [
    "learn_clas.recorder.plot()"
   ]
  },
  {
   "cell_type": "code",
   "execution_count": 98,
   "metadata": {},
   "outputs": [
    {
     "data": {
      "text/html": [
       "Total time: 00:49 <p><table style='width:300px; margin-bottom:10px'>\n",
       "  <tr>\n",
       "    <th>epoch</th>\n",
       "    <th>train_loss</th>\n",
       "    <th>valid_loss</th>\n",
       "    <th>accuracy</th>\n",
       "  </tr>\n",
       "  <tr>\n",
       "    <th>1</th>\n",
       "    <th>0.400464</th>\n",
       "    <th>0.206527</th>\n",
       "    <th>0.932534</th>\n",
       "  </tr>\n",
       "</table>\n"
      ],
      "text/plain": [
       "<IPython.core.display.HTML object>"
      ]
     },
     "metadata": {},
     "output_type": "display_data"
    }
   ],
   "source": [
    "learn_clas.fit_one_cycle(1, 1e-2, moms=(0.8,0.7))"
   ]
  },
  {
   "cell_type": "code",
   "execution_count": 99,
   "metadata": {},
   "outputs": [
    {
     "data": {
      "text/html": [
       "Total time: 04:18 <p><table style='width:300px; margin-bottom:10px'>\n",
       "  <tr>\n",
       "    <th>epoch</th>\n",
       "    <th>train_loss</th>\n",
       "    <th>valid_loss</th>\n",
       "    <th>accuracy</th>\n",
       "  </tr>\n",
       "  <tr>\n",
       "    <th>1</th>\n",
       "    <th>0.390085</th>\n",
       "    <th>0.204486</th>\n",
       "    <th>0.928910</th>\n",
       "  </tr>\n",
       "  <tr>\n",
       "    <th>2</th>\n",
       "    <th>0.384188</th>\n",
       "    <th>0.191242</th>\n",
       "    <th>0.939783</th>\n",
       "  </tr>\n",
       "  <tr>\n",
       "    <th>3</th>\n",
       "    <th>0.397276</th>\n",
       "    <th>0.165645</th>\n",
       "    <th>0.944522</th>\n",
       "  </tr>\n",
       "  <tr>\n",
       "    <th>4</th>\n",
       "    <th>0.359644</th>\n",
       "    <th>0.170719</th>\n",
       "    <th>0.942570</th>\n",
       "  </tr>\n",
       "  <tr>\n",
       "    <th>5</th>\n",
       "    <th>0.356061</th>\n",
       "    <th>0.164166</th>\n",
       "    <th>0.943128</th>\n",
       "  </tr>\n",
       "</table>\n"
      ],
      "text/plain": [
       "<IPython.core.display.HTML object>"
      ]
     },
     "metadata": {},
     "output_type": "display_data"
    }
   ],
   "source": [
    "learn_clas.fit_one_cycle(5, 1e-2, moms=(0.8,0.7))"
   ]
  },
  {
   "cell_type": "code",
   "execution_count": 100,
   "metadata": {},
   "outputs": [],
   "source": [
    "learn_clas.save('clas-contracts-1')"
   ]
  },
  {
   "cell_type": "code",
   "execution_count": 102,
   "metadata": {},
   "outputs": [
    {
     "data": {
      "text/html": [
       "Total time: 00:50 <p><table style='width:300px; margin-bottom:10px'>\n",
       "  <tr>\n",
       "    <th>epoch</th>\n",
       "    <th>train_loss</th>\n",
       "    <th>valid_loss</th>\n",
       "    <th>accuracy</th>\n",
       "  </tr>\n",
       "  <tr>\n",
       "    <th>1</th>\n",
       "    <th>0.198079</th>\n",
       "    <th>0.162893</th>\n",
       "    <th>0.959297</th>\n",
       "  </tr>\n",
       "</table>\n"
      ],
      "text/plain": [
       "<IPython.core.display.HTML object>"
      ]
     },
     "metadata": {},
     "output_type": "display_data"
    }
   ],
   "source": [
    "learn_clas.freeze_to(-2)\n",
    "learn_clas.fit_one_cycle(1, slice(1e-2/(2.6**4),1e-2), moms=(0.8,0.7))"
   ]
  },
  {
   "cell_type": "code",
   "execution_count": 103,
   "metadata": {},
   "outputs": [],
   "source": [
    "learn_clas.save('clas-contracts-2')"
   ]
  },
  {
   "cell_type": "code",
   "execution_count": 104,
   "metadata": {},
   "outputs": [
    {
     "data": {
      "text/html": [
       "Total time: 01:52 <p><table style='width:300px; margin-bottom:10px'>\n",
       "  <tr>\n",
       "    <th>epoch</th>\n",
       "    <th>train_loss</th>\n",
       "    <th>valid_loss</th>\n",
       "    <th>accuracy</th>\n",
       "  </tr>\n",
       "  <tr>\n",
       "    <th>1</th>\n",
       "    <th>0.249245</th>\n",
       "    <th>0.146266</th>\n",
       "    <th>0.962643</th>\n",
       "  </tr>\n",
       "  <tr>\n",
       "    <th>2</th>\n",
       "    <th>0.168718</th>\n",
       "    <th>0.093460</th>\n",
       "    <th>0.969612</th>\n",
       "  </tr>\n",
       "</table>\n"
      ],
      "text/plain": [
       "<IPython.core.display.HTML object>"
      ]
     },
     "metadata": {},
     "output_type": "display_data"
    }
   ],
   "source": [
    "learn_clas.fit_one_cycle(2, slice(1e-2/(2.6**4),1e-2), moms=(0.8,0.7))"
   ]
  },
  {
   "cell_type": "code",
   "execution_count": 105,
   "metadata": {},
   "outputs": [],
   "source": [
    "learn_clas.save('clas-contracts-3')"
   ]
  },
  {
   "cell_type": "code",
   "execution_count": 106,
   "metadata": {},
   "outputs": [
    {
     "data": {
      "text/html": [
       "Total time: 01:34 <p><table style='width:300px; margin-bottom:10px'>\n",
       "  <tr>\n",
       "    <th>epoch</th>\n",
       "    <th>train_loss</th>\n",
       "    <th>valid_loss</th>\n",
       "    <th>accuracy</th>\n",
       "  </tr>\n",
       "  <tr>\n",
       "    <th>1</th>\n",
       "    <th>0.110685</th>\n",
       "    <th>0.096308</th>\n",
       "    <th>0.969334</th>\n",
       "  </tr>\n",
       "</table>\n"
      ],
      "text/plain": [
       "<IPython.core.display.HTML object>"
      ]
     },
     "metadata": {},
     "output_type": "display_data"
    }
   ],
   "source": [
    "learn_clas.freeze_to(-3)\n",
    "learn_clas.fit_one_cycle(1, slice(5e-3/(2.6**4),5e-3), moms=(0.8,0.7))"
   ]
  },
  {
   "cell_type": "code",
   "execution_count": 107,
   "metadata": {},
   "outputs": [
    {
     "data": {
      "text/html": [
       "Total time: 03:52 <p><table style='width:300px; margin-bottom:10px'>\n",
       "  <tr>\n",
       "    <th>epoch</th>\n",
       "    <th>train_loss</th>\n",
       "    <th>valid_loss</th>\n",
       "    <th>accuracy</th>\n",
       "  </tr>\n",
       "  <tr>\n",
       "    <th>1</th>\n",
       "    <th>0.121288</th>\n",
       "    <th>0.098809</th>\n",
       "    <th>0.968219</th>\n",
       "  </tr>\n",
       "  <tr>\n",
       "    <th>2</th>\n",
       "    <th>0.095810</th>\n",
       "    <th>0.099967</th>\n",
       "    <th>0.968776</th>\n",
       "  </tr>\n",
       "</table>\n"
      ],
      "text/plain": [
       "<IPython.core.display.HTML object>"
      ]
     },
     "metadata": {},
     "output_type": "display_data"
    }
   ],
   "source": [
    "learn_clas.unfreeze()\n",
    "learn_clas.fit_one_cycle(2, slice(1e-3/(2.6**4),1e-3), moms=(0.8,0.7))"
   ]
  },
  {
   "cell_type": "code",
   "execution_count": 108,
   "metadata": {},
   "outputs": [],
   "source": [
    "learn_clas.save('clas-contracts-4')"
   ]
  },
  {
   "cell_type": "code",
   "execution_count": 109,
   "metadata": {},
   "outputs": [
    {
     "data": {
      "text/html": [
       "Total time: 03:42 <p><table style='width:300px; margin-bottom:10px'>\n",
       "  <tr>\n",
       "    <th>epoch</th>\n",
       "    <th>train_loss</th>\n",
       "    <th>valid_loss</th>\n",
       "    <th>accuracy</th>\n",
       "  </tr>\n",
       "  <tr>\n",
       "    <th>1</th>\n",
       "    <th>0.100995</th>\n",
       "    <th>0.096406</th>\n",
       "    <th>0.969891</th>\n",
       "  </tr>\n",
       "  <tr>\n",
       "    <th>2</th>\n",
       "    <th>0.101353</th>\n",
       "    <th>0.097818</th>\n",
       "    <th>0.969334</th>\n",
       "  </tr>\n",
       "</table>\n"
      ],
      "text/plain": [
       "<IPython.core.display.HTML object>"
      ]
     },
     "metadata": {},
     "output_type": "display_data"
    }
   ],
   "source": [
    "learn_clas.fit_one_cycle(2, slice(1e-3/(2.6**4),1e-3), moms=(0.8,0.7))"
   ]
  },
  {
   "cell_type": "code",
   "execution_count": 110,
   "metadata": {},
   "outputs": [],
   "source": [
    "learn_clas.save('clas-contracts-5')"
   ]
  },
  {
   "cell_type": "code",
   "execution_count": 111,
   "metadata": {},
   "outputs": [
    {
     "data": {
      "text/html": [
       "Total time: 03:31 <p><table style='width:300px; margin-bottom:10px'>\n",
       "  <tr>\n",
       "    <th>epoch</th>\n",
       "    <th>train_loss</th>\n",
       "    <th>valid_loss</th>\n",
       "    <th>accuracy</th>\n",
       "  </tr>\n",
       "  <tr>\n",
       "    <th>1</th>\n",
       "    <th>0.090333</th>\n",
       "    <th>0.099109</th>\n",
       "    <th>0.969055</th>\n",
       "  </tr>\n",
       "  <tr>\n",
       "    <th>2</th>\n",
       "    <th>0.120555</th>\n",
       "    <th>0.097071</th>\n",
       "    <th>0.969612</th>\n",
       "  </tr>\n",
       "</table>\n"
      ],
      "text/plain": [
       "<IPython.core.display.HTML object>"
      ]
     },
     "metadata": {},
     "output_type": "display_data"
    }
   ],
   "source": [
    "learn_clas.fit_one_cycle(2, slice(1e-3/(2.6**4),1e-3), moms=(0.8,0.7))"
   ]
  },
  {
   "cell_type": "code",
   "execution_count": 112,
   "metadata": {},
   "outputs": [],
   "source": [
    "learn_clas.save('clas-contracts-6')"
   ]
  },
  {
   "cell_type": "markdown",
   "metadata": {},
   "source": [
    "## Interpretation"
   ]
  },
  {
   "cell_type": "code",
   "execution_count": 114,
   "metadata": {},
   "outputs": [],
   "source": [
    "from fastai.vision import ClassificationInterpretation"
   ]
  },
  {
   "cell_type": "code",
   "execution_count": 115,
   "metadata": {},
   "outputs": [],
   "source": [
    "interp = ClassificationInterpretation.from_learner(learn_clas)"
   ]
  },
  {
   "cell_type": "code",
   "execution_count": 116,
   "metadata": {},
   "outputs": [
    {
     "data": {
      "image/png": "[encoded data removed]",
      "text/plain": [
       "<Figure size 720x720 with 1 Axes>"
      ]
     },
     "metadata": {
      "needs_background": "light"
     },
     "output_type": "display_data"
    }
   ],
   "source": [
    "interp.plot_confusion_matrix(figsize=(12,12), dpi=60)"
   ]
  },
  {
   "cell_type": "code",
   "execution_count": 117,
   "metadata": {},
   "outputs": [
    {
     "data": {
      "text/plain": [
       "[('confidentiality', 'indemnification', 15),\n",
       " ('indemnification', 'confidentiality', 12),\n",
       " ('confidentiality', 'assignment', 10),\n",
       " ('confidentiality', 'governing-law', 9),\n",
       " ('assignment', 'confidentiality', 8),\n",
       " ('governing-law', 'indemnification', 7),\n",
       " ('assignment', 'indemnification', 6),\n",
       " ('confidentiality', 'counterparts', 6),\n",
       " ('indemnification', 'governing-law', 6),\n",
       " ('indemnification', 'counterparts', 5),\n",
       " ('assignment', 'counterparts', 4),\n",
       " ('governing-law', 'counterparts', 4),\n",
       " ('counterparts', 'confidentiality', 3),\n",
       " ('counterparts', 'governing-law', 3),\n",
       " ('indemnification', 'assignment', 3),\n",
       " ('counterparts', 'assignment', 2),\n",
       " ('governing-law', 'assignment', 2),\n",
       " ('governing-law', 'confidentiality', 2)]"
      ]
     },
     "execution_count": 117,
     "metadata": {},
     "output_type": "execute_result"
    }
   ],
   "source": [
    "interp.most_confused()"
   ]
  },
  {
   "cell_type": "code",
   "execution_count": 118,
   "metadata": {},
   "outputs": [
    {
     "data": {
      "text/plain": [
       "(Category assignment,\n",
       " tensor(0),\n",
       " tensor([0.7948, 0.0329, 0.0672, 0.1041, 0.0011]))"
      ]
     },
     "execution_count": 118,
     "metadata": {},
     "output_type": "execute_result"
    }
   ],
   "source": [
    "learn_clas.predict('This agreement is not assignaable.')"
   ]
  },
  {
   "cell_type": "code",
   "execution_count": 119,
   "metadata": {},
   "outputs": [
    {
     "data": {
      "text/plain": [
       "(Category counterparts,\n",
       " tensor(2),\n",
       " tensor([4.1410e-08, 1.2112e-09, 1.0000e+00, 5.1746e-11, 3.0438e-09]))"
      ]
     },
     "execution_count": 119,
     "metadata": {},
     "output_type": "execute_result"
    }
   ],
   "source": [
    "learn_clas.predict('This agreement may be executed in multiple counterparts each of which shall be deemed an original.')"
   ]
  },
  {
   "cell_type": "code",
   "execution_count": 125,
   "metadata": {},
   "outputs": [
    {
     "data": {
      "text/plain": [
       "(Category counterparts,\n",
       " tensor(2),\n",
       " tensor([4.5902e-36, 3.6797e-21, 1.0000e+00, 5.1492e-34, 3.2065e-27]))"
      ]
     },
     "execution_count": 125,
     "metadata": {},
     "output_type": "execute_result"
    }
   ],
   "source": [
    "# incorrect\n",
    "# note that the counterparts class was the least represented in the data with 1920 samples versus 3-4k for the others\n",
    "\n",
    "learn_clas.predict(\"Buyer must indemnify seller for any losses caused by Buyer's actions or inactions post-closing\")"
   ]
  },
  {
   "cell_type": "code",
   "execution_count": 122,
   "metadata": {},
   "outputs": [
    {
     "data": {
      "text/plain": [
       "(Category governing-law,\n",
       " tensor(3),\n",
       " tensor([1.8565e-06, 1.2060e-05, 2.5003e-06, 9.9996e-01, 2.8114e-05]))"
      ]
     },
     "execution_count": 122,
     "metadata": {},
     "output_type": "execute_result"
    }
   ],
   "source": [
    "learn_clas.predict('This agreement is governed by the laws of California.')"
   ]
  },
  {
   "cell_type": "code",
   "execution_count": 123,
   "metadata": {},
   "outputs": [
    {
     "data": {
      "text/plain": [
       "(Category confidentiality,\n",
       " tensor(1),\n",
       " tensor([1.2607e-03, 9.9747e-01, 5.5175e-04, 2.2544e-04, 4.9173e-04]))"
      ]
     },
     "execution_count": 123,
     "metadata": {},
     "output_type": "execute_result"
    }
   ],
   "source": [
    "learn_clas.predict('Buyer may not disclose any of the materials provided by Seller in connection with Buyer due diligence.')"
   ]
  },
  {
   "cell_type": "code",
   "execution_count": 124,
   "metadata": {},
   "outputs": [
    {
     "data": {
      "text/plain": [
       "(Category indemnification,\n",
       " tensor(4),\n",
       " tensor([1.0465e-05, 4.5394e-05, 6.5154e-06, 5.4194e-07, 9.9994e-01]))"
      ]
     },
     "execution_count": 124,
     "metadata": {},
     "output_type": "execute_result"
    }
   ],
   "source": [
    "learn_clas.predict('Each party shall indemnify the other for any losses caused by the gross negligence of willful misconduct of the other party.')"
   ]
  },
  {
   "cell_type": "code",
   "execution_count": null,
   "metadata": {},
   "outputs": [],
   "source": []
  }
 ],
 "metadata": {
  "kernelspec": {
   "display_name": "Python 3",
   "language": "python",
   "name": "python3"
  },
  "language_info": {
   "codemirror_mode": {
    "name": "ipython",
    "version": 3
   },
   "file_extension": ".py",
   "mimetype": "text/x-python",
   "name": "python",
   "nbconvert_exporter": "python",
   "pygments_lexer": "ipython3",
   "version": "3.6.7"
  }
 },
 "nbformat": 4,
 "nbformat_minor": 2
}
